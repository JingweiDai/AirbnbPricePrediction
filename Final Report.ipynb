{
 "cells": [
  {
   "cell_type": "markdown",
   "metadata": {},
   "source": [
    "<div align=center><font size=5>A Price Prediction Model for Airbnb Houses Based on Text Mining and Picture Analysis</font></div>\n",
    "\n",
    "<div align=center><font size=4>Jingwei Dai</font></div>\n",
    "\n",
    "<div align=center><font size=4>Contents</font></div>\n",
    "\n",
    "<font size=4>Part 1. Background</font>\n",
    "\n",
    "<font size=4>Part 2. Text Mining of Reviews: Topic Modelling, LDA Model, and Sentiment Analysis</font>\n",
    "\n",
    "<font size=4>Part 3. Picture Analysis: K-Means Clustering, Convolutional Neural Network, and OpenCV, Detecting the Color Tone of the Pictures</font>\n",
    "\n",
    "<font size=4>Part 4. Regression Analysis</font>\n",
    "\n"
   ]
  },
  {
   "cell_type": "markdown",
   "metadata": {
    "ExecuteTime": {
     "end_time": "2021-11-23T06:35:24.060567Z",
     "start_time": "2021-11-23T06:35:24.054995Z"
    }
   },
   "source": [
    "## Background\n"
   ]
  },
  {
   "cell_type": "markdown",
   "metadata": {},
   "source": [
    "### Background\n",
    "\n",
    "\n",
    "This data documents the listings of airbnb houses in New York City on Sep. 2nd, 2021 and their characteristics, including picture urls, review details, prices, potential demand in the next month, etc. I intend to utilize the house attributes to predict their listing prices, serving as a model for hosts to price their properties."
   ]
  },
  {
   "cell_type": "code",
   "execution_count": 39,
   "metadata": {
    "ExecuteTime": {
     "end_time": "2021-11-24T01:26:07.910504Z",
     "start_time": "2021-11-24T01:26:07.893683Z"
    }
   },
   "outputs": [],
   "source": [
    "import warnings\n",
    "warnings.filterwarnings('ignore')\n",
    "import pandas as pd\n",
    "import matplotlib.pyplot as plt\n",
    "import seaborn as sns\n",
    "import numpy as np\n",
    "import re\n",
    "import nltk\n",
    "from nltk.corpus import stopwords\n",
    "from nltk.tokenize import RegexpTokenizer\n",
    "from nltk.corpus import names\n",
    "from nltk.corpus import wordnet as wn\n",
    "import gensim\n",
    "from gensim import corpora\n",
    "from gensim.models import LdaModel\n",
    "import pyLDAvis\n",
    "import pyLDAvis.gensim\n",
    "from sklearn.model_selection import train_test_split\n",
    "from sklearn.feature_extraction.text import CountVectorizer\n",
    "from sklearn.naive_bayes import MultinomialNB\n",
    "from sklearn import metrics\n",
    "from nltk.sentiment.vader import SentimentIntensityAnalyzer"
   ]
  },
  {
   "cell_type": "code",
   "execution_count": 37,
   "metadata": {
    "ExecuteTime": {
     "end_time": "2021-11-24T01:25:49.192865Z",
     "start_time": "2021-11-24T01:25:49.102923Z"
    }
   },
   "outputs": [
    {
     "name": "stderr",
     "output_type": "stream",
     "text": [
      "[nltk_data] Downloading package stopwords to\n",
      "[nltk_data]     /home/elft21/jietechen3/nltk_data...\n",
      "[nltk_data]   Package stopwords is already up-to-date!\n",
      "[nltk_data] Downloading package words to\n",
      "[nltk_data]     /home/elft21/jietechen3/nltk_data...\n",
      "[nltk_data]   Package words is already up-to-date!\n",
      "[nltk_data] Downloading package names to\n",
      "[nltk_data]     /home/elft21/jietechen3/nltk_data...\n",
      "[nltk_data]   Package names is already up-to-date!\n",
      "[nltk_data] Downloading package wordnet to\n",
      "[nltk_data]     /home/elft21/jietechen3/nltk_data...\n",
      "[nltk_data]   Package wordnet is already up-to-date!\n",
      "[nltk_data] Downloading package vader_lexicon to\n",
      "[nltk_data]     /home/elft21/jietechen3/nltk_data...\n",
      "[nltk_data]   Package vader_lexicon is already up-to-date!\n"
     ]
    },
    {
     "data": {
      "text/plain": [
       "True"
      ]
     },
     "execution_count": 37,
     "metadata": {},
     "output_type": "execute_result"
    }
   ],
   "source": [
    "nltk.download('stopwords')\n",
    "nltk.download('words')\n",
    "nltk.download('names')\n",
    "nltk.download('wordnet')\n",
    "nltk.download('vader_lexicon')\n"
   ]
  },
  {
   "cell_type": "markdown",
   "metadata": {},
   "source": [
    "## Text Mining of Reviews: Topic Modelling, LDA Model, and Sentiment Analysis"
   ]
  },
  {
   "cell_type": "markdown",
   "metadata": {},
   "source": [
    "In this section, we would do natural language processing. We employ topic modeling methods and LDA Model to do sentiment analysis for the reviews of Airbnb houses, so as to obtain how previous renters view and comment the houses and the hosts. We would generate a variable that quanitifies the overall attitude of each comment, composing from their positive, negative, and neural attitude respectively. Then we would use the outcome as an important variable for later regression and comprehensive analysis, so as to represent and quantify the effect of Word-of-Mouth on prices."
   ]
  },
  {
   "cell_type": "markdown",
   "metadata": {},
   "source": [
    "### Data Cleaning"
   ]
  },
  {
   "cell_type": "markdown",
   "metadata": {},
   "source": [
    "#### Load Datasets"
   ]
  },
  {
   "cell_type": "code",
   "execution_count": 5,
   "metadata": {
    "ExecuteTime": {
     "end_time": "2021-11-23T06:58:56.329880Z",
     "start_time": "2021-11-23T06:58:50.946728Z"
    }
   },
   "outputs": [],
   "source": [
    "reviews = pd.read_csv('reviews.csv')\n",
    "listings = pd.read_csv('listings.csv', low_memory = False,encoding = \"ISO-8859-1\")\n",
    "# select columns in reviews df that are useful later\n",
    "reviews0 = reviews[['listing_id', 'comments']]\n",
    "reviews1 = reviews0.dropna(axis=0, how='any')\n",
    "reviews2 = reviews1.rename(columns = {'listing_id':'id'})\n",
    "# select columns in listings df that are useful later\n",
    "listings0 = listings[['id', 'host_is_superhost', 'price', 'number_of_reviews', 'review_scores_rating']]\n",
    "listings1 = listings0.dropna(axis=0, how='any')"
   ]
  },
  {
   "cell_type": "code",
   "execution_count": 7,
   "metadata": {
    "ExecuteTime": {
     "end_time": "2021-11-23T07:00:49.098333Z",
     "start_time": "2021-11-23T07:00:48.821588Z"
    }
   },
   "outputs": [
    {
     "data": {
      "text/html": [
       "<div>\n",
       "<style scoped>\n",
       "    .dataframe tbody tr th:only-of-type {\n",
       "        vertical-align: middle;\n",
       "    }\n",
       "\n",
       "    .dataframe tbody tr th {\n",
       "        vertical-align: top;\n",
       "    }\n",
       "\n",
       "    .dataframe thead th {\n",
       "        text-align: right;\n",
       "    }\n",
       "</style>\n",
       "<table border=\"1\" class=\"dataframe\">\n",
       "  <thead>\n",
       "    <tr style=\"text-align: right;\">\n",
       "      <th></th>\n",
       "      <th>id</th>\n",
       "      <th>comments</th>\n",
       "      <th>host_is_superhost</th>\n",
       "      <th>price</th>\n",
       "      <th>number_of_reviews</th>\n",
       "      <th>review_scores_rating</th>\n",
       "    </tr>\n",
       "  </thead>\n",
       "  <tbody>\n",
       "    <tr>\n",
       "      <th>0</th>\n",
       "      <td>2595</td>\n",
       "      <td>Notre séjour de trois nuits.\\r&lt;br/&gt;Nous avons ...</td>\n",
       "      <td>f</td>\n",
       "      <td>$150.00</td>\n",
       "      <td>48.0</td>\n",
       "      <td>4.7</td>\n",
       "    </tr>\n",
       "    <tr>\n",
       "      <th>1</th>\n",
       "      <td>2595</td>\n",
       "      <td>Great experience.</td>\n",
       "      <td>f</td>\n",
       "      <td>$150.00</td>\n",
       "      <td>48.0</td>\n",
       "      <td>4.7</td>\n",
       "    </tr>\n",
       "    <tr>\n",
       "      <th>2</th>\n",
       "      <td>2595</td>\n",
       "      <td>I've stayed with my friend at the Midtown Cast...</td>\n",
       "      <td>f</td>\n",
       "      <td>$150.00</td>\n",
       "      <td>48.0</td>\n",
       "      <td>4.7</td>\n",
       "    </tr>\n",
       "    <tr>\n",
       "      <th>3</th>\n",
       "      <td>2595</td>\n",
       "      <td>We've been staying here for about 9 nights, en...</td>\n",
       "      <td>f</td>\n",
       "      <td>$150.00</td>\n",
       "      <td>48.0</td>\n",
       "      <td>4.7</td>\n",
       "    </tr>\n",
       "    <tr>\n",
       "      <th>4</th>\n",
       "      <td>2595</td>\n",
       "      <td>We had a wonderful stay at Jennifer's charming...</td>\n",
       "      <td>f</td>\n",
       "      <td>$150.00</td>\n",
       "      <td>48.0</td>\n",
       "      <td>4.7</td>\n",
       "    </tr>\n",
       "  </tbody>\n",
       "</table>\n",
       "</div>"
      ],
      "text/plain": [
       "     id                                           comments host_is_superhost  \\\n",
       "0  2595  Notre séjour de trois nuits.\\r<br/>Nous avons ...                 f   \n",
       "1  2595                                  Great experience.                 f   \n",
       "2  2595  I've stayed with my friend at the Midtown Cast...                 f   \n",
       "3  2595  We've been staying here for about 9 nights, en...                 f   \n",
       "4  2595  We had a wonderful stay at Jennifer's charming...                 f   \n",
       "\n",
       "     price  number_of_reviews  review_scores_rating  \n",
       "0  $150.00               48.0                   4.7  \n",
       "1  $150.00               48.0                   4.7  \n",
       "2  $150.00               48.0                   4.7  \n",
       "3  $150.00               48.0                   4.7  \n",
       "4  $150.00               48.0                   4.7  "
      ]
     },
     "execution_count": 7,
     "metadata": {},
     "output_type": "execute_result"
    }
   ],
   "source": [
    "dfmerge = pd.merge(reviews2, listings1, on = 'id', how = 'left')\n",
    "dfmerge.head()"
   ]
  },
  {
   "cell_type": "markdown",
   "metadata": {},
   "source": [
    "#### Remove Abnormal Comments"
   ]
  },
  {
   "cell_type": "code",
   "execution_count": 8,
   "metadata": {
    "ExecuteTime": {
     "end_time": "2021-11-23T07:32:53.732620Z",
     "start_time": "2021-11-23T07:32:53.286749Z"
    }
   },
   "outputs": [],
   "source": [
    "#Remove AutoReview\n",
    "def autoreview(x):\n",
    "    if 'an automated posting' in x:\n",
    "        return '1'\n",
    "    else:\n",
    "        return '0'\n",
    "dfmerge['autoreview'] = dfmerge['comments'].apply(autoreview)"
   ]
  },
  {
   "cell_type": "code",
   "execution_count": 9,
   "metadata": {
    "ExecuteTime": {
     "end_time": "2021-11-23T07:43:02.657152Z",
     "start_time": "2021-11-23T07:43:02.429759Z"
    }
   },
   "outputs": [],
   "source": [
    "#Remove non-English comments\n",
    "# get nonenglish stopwords\n",
    "stopwords_en = set(stopwords.words('english')) #english stopwords\n",
    "stopwords_noten = set(stopwords.words()) - stopwords_en\n",
    "# get english vocab\n",
    "en_vocab = set(w.lower() for w in nltk.corpus.words.words())\n",
    "# get nonenglish stopwords that are also not english words\n",
    "stopwords_justnoten = set(stopwords_noten - stopwords_noten.intersection(en_vocab))"
   ]
  },
  {
   "cell_type": "code",
   "execution_count": 12,
   "metadata": {
    "ExecuteTime": {
     "end_time": "2021-11-23T07:44:25.475373Z",
     "start_time": "2021-11-23T07:44:10.449197Z"
    }
   },
   "outputs": [],
   "source": [
    "tokenizer = RegexpTokenizer(r'\\w+')\n",
    "def isen(x):\n",
    "    tokens = set(tokenizer.tokenize(x.lower()))\n",
    "    if len(tokens & stopwords_justnoten) == 0:\n",
    "        return '1'\n",
    "    else:\n",
    "        return '0'\n",
    "dfmerge['isen'] = dfmerge['comments'].apply(isen)    "
   ]
  },
  {
   "cell_type": "code",
   "execution_count": 66,
   "metadata": {
    "ExecuteTime": {
     "end_time": "2021-11-24T01:40:18.314975Z",
     "start_time": "2021-11-24T01:40:18.114044Z"
    }
   },
   "outputs": [],
   "source": [
    "dfmergeClean = dfmerge.loc[(dfmerge['autoreview']=='0') & (dfmerge['isen']=='1')]"
   ]
  },
  {
   "cell_type": "code",
   "execution_count": 67,
   "metadata": {
    "ExecuteTime": {
     "end_time": "2021-11-24T01:40:22.796433Z",
     "start_time": "2021-11-24T01:40:19.040960Z"
    }
   },
   "outputs": [],
   "source": [
    "#remove br tags\n",
    "dfmergeClean['comments'] = dfmergeClean['comments'].str.replace('<br/>',\"\")\n",
    "dfmergeClean['comments'] = dfmergeClean['comments'].str.replace('</br>',\"\")\n",
    "dfmergeClean['comments'] = dfmergeClean['comments'].str.replace('<br>',\"\")"
   ]
  },
  {
   "cell_type": "code",
   "execution_count": 68,
   "metadata": {
    "ExecuteTime": {
     "end_time": "2021-11-24T01:40:25.429082Z",
     "start_time": "2021-11-24T01:40:24.346741Z"
    }
   },
   "outputs": [],
   "source": [
    "#Remove URLs\n",
    "reviews_freeurl = []\n",
    "for comment in dfmergeClean['comments']:\n",
    "    review = re.sub('URL HIDDEN', '', comment)\n",
    "    reviews_freeurl.append(review)"
   ]
  },
  {
   "cell_type": "code",
   "execution_count": 69,
   "metadata": {
    "ExecuteTime": {
     "end_time": "2021-11-24T01:40:27.767622Z",
     "start_time": "2021-11-24T01:40:27.745583Z"
    }
   },
   "outputs": [],
   "source": [
    "#Perform tokenization, removal of names and stopwords, change into lower case words, and lemmatisation\n",
    "from nltk.corpus import names\n",
    "tokenizer = RegexpTokenizer(r'\\w+')\n",
    "stopwordsEn = set(stopwords.words('english'))\n",
    "names = set(names.words())\n",
    "def get_lemma(word):\n",
    "    lemma = wn.morphy(word)\n",
    "    if lemma is None:\n",
    "        return word\n",
    "    else:\n",
    "        return lemma   "
   ]
  },
  {
   "cell_type": "code",
   "execution_count": 70,
   "metadata": {
    "ExecuteTime": {
     "end_time": "2021-11-24T01:43:02.756726Z",
     "start_time": "2021-11-24T01:40:30.808144Z"
    }
   },
   "outputs": [],
   "source": [
    "dataCleaned = []\n",
    "for review in reviews_freeurl:\n",
    "    tokens = tokenizer.tokenize(review) # tokenize\n",
    "    tokens = [w.lower() for w in tokens if w not in names and len(w)>1]   # remove personal names, remove 1-char tokens, lowercase\n",
    "    tokens = [get_lemma(w) for w in tokens if w not in stopwordsEn]      # remove english stopwords, lemmatize\n",
    "    dataCleaned.append(tokens)"
   ]
  },
  {
   "cell_type": "code",
   "execution_count": 71,
   "metadata": {
    "ExecuteTime": {
     "end_time": "2021-11-24T01:43:11.223406Z",
     "start_time": "2021-11-24T01:43:06.881057Z"
    }
   },
   "outputs": [],
   "source": [
    "dfmergeClean.loc[:, 'dataCleaned'] = dataCleaned\n",
    "dfmergeClean['review_len'] = dfmergeClean['dataCleaned'].apply(len)"
   ]
  },
  {
   "cell_type": "code",
   "execution_count": 72,
   "metadata": {
    "ExecuteTime": {
     "end_time": "2021-11-24T01:43:11.941233Z",
     "start_time": "2021-11-24T01:43:11.910354Z"
    }
   },
   "outputs": [
    {
     "data": {
      "text/html": [
       "<div>\n",
       "<style scoped>\n",
       "    .dataframe tbody tr th:only-of-type {\n",
       "        vertical-align: middle;\n",
       "    }\n",
       "\n",
       "    .dataframe tbody tr th {\n",
       "        vertical-align: top;\n",
       "    }\n",
       "\n",
       "    .dataframe thead th {\n",
       "        text-align: right;\n",
       "    }\n",
       "</style>\n",
       "<table border=\"1\" class=\"dataframe\">\n",
       "  <thead>\n",
       "    <tr style=\"text-align: right;\">\n",
       "      <th></th>\n",
       "      <th>id</th>\n",
       "      <th>comments</th>\n",
       "      <th>host_is_superhost</th>\n",
       "      <th>price</th>\n",
       "      <th>number_of_reviews</th>\n",
       "      <th>review_scores_rating</th>\n",
       "      <th>autoreview</th>\n",
       "      <th>isen</th>\n",
       "      <th>dataCleaned</th>\n",
       "      <th>review_len</th>\n",
       "    </tr>\n",
       "  </thead>\n",
       "  <tbody>\n",
       "    <tr>\n",
       "      <th>1</th>\n",
       "      <td>2595</td>\n",
       "      <td>Great experience.</td>\n",
       "      <td>f</td>\n",
       "      <td>$150.00</td>\n",
       "      <td>48.0</td>\n",
       "      <td>4.7</td>\n",
       "      <td>0</td>\n",
       "      <td>1</td>\n",
       "      <td>[great, experience]</td>\n",
       "      <td>2</td>\n",
       "    </tr>\n",
       "    <tr>\n",
       "      <th>2</th>\n",
       "      <td>2595</td>\n",
       "      <td>I've stayed with my friend at the Midtown Cast...</td>\n",
       "      <td>f</td>\n",
       "      <td>$150.00</td>\n",
       "      <td>48.0</td>\n",
       "      <td>4.7</td>\n",
       "      <td>0</td>\n",
       "      <td>1</td>\n",
       "      <td>[stay, friend, midtown, castle, six, days, lov...</td>\n",
       "      <td>45</td>\n",
       "    </tr>\n",
       "    <tr>\n",
       "      <th>3</th>\n",
       "      <td>2595</td>\n",
       "      <td>We've been staying here for about 9 nights, en...</td>\n",
       "      <td>f</td>\n",
       "      <td>$150.00</td>\n",
       "      <td>48.0</td>\n",
       "      <td>4.7</td>\n",
       "      <td>0</td>\n",
       "      <td>1</td>\n",
       "      <td>[stay, night, enjoy, center, city, never, slee...</td>\n",
       "      <td>30</td>\n",
       "    </tr>\n",
       "    <tr>\n",
       "      <th>4</th>\n",
       "      <td>2595</td>\n",
       "      <td>We had a wonderful stay at Jennifer's charming...</td>\n",
       "      <td>f</td>\n",
       "      <td>$150.00</td>\n",
       "      <td>48.0</td>\n",
       "      <td>4.7</td>\n",
       "      <td>0</td>\n",
       "      <td>1</td>\n",
       "      <td>[wonderful, stay, charm, apartment, organize, ...</td>\n",
       "      <td>12</td>\n",
       "    </tr>\n",
       "    <tr>\n",
       "      <th>5</th>\n",
       "      <td>2595</td>\n",
       "      <td>Hi to everyone!\\rWould say our greatest compli...</td>\n",
       "      <td>f</td>\n",
       "      <td>$150.00</td>\n",
       "      <td>48.0</td>\n",
       "      <td>4.7</td>\n",
       "      <td>0</td>\n",
       "      <td>1</td>\n",
       "      <td>[hi, everyone, would, say, greatest, complimen...</td>\n",
       "      <td>50</td>\n",
       "    </tr>\n",
       "    <tr>\n",
       "      <th>6</th>\n",
       "      <td>2595</td>\n",
       "      <td>Jennifer was very friendly and helpful, and he...</td>\n",
       "      <td>f</td>\n",
       "      <td>$150.00</td>\n",
       "      <td>48.0</td>\n",
       "      <td>4.7</td>\n",
       "      <td>0</td>\n",
       "      <td>1</td>\n",
       "      <td>[friendly, helpful, place, exactly, advertise,...</td>\n",
       "      <td>14</td>\n",
       "    </tr>\n",
       "    <tr>\n",
       "      <th>7</th>\n",
       "      <td>2595</td>\n",
       "      <td>This apartment is like a real castle old and u...</td>\n",
       "      <td>f</td>\n",
       "      <td>$150.00</td>\n",
       "      <td>48.0</td>\n",
       "      <td>4.7</td>\n",
       "      <td>0</td>\n",
       "      <td>1</td>\n",
       "      <td>[apartment, like, real, castle, old, unique, a...</td>\n",
       "      <td>110</td>\n",
       "    </tr>\n",
       "    <tr>\n",
       "      <th>8</th>\n",
       "      <td>2595</td>\n",
       "      <td>Jennifer's place was in a great midtown locati...</td>\n",
       "      <td>f</td>\n",
       "      <td>$150.00</td>\n",
       "      <td>48.0</td>\n",
       "      <td>4.7</td>\n",
       "      <td>0</td>\n",
       "      <td>1</td>\n",
       "      <td>[place, great, midtown, location, close, subwa...</td>\n",
       "      <td>31</td>\n",
       "    </tr>\n",
       "    <tr>\n",
       "      <th>9</th>\n",
       "      <td>2595</td>\n",
       "      <td>Jennifer is a very nice host. Everything is cl...</td>\n",
       "      <td>f</td>\n",
       "      <td>$150.00</td>\n",
       "      <td>48.0</td>\n",
       "      <td>4.7</td>\n",
       "      <td>0</td>\n",
       "      <td>1</td>\n",
       "      <td>[nice, host, everything, clean, really, take, ...</td>\n",
       "      <td>11</td>\n",
       "    </tr>\n",
       "    <tr>\n",
       "      <th>10</th>\n",
       "      <td>2595</td>\n",
       "      <td>This is a cute studio in a wonderful location ...</td>\n",
       "      <td>f</td>\n",
       "      <td>$150.00</td>\n",
       "      <td>48.0</td>\n",
       "      <td>4.7</td>\n",
       "      <td>0</td>\n",
       "      <td>1</td>\n",
       "      <td>[cute, studio, wonderful, location, quirky, in...</td>\n",
       "      <td>32</td>\n",
       "    </tr>\n",
       "  </tbody>\n",
       "</table>\n",
       "</div>"
      ],
      "text/plain": [
       "      id                                           comments host_is_superhost  \\\n",
       "1   2595                                  Great experience.                 f   \n",
       "2   2595  I've stayed with my friend at the Midtown Cast...                 f   \n",
       "3   2595  We've been staying here for about 9 nights, en...                 f   \n",
       "4   2595  We had a wonderful stay at Jennifer's charming...                 f   \n",
       "5   2595  Hi to everyone!\\rWould say our greatest compli...                 f   \n",
       "6   2595  Jennifer was very friendly and helpful, and he...                 f   \n",
       "7   2595  This apartment is like a real castle old and u...                 f   \n",
       "8   2595  Jennifer's place was in a great midtown locati...                 f   \n",
       "9   2595  Jennifer is a very nice host. Everything is cl...                 f   \n",
       "10  2595  This is a cute studio in a wonderful location ...                 f   \n",
       "\n",
       "      price  number_of_reviews  review_scores_rating autoreview isen  \\\n",
       "1   $150.00               48.0                   4.7          0    1   \n",
       "2   $150.00               48.0                   4.7          0    1   \n",
       "3   $150.00               48.0                   4.7          0    1   \n",
       "4   $150.00               48.0                   4.7          0    1   \n",
       "5   $150.00               48.0                   4.7          0    1   \n",
       "6   $150.00               48.0                   4.7          0    1   \n",
       "7   $150.00               48.0                   4.7          0    1   \n",
       "8   $150.00               48.0                   4.7          0    1   \n",
       "9   $150.00               48.0                   4.7          0    1   \n",
       "10  $150.00               48.0                   4.7          0    1   \n",
       "\n",
       "                                          dataCleaned  review_len  \n",
       "1                                 [great, experience]           2  \n",
       "2   [stay, friend, midtown, castle, six, days, lov...          45  \n",
       "3   [stay, night, enjoy, center, city, never, slee...          30  \n",
       "4   [wonderful, stay, charm, apartment, organize, ...          12  \n",
       "5   [hi, everyone, would, say, greatest, complimen...          50  \n",
       "6   [friendly, helpful, place, exactly, advertise,...          14  \n",
       "7   [apartment, like, real, castle, old, unique, a...         110  \n",
       "8   [place, great, midtown, location, close, subwa...          31  \n",
       "9   [nice, host, everything, clean, really, take, ...          11  \n",
       "10  [cute, studio, wonderful, location, quirky, in...          32  "
      ]
     },
     "execution_count": 72,
     "metadata": {},
     "output_type": "execute_result"
    }
   ],
   "source": [
    "dfmergeClean.head(10)"
   ]
  },
  {
   "cell_type": "markdown",
   "metadata": {},
   "source": [
    "### Topic Modeling and Latent Dirichlet Allocation (LDA)\n",
    "\n",
    "Topic modeling is a type of statistical modeling for discovering the abstract “topics” that occur in a collection of documents. Latent Dirichlet Allocation (LDA) is an example of topic model and is used to classify text in a document to a particular topic. It builds a topic per document model and words per topic model, modeled as Dirichlet distributions. Reference: https://towardsdatascience.com/topic-modeling-and-latent-dirichlet-allocation-in-python-9bf156893c24.\n",
    "\n",
    "The reason that we why we employ this NLP method is that it has good performance for modeling the topics and could help pave the basis for sentiment analysis later. Also, as we do not have training sets with tag labels, this model would be more proper than deep learning models such as LSTM which requires training set tags."
   ]
  },
  {
   "cell_type": "code",
   "execution_count": 73,
   "metadata": {
    "ExecuteTime": {
     "end_time": "2021-11-24T01:43:26.523838Z",
     "start_time": "2021-11-24T01:43:26.087091Z"
    }
   },
   "outputs": [],
   "source": [
    "# we would remove the reviews with fewer than 10 tokens\n",
    "dfLDA = dfmergeClean[dfmergeClean['review_len'] >= 10]"
   ]
  },
  {
   "cell_type": "code",
   "execution_count": 74,
   "metadata": {
    "ExecuteTime": {
     "end_time": "2021-11-24T01:44:24.222672Z",
     "start_time": "2021-11-24T01:43:34.667941Z"
    }
   },
   "outputs": [],
   "source": [
    "dic= corpora.Dictionary(dfLDA['dataCleaned'])\n",
    "# We would filter out words that show in < 15 reviews, or display > 75% of the reviews as they would not be helpful\n",
    "dic.filter_extremes(no_below = 15, no_above = .75)\n",
    "textsLDA = dfLDA['dataCleaned']\n",
    "corpus = [dic.doc2bow(text) for text in textsLDA] "
   ]
  },
  {
   "cell_type": "code",
   "execution_count": 75,
   "metadata": {
    "ExecuteTime": {
     "end_time": "2021-11-24T02:50:24.004934Z",
     "start_time": "2021-11-24T01:45:45.905716Z"
    }
   },
   "outputs": [],
   "source": [
    "#We would then train the LDA model\n",
    "ldaAir = gensim.models.ldamodel.LdaModel(corpus = corpus, id2word = dic, num_topics = 9, passes = 20)"
   ]
  },
  {
   "cell_type": "code",
   "execution_count": 76,
   "metadata": {
    "ExecuteTime": {
     "end_time": "2021-11-24T02:54:48.038859Z",
     "start_time": "2021-11-24T02:54:47.943108Z"
    }
   },
   "outputs": [
    {
     "name": "stdout",
     "output_type": "stream",
     "text": [
      "(0, '0.050*\"great\" + 0.042*\"restaurant\" + 0.033*\"close\" + 0.030*\"location\" + 0.026*\"subway\" + 0.025*\"place\" + 0.022*\"walking\" + 0.019*\"distance\" + 0.019*\"apartment\" + 0.018*\"store\"')\n",
      "(1, '0.035*\"parking\" + 0.022*\"place\" + 0.020*\"night\" + 0.019*\"street\" + 0.019*\"city\" + 0.015*\"day\" + 0.013*\"get\" + 0.012*\"nyc\" + 0.012*\"find\" + 0.011*\"spot\"')\n",
      "(2, '0.058*\"walk\" + 0.045*\"10\" + 0.042*\"subway\" + 0.033*\"train\" + 0.030*\"station\" + 0.029*\"minutes\" + 0.028*\"manhattan\" + 0.027*\"away\" + 0.025*\"close\" + 0.024*\"square\"')\n",
      "(3, '0.066*\"great\" + 0.064*\"stay\" + 0.051*\"place\" + 0.040*\"clean\" + 0.034*\"would\" + 0.033*\"location\" + 0.032*\"recommend\" + 0.030*\"host\" + 0.026*\"definitely\" + 0.017*\"super\"')\n",
      "(4, '0.040*\"stay\" + 0.034*\"home\" + 0.031*\"airbnb\" + 0.028*\"place\" + 0.023*\"make\" + 0.021*\"host\" + 0.021*\"like\" + 0.017*\"amaze\" + 0.017*\"best\" + 0.015*\"feel\"')\n",
      "(5, '0.028*\"room\" + 0.013*\"bed\" + 0.013*\"bathroom\" + 0.012*\"clean\" + 0.011*\"stay\" + 0.010*\"good\" + 0.010*\"nice\" + 0.010*\"place\" + 0.009*\"apartment\" + 0.009*\"one\"')\n",
      "(6, '0.049*\"place\" + 0.042*\"nice\" + 0.038*\"really\" + 0.037*\"stay\" + 0.036*\"new\" + 0.031*\"good\" + 0.031*\"clean\" + 0.030*\"great\" + 0.022*\"york\" + 0.020*\"host\"')\n",
      "(7, '0.048*\"us\" + 0.042*\"check\" + 0.018*\"host\" + 0.017*\"even\" + 0.014*\"get\" + 0.012*\"arrive\" + 0.011*\"make\" + 0.010*\"day\" + 0.010*\"time\" + 0.010*\"also\"')\n",
      "(8, '0.029*\"space\" + 0.027*\"apartment\" + 0.022*\"beautiful\" + 0.022*\"view\" + 0.020*\"well\" + 0.016*\"love\" + 0.016*\"kitchen\" + 0.015*\"comfortable\" + 0.013*\"lovely\" + 0.011*\"bed\"')\n"
     ]
    }
   ],
   "source": [
    "# print topic and words contributing to each topic\n",
    "topics = ldaAir.print_topics(num_words = 10)\n",
    "for topic in topics:  \n",
    "    print(topic)"
   ]
  },
  {
   "cell_type": "code",
   "execution_count": 77,
   "metadata": {
    "ExecuteTime": {
     "end_time": "2021-11-24T02:54:53.247154Z",
     "start_time": "2021-11-24T02:54:53.141219Z"
    }
   },
   "outputs": [],
   "source": [
    "# save the LDA model so no need to train again\n",
    "ldaAir.save('topicReview.model')"
   ]
  },
  {
   "cell_type": "code",
   "execution_count": 78,
   "metadata": {
    "ExecuteTime": {
     "end_time": "2021-11-24T02:57:45.433465Z",
     "start_time": "2021-11-24T02:54:59.288589Z"
    }
   },
   "outputs": [
    {
     "data": {
      "text/html": [
       "\n",
       "<link rel=\"stylesheet\" type=\"text/css\" href=\"https://cdn.jsdelivr.net/gh/bmabey/pyLDAvis@3.2.2/pyLDAvis/js/ldavis.v1.0.0.css\">\n",
       "\n",
       "\n",
       "<div id=\"ldavis_el585301397354548098086108944247\"></div>\n",
       "<script type=\"text/javascript\">\n",
       "\n",
       "var ldavis_el585301397354548098086108944247_data = {\"mdsDat\": {\"x\": [-0.031947336336360974, -0.09124304724048204, -0.008933830151870343, -0.19662571810910717, 0.2459366470389122, -0.21644315200889438, -0.005718714402704003, -0.02089649755316887, 0.32587164876367564], \"y\": [0.16749740481431788, -0.054932368069715916, 0.09933456427984769, 0.028347439178425863, 0.07061339920345167, -0.2082735969528628, 0.23494575330850204, -0.1605979334871704, -0.1769346622747957], \"topics\": [1, 2, 3, 4, 5, 6, 7, 8, 9], \"cluster\": [1, 1, 1, 1, 1, 1, 1, 1, 1], \"Freq\": [17.02391824796648, 16.492573174177274, 13.767594643317219, 11.448353367747908, 11.050394899172815, 9.308563194494168, 8.122821210676772, 6.908684636253179, 5.877096626194194]}, \"tinfo\": {\"Term\": [\"great\", \"us\", \"check\", \"walk\", \"subway\", \"restaurant\", \"new\", \"close\", \"home\", \"really\", \"place\", \"recommend\", \"nice\", \"airbnb\", \"10\", \"train\", \"good\", \"stay\", \"definitely\", \"location\", \"parking\", \"york\", \"space\", \"clean\", \"room\", \"would\", \"station\", \"away\", \"host\", \"minutes\", \"bushwick\", \"remotely\", \"slight\", \"stone\", \"zen\", \"effective\", \"bill\", \"squeaky\", \"contactless\", \"3am\", \"downfall\", \"pain\", \"nestle\", \"kiki\", \"flow\", \"newyork\", \"revisit\", \"deff\", \"clutch\", \"up\", \"defiantly\", \"midst\", \"stylishly\", \"cleanly\", \"precaution\", \"responder\", \"accomodations\", \"smack\", \"rotation\", \"sparkly\", \"ms\", \"highly\", \"sparkling\", \"bedstuy\", \"communicative\", \"recommend\", \"definitely\", \"would\", \"exactly\", \"quick\", \"anyone\", \"communication\", \"responsive\", \"seamless\", \"great\", \"accommodate\", \"communicate\", \"respond\", \"readily\", \"super\", \"stay\", \"clean\", \"easy\", \"location\", \"question\", \"process\", \"place\", \"host\", \"smooth\", \"describe\", \"extremely\", \"helpful\", \"check\", \"excellent\", \"comfortable\", \"everything\", \"need\", \"perfect\", \"space\", \"apartment\", \"amaze\", \"nice\", \"spacious\", \"well\", \"room\", \"shower\", \"tv\", \"noise\", \"ac\", \"hot\", \"desk\", \"loud\", \"hear\", \"window\", \"dirty\", \"toilet\", \"couch\", \"mattress\", \"elevator\", \"dryer\", \"closet\", \"microwave\", \"pillow\", \"common\", \"heat\", \"fan\", \"washer\", \"paper\", \"soap\", \"uncomfortable\", \"smaller\", \"hair\", \"conditioner\", \"conditioning\", \"sink\", \"sheet\", \"wifi\", \"floor\", \"unit\", \"stairs\", \"bathroom\", \"wall\", \"towel\", \"door\", \"however\", \"room\", \"bedroom\", \"use\", \"bed\", \"bit\", \"small\", \"kitchen\", \"issue\", \"water\", \"smell\", \"air\", \"overall\", \"one\", \"rooms\", \"building\", \"work\", \"good\", \"like\", \"night\", \"clean\", \"nice\", \"apartment\", \"also\", \"get\", \"stay\", \"would\", \"place\", \"location\", \"great\", \"space\", \"new\", \"york\", \"cosy\", \"appartment\", \"yorker\", \"deposit\", \"confortable\", \"delivery\", \"dope\", \"supportive\", \"appartement\", \"sunrise\", \"marina\", \"somebody\", \"combination\", \"bbq\", \"easygoing\", \"yorkers\", \"recomend\", \"breath\", \"musician\", \"definetly\", \"accesible\", \"comeback\", \"angel\", \"precise\", \"reactive\", \"confidence\", \"mad\", \"throughly\", \"brand\", \"really\", \"good\", \"nice\", \"calm\", \"help\", \"tip\", \"advice\", \"flat\", \"house\", \"always\", \"lot\", \"friendly\", \"guy\", \"place\", \"enjoy\", \"helpful\", \"everything\", \"kind\", \"clean\", \"room\", \"time\", \"stay\", \"us\", \"big\", \"give\", \"great\", \"host\", \"thank\", \"need\", \"come\", \"recommend\", \"close\", \"apartment\", \"location\", \"back\", \"comfortable\", \"perfect\", \"super\", \"also\", \"well\", \"airbnb\", \"ever\", \"bnb\", \"hide\", \"expectation\", \"exceed\", \"regret\", \"website\", \"vibes\", \"wow\", \"leak\", \"smoking\", \"upgrade\", \"dream\", \"management\", \"seriously\", \"memorable\", \"mr\", \"availability\", \"regularly\", \"beauty\", \"arise\", \"god\", \"student\", \"words\", \"trust\", \"calling\", \"texted\", \"greatest\", \"fianc\\u00e9\", \"beyond\", \"home\", \"best\", \"feel\", \"outstanding\", \"honestly\", \"better\", \"star\", \"truly\", \"make\", \"felt\", \"like\", \"experience\", \"soon\", \"birthday\", \"first\", \"book\", \"amaze\", \"sure\", \"say\", \"every\", \"care\", \"thank\", \"look\", \"stay\", \"go\", \"back\", \"one\", \"host\", \"place\", \"time\", \"everything\", \"definitely\", \"could\", \"come\", \"love\", \"even\", \"need\", \"would\", \"restaurant\", \"distance\", \"store\", \"shop\", \"bars\", \"grocery\", \"transportation\", \"public\", \"shopping\", \"cafe\", \"market\", \"deli\", \"walkable\", \"parks\", \"bodega\", \"eatery\", \"greenpoint\", \"laundromat\", \"bk\", \"bakery\", \"pharmacy\", \"lyft\", \"union\", \"trader\", \"starbucks\", \"boutique\", \"range\", \"cv\", \"de\", \"accidentally\", \"nearby\", \"transit\", \"walking\", \"food\", \"spots\", \"corner\", \"within\", \"many\", \"option\", \"lots\", \"close\", \"tons\", \"subway\", \"local\", \"block\", \"coffee\", \"around\", \"great\", \"near\", \"location\", \"train\", \"access\", \"neighborhood\", \"easy\", \"apartment\", \"right\", \"place\", \"area\", \"stay\", \"walk\", \"clean\", \"also\", \"arrive\", \"early\", \"message\", \"arrival\", \"upon\", \"snack\", \"charge\", \"refund\", \"later\", \"text\", \"cancel\", \"greet\", \"sent\", \"drop\", \"prior\", \"follow\", \"earlier\", \"waiting\", \"delay\", \"schedule\", \"sunlight\", \"email\", \"letting\", \"send\", \"luckily\", \"fruit\", \"beware\", \"thorough\", \"accept\", \"chocolate\", \"sonder\", \"let\", \"allow\", \"last\", \"reservation\", \"left\", \"flight\", \"late\", \"us\", \"bag\", \"check\", \"bottle\", \"call\", \"instructions\", \"even\", \"request\", \"key\", \"luggage\", \"hours\", \"contact\", \"day\", \"leave\", \"help\", \"able\", \"give\", \"get\", \"respond\", \"provide\", \"host\", \"make\", \"also\", \"time\", \"accommodate\", \"night\", \"sure\", \"need\", \"stay\", \"apartment\", \"beach\", \"rooftop\", \"backyard\", \"garden\", \"design\", \"charm\", \"beautifully\", \"getaway\", \"patio\", \"outdoor\", \"appoint\", \"loft\", \"art\", \"unique\", \"deck\", \"brownstone\", \"terrace\", \"oasis\", \"tree\", \"notch\", \"chic\", \"character\", \"airy\", \"patient\", \"tastefully\", \"crown\", \"rockaway\", \"retreat\", \"aesthetic\", \"greene\", \"interior\", \"decor\", \"view\", \"style\", \"gorgeous\", \"natural\", \"decorate\", \"relax\", \"east\", \"roof\", \"beautiful\", \"space\", \"kitchen\", \"stock\", \"lovely\", \"modern\", \"large\", \"love\", \"light\", \"well\", \"touch\", \"apartment\", \"brooklyn\", \"spacious\", \"comfortable\", \"bed\", \"wonderful\", \"enjoy\", \"bedroom\", \"home\", \"perfect\", \"quiet\", \"neighborhood\", \"great\", \"stay\", \"parking\", \"car\", \"kid\", \"island\", \"uber\", \"ferry\", \"child\", \"24\", \"bronx\", \"smoke\", \"garage\", \"11\", \"adult\", \"newly\", \"empire\", \"young\", \"driveway\", \"driving\", \"tax\", \"skyline\", \"staten\", \"boat\", \"remodel\", \"highway\", \"college\", \"closer\", \"rough\", \"advantage\", \"mta\", \"correct\", \"staff\", \"free\", \"finding\", \"spending\", \"street\", \"seeing\", \"find\", \"night\", \"day\", \"spend\", \"long\", \"city\", \"hotel\", \"spot\", \"state\", \"crash\", \"able\", \"family\", \"across\", \"nyc\", \"weekend\", \"sleep\", \"looking\", \"park\", \"days\", \"get\", \"want\", \"place\", \"perfect\", \"around\", \"time\", \"two\", \"right\", \"stay\", \"one\", \"back\", \"easy\", \"10\", \"minutes\", \"square\", \"min\", \"15\", \"20\", \"30\", \"downtown\", \"midtown\", \"solo\", \"timely\", \"40\", \"tight\", \"25\", \"nightlife\", \"45\", \"columbia\", \"impeccable\", \"ten\", \"laguardia\", \"eats\", \"uptown\", \"townhouse\", \"friday\", \"waterfront\", \"buck\", \"repair\", \"upset\", \"university\", \"35\", \"ride\", \"lga\", \"station\", \"walk\", \"minute\", \"bus\", \"le\", \"times\", \"train\", \"airport\", \"manhattan\", \"jfk\", \"away\", \"subway\", \"stop\", \"line\", \"take\", \"block\", \"near\", \"close\", \"central\", \"short\", \"metro\", \"get\", \"locate\", \"location\", \"good\"], \"Freq\": [388017.0, 106776.0, 110684.0, 80519.0, 105181.0, 78730.0, 83995.0, 124060.0, 79262.0, 122007.0, 424374.0, 132112.0, 178858.0, 60076.0, 45006.0, 55361.0, 125767.0, 441785.0, 115170.0, 225536.0, 41181.0, 52526.0, 94104.0, 263488.0, 157103.0, 154896.0, 38722.0, 58054.0, 225936.0, 29555.0, 2840.4620929165953, 1556.0364503445776, 605.3157273506378, 565.2864595979536, 559.6761334973471, 531.3000747825591, 496.1630134217785, 487.67792228990487, 382.51440949018956, 357.23504621069065, 328.8406979242626, 328.92670548163966, 319.09191170187944, 318.50738630639495, 312.94176804757535, 298.66743477400456, 298.02446318951735, 294.5966291325079, 288.3918496166261, 273.54251676613336, 267.57992589508325, 267.7212255370946, 259.13729874551296, 257.7601617401662, 243.31927482115043, 236.28765425403822, 235.95685432808898, 231.12010936870524, 230.5020319233948, 213.6934922164114, 823.1696737454624, 40090.7274873104, 3829.873219280008, 394.80606005663435, 13165.761692970638, 93048.63737839187, 76657.1710309151, 98356.67750327979, 16361.90227100783, 25565.17678638944, 13988.19902178501, 30741.867981673448, 26612.947056942416, 2082.3947421417365, 191974.34545367138, 23864.311653446406, 9607.184125048168, 19183.598416682235, 847.7886226082618, 49594.90745444759, 186339.74841410684, 117225.8578617221, 49303.098016321026, 96121.04697210903, 17336.0292426561, 6277.356261803297, 147481.9900449942, 86678.5069257483, 3890.1129717386807, 7500.074413792522, 13195.72543044949, 25393.311713861865, 43504.42590696452, 15094.64765729183, 42435.85700649902, 43957.500594765894, 43463.56835870358, 33906.11561111952, 30719.60889559588, 44781.650369399016, 26549.315605031814, 32307.79671940493, 19122.755108359437, 20909.49316711054, 22352.625720850265, 20141.82182345934, 14927.491589265306, 13887.245025993854, 13246.075301085895, 10721.751122119269, 8377.749078683917, 8314.082424267055, 7553.625003446446, 7107.14139250503, 6910.431406576939, 5816.123705717802, 5638.666753385014, 5202.30250225134, 5180.493050619004, 4943.625874979148, 4793.4862722596545, 4617.938020186322, 4446.875558253446, 4373.115793989432, 4233.3429569562495, 4175.315450323302, 4095.7761009862147, 3947.706635783811, 3718.333167643606, 3683.910609947403, 3487.8932948544007, 3277.614376172431, 3277.4404701835174, 3208.796495114138, 3202.590020056957, 6449.554285994586, 8797.86722920796, 17878.706408588394, 16581.397918745588, 6304.33950400643, 35539.475144367956, 6603.937522968086, 13668.127417456462, 17538.61060667631, 9638.87856034249, 77637.26144270314, 19653.051494753232, 16276.066252141893, 37198.01327939448, 13655.455248981267, 19299.867462490587, 24013.05707405011, 16164.023545352296, 11851.090707884821, 7996.507119794808, 11126.952732537606, 16964.573843481223, 24758.23045531674, 11212.761228712785, 14519.409701921148, 14428.002089151958, 28167.727586617784, 21189.591625436107, 18553.875082453524, 32970.94012552533, 27749.938463847157, 26358.09205343471, 19308.239887421012, 19635.583458478104, 30824.656722753774, 21979.021127760752, 27274.071303269444, 22319.9503659216, 18750.143412794674, 15159.030679154252, 83994.15114818736, 52525.40196495113, 2626.8805894626134, 1955.1082508994475, 1891.9522115787036, 1690.6092615784435, 1656.2055835483095, 1646.9213948663505, 1573.5086484416004, 1064.0220517537095, 968.0844995133709, 931.9557345878546, 914.2594190535929, 789.4421372459924, 724.3517435817762, 705.5917659823361, 693.8588879429634, 673.6753986580198, 625.0885782470332, 613.9913774722617, 508.7509764126588, 476.7757183797832, 449.5806397039452, 438.932377865587, 436.12633831908335, 434.7689759643571, 420.97773070569684, 397.06214548215297, 375.6676646442805, 363.7364070901443, 5673.092606177632, 88642.11483848312, 72649.99287184763, 99642.07965784571, 3380.439522342269, 22421.764605867047, 4983.559651643765, 1752.4958637418918, 4847.242726393715, 24195.491391775424, 19364.94349648262, 17837.50587107786, 23108.510249469284, 4778.0080703085505, 115658.74836744985, 24650.657952141366, 23097.78611448548, 41946.128263432984, 16003.821222188928, 72531.80825880788, 45610.06601331861, 30189.04477329102, 86309.94198055031, 30959.188425342098, 10807.193343515588, 12475.946756641137, 69487.20135628895, 48214.34790966966, 14696.014713939714, 32126.258740006855, 16776.971313389527, 29611.983759156366, 25571.097266282588, 31529.618619603236, 33657.42154511584, 17786.880678897473, 21784.316237444757, 19961.24177686632, 19668.129298762797, 19189.717617042505, 18480.108135185055, 60075.11652641757, 17807.632471820798, 8331.19762589133, 6695.1871446948435, 6207.356194400377, 3202.3420848981687, 3015.5007896759075, 2810.0398916900313, 2708.699170962766, 1835.111860554837, 1754.6289077641163, 1524.8398501806416, 1448.5466952178397, 1440.8151003676792, 1349.0430396920462, 1126.7655527835882, 1118.2626205947897, 1085.322086141564, 986.9101240644909, 938.1534729343549, 936.5684333537903, 933.5633153819446, 910.0525023190285, 879.2403487194578, 841.9095233946587, 832.2349510848048, 821.621460911611, 814.2800331546404, 792.3868305387957, 789.2384463079795, 9304.294855453227, 65865.35107179504, 33453.732869858264, 29828.415946234454, 3014.740499099686, 3747.824607751138, 16112.332991776879, 7412.4450009801585, 7422.339711349305, 44996.72405391046, 22910.194440579387, 40462.94689919162, 26008.369883486306, 6262.051562228868, 2545.6336972172717, 15033.232396674706, 20296.106803769926, 33578.236487574395, 16661.923315870758, 11639.65604940521, 11898.29879488435, 6426.831447947764, 16310.023118765466, 12064.544141827755, 78904.19323764779, 19798.91958736101, 22141.532923897445, 21375.121757992332, 40756.724271131396, 54431.306019683594, 22410.704031148678, 23772.193583328113, 22634.968340914053, 13617.09211925304, 14118.665241993805, 14926.25236067582, 13923.278308027011, 16248.824510513887, 15918.957707411399, 78729.13378335693, 36282.75467923059, 33050.52934443803, 27144.02306667097, 18115.6020319918, 17833.94501813073, 15618.626361042156, 13907.230357548793, 8122.195163600415, 7600.389846050112, 7175.326794496159, 5321.885190051418, 4554.124869520246, 3796.590689033419, 2830.3207068068014, 2532.2555682965994, 2106.8640596495934, 2087.0440704575662, 1971.1275170645697, 1924.5886206216173, 1648.9765143924294, 1332.0368550494197, 1255.7009203248654, 1229.7699583359888, 1198.0119608566065, 1118.0048475722524, 975.5343849526519, 966.5531500551666, 903.3953470099602, 752.5984750963936, 24562.35383288941, 4262.425510882427, 41385.72035870199, 32337.273554483334, 7413.334630810585, 12104.540870250661, 20952.99292062958, 25389.276003313815, 10998.819746346504, 21168.738665081542, 61473.77978523886, 5638.384158468709, 49378.74614292125, 10100.830365585103, 21051.73407008646, 14831.252711069605, 25266.500764558055, 94337.55554973299, 19623.229762538893, 56864.11708638889, 22135.853533927035, 14362.049774986615, 22485.462032607873, 26402.66506824079, 35955.44432794317, 17597.617721320516, 46650.855022418815, 19510.09981801768, 26626.874189034224, 17905.187229703384, 21306.51652233122, 17019.060118629233, 19431.175023032927, 14012.888342374965, 13100.107866049233, 11020.007584559848, 8683.258955879588, 6929.159426991343, 6220.539631407657, 6014.610323578269, 5865.352642737735, 4916.059554680891, 4455.887973285631, 4035.7855182377484, 3953.405276064526, 3894.805382559085, 3056.481513858728, 2848.744502469178, 2744.3988378539275, 2692.8664152288184, 2160.5441084976615, 2120.649437303821, 2032.243825257646, 2028.7082378519435, 1796.455462280073, 1708.91490333599, 1563.2361458947116, 1492.4427261005037, 1435.8625862091528, 1401.203421586954, 1280.6100929270183, 1207.7909006307268, 2734.356739928894, 13502.827402178566, 10582.068108643869, 13224.516984500542, 4449.752411463258, 13599.842246414197, 9274.890829309767, 13375.120303499885, 75816.61851831936, 6475.012289486267, 67179.52535933325, 4075.726118176894, 8243.02822820187, 6863.9917229073135, 27333.39936770743, 6982.357507419966, 8493.194696015047, 6323.252603205942, 7092.906515796224, 5998.095235710115, 16310.136027734441, 7231.039439659097, 15345.047155223814, 11214.46989218043, 12643.873933777648, 22886.327861554782, 12464.837758289765, 11990.461230836563, 28826.305825978267, 17125.31792028744, 15588.619144154676, 15710.922948184108, 11104.32387150491, 11027.023570798265, 9130.66642040429, 11493.05069682678, 11837.886679720184, 9119.727971159598, 9660.719659396433, 8838.737882806772, 8101.127947528626, 7505.886969753784, 7170.606494328048, 7038.942956366119, 6972.983195532657, 6032.146762583167, 5909.434250790518, 5559.455397879617, 5357.102864776834, 5039.740602277094, 3761.3977345883764, 3623.8811550687274, 3397.610629348308, 3234.0192652117585, 2855.7852412270363, 2338.458010812369, 2171.1188448434414, 2023.1151753186823, 1718.8528466007708, 1614.8379728661744, 1587.2159736081117, 1509.6118631032189, 1490.9449301612947, 1340.5588668366597, 1300.074979249706, 1232.3329480308203, 1215.7127534877175, 1134.5396580504305, 2580.130707600809, 6756.903859461388, 29896.398962759442, 3720.626834968552, 5799.083295539727, 4723.139503445608, 10735.400663188271, 12227.626643115651, 7584.6724192002785, 3229.493654306066, 30975.34700805799, 39873.593991617105, 22464.97997991264, 7340.257755541503, 17360.654559581177, 8751.466832109169, 8402.57009213301, 22836.539034862628, 9464.133223890964, 28083.35687958541, 9576.7595898528, 37624.797828807685, 14964.758265690565, 14358.109206032612, 21111.909586282713, 15957.042898379117, 12513.923731598126, 14185.993778446853, 10074.517318517219, 13396.03970046217, 14058.295402218322, 11957.827575135258, 12171.650246776906, 13326.671994950118, 10399.533881650343, 41180.48110182382, 7916.778005738288, 6583.521869535379, 4047.6186984652636, 3716.712380907944, 3646.6154888997285, 3597.8390590801528, 3067.9022670494182, 2839.862636820645, 2762.0737524390743, 2648.958222693765, 2616.0685707323278, 2571.576191130627, 2544.0187851956352, 2143.6319026699152, 2083.876357114545, 1883.3709037240358, 1864.9265885711072, 1784.3459516235953, 1581.5299590851619, 1424.0702211362163, 1414.6519907403285, 1242.241098965363, 1199.6720610826926, 1095.1808489362213, 1084.4561536622243, 1073.6908418315222, 1067.2827724909305, 1050.303952186019, 970.9498527808325, 11958.431362203559, 6275.968079054438, 2980.186998599748, 1998.9173790594805, 22867.263823414392, 1811.8645965806147, 13817.925778397206, 23026.187131907485, 17575.176369352568, 7577.853663751761, 9705.623529613307, 22189.779107773502, 12842.745755906886, 13403.504397939429, 3887.9053257828646, 3083.9435390183403, 8647.070567808427, 10213.099846862131, 5293.99086549076, 14094.23822063247, 6670.925950559058, 7547.226993142579, 8242.552204871743, 6898.871289898154, 7162.912171447716, 15109.50314215832, 9143.689412816157, 25715.64700287512, 13328.964563193707, 10281.70732767422, 11077.244237191104, 7782.452248926091, 8021.632773866095, 10542.557163604613, 7526.937682928224, 7470.275730745984, 7074.953890909198, 45004.95224957303, 29554.090954729996, 24018.597961337953, 23386.523046048358, 8720.583968525109, 7827.214260770625, 7821.346887241795, 7812.463276814804, 5847.712565814376, 4734.614513393144, 4545.43813692279, 2603.4803831058807, 2546.7995436809797, 2172.2134621403866, 1732.995069085324, 1698.5502657574964, 1522.9256746994863, 1451.5979159349597, 1447.0200082346655, 1408.014251554126, 1350.595371839987, 1290.6136963306126, 1227.21531054053, 1160.580982892927, 1121.4544411016805, 1061.878266815861, 1018.2391792574136, 957.208555802102, 947.9313121948641, 883.4448080696023, 7653.418868426944, 2469.2555026070327, 29984.734189557534, 58605.663465830825, 20052.945660936348, 13271.208498836597, 8269.12874587088, 19356.955895351355, 33224.78531322569, 7302.382024898575, 28124.507849887796, 4738.612465479588, 27421.667124761127, 41940.3620198138, 7843.6087641031145, 9976.980166712032, 13953.039864145405, 13966.970023825172, 13356.726695747911, 24729.67592700585, 9257.257120748645, 9069.063394878855, 7273.495558267439, 12270.149920006816, 8366.57625559418, 9251.35373384702, 8135.694990308183], \"Total\": [388017.0, 106776.0, 110684.0, 80519.0, 105181.0, 78730.0, 83995.0, 124060.0, 79262.0, 122007.0, 424374.0, 132112.0, 178858.0, 60076.0, 45006.0, 55361.0, 125767.0, 441785.0, 115170.0, 225536.0, 41181.0, 52526.0, 94104.0, 263488.0, 157103.0, 154896.0, 38722.0, 58054.0, 225936.0, 29555.0, 2841.5978179226863, 1557.1734810137593, 606.4518043268636, 566.42323341618, 560.8127604899344, 532.4362748298058, 497.30098657913805, 488.8140290074431, 383.6500148014841, 358.3809210911096, 329.9766515616363, 330.0649632412121, 320.2279322408649, 319.6599231822403, 314.07971391763675, 299.80331261293566, 299.1650271591695, 295.731963237243, 289.52786713214635, 274.67989861244257, 268.71583262573205, 268.8598459712604, 260.2723683838255, 258.89541092116025, 244.45593373009558, 237.4230247553631, 237.0939651236612, 232.25665481837015, 231.63734633444332, 214.82874445613245, 850.6619673165004, 49353.426726045094, 4392.779026487343, 407.3666101214106, 16455.555994483777, 132112.94815325987, 115170.6776522077, 154896.06168115415, 22810.702781225817, 37299.37727846734, 19390.912084356027, 46707.37241533561, 40585.46156515731, 2516.6424595301432, 388017.97581565223, 39100.625833063845, 14182.061679982764, 31649.425246738017, 957.4764586643394, 93327.7441031511, 441785.5575635233, 263488.00684394414, 99472.95589161615, 225536.79973231093, 32213.73434628736, 9793.27289088021, 424374.5723849458, 225936.35201959105, 5713.72437410952, 12606.068562948467, 25110.278085396, 56638.8220544844, 110684.94037579991, 30510.138171057824, 116419.63148811787, 124809.95756151072, 134990.58794485132, 95268.74661052528, 94104.3545717746, 192637.50346352666, 84013.4636967678, 178858.5849292699, 48262.758878005894, 94142.05015448209, 157103.01944886928, 20142.95935492882, 14928.629103627012, 13888.382502422417, 13247.212882846059, 10722.888656410796, 8378.886800778319, 8315.219800262701, 7554.762460027861, 7108.278942431903, 6911.568599686117, 5817.260966039758, 5639.8042917409275, 5203.439992565186, 5181.630659043851, 4944.763405923454, 4794.62380829238, 4619.075395163548, 4448.01307967864, 4374.2533530037745, 4234.480319789675, 4176.452927108862, 4096.913680877495, 3948.843871346328, 3719.470553463126, 3685.047848397525, 3489.030738421631, 3278.751643849023, 3278.5778420162783, 3209.9340010798633, 3203.7272294387067, 6721.6437040073415, 9583.592977016062, 20921.419674919103, 19499.49586145989, 6802.958561644121, 48748.815315575484, 7171.88612459735, 17027.875747265185, 23374.155751549308, 11700.619193469001, 157103.01944886928, 29728.566729368908, 24418.93562521719, 73705.68456845121, 19595.239630938195, 32899.23493814132, 46479.035002406185, 26735.335378878124, 17546.212558156763, 9851.128268107892, 16841.050150605206, 33642.58593439482, 64518.69270839369, 17727.60813823053, 30474.81638719075, 30205.481716993418, 125767.42717753802, 77416.99553154316, 57209.25811531079, 263488.00684394414, 178858.5849292699, 192637.50346352666, 92609.01578291791, 97612.26059651919, 441785.5575635233, 154896.06168115415, 424374.5723849458, 225536.79973231093, 388017.97581565223, 94104.3545717746, 83995.1823939423, 52526.433016923314, 2627.9115583373673, 1956.1391307403617, 1892.9835177006814, 1691.6414569706733, 1657.236545493208, 1647.9532518960723, 1574.5399041475873, 1065.0533021764418, 969.1153776663614, 932.9875692279226, 915.2926912448447, 790.474094430776, 725.3837023396753, 706.6235815945229, 694.8904426448014, 674.7066525462564, 626.1195536289526, 615.0229956042032, 509.7830102366059, 477.8067496630408, 450.61195373024105, 439.96403670756996, 437.15815984948387, 435.80054194328903, 422.00864159481694, 398.09500563588267, 376.69988642346493, 364.76814468642596, 5784.441670498713, 122007.79732016326, 125767.42717753802, 178858.5849292699, 4387.940169687581, 37767.6969682762, 6857.019152054714, 2096.3551093181604, 6688.971193702415, 46881.19194331948, 38003.47137125346, 35772.91519770809, 51207.5776467603, 7484.240989708018, 424374.5723849458, 60159.29644277629, 56638.8220544844, 124809.95756151072, 36309.58138405684, 263488.00684394414, 157103.01944886928, 95842.43045559477, 441785.5575635233, 106776.69216391136, 24278.014229769542, 29952.86620165417, 388017.97581565223, 225936.35201959105, 40072.17193718184, 134990.58794485132, 52122.17568171767, 132112.94815325987, 124060.80164844991, 192637.50346352666, 225536.79973231093, 68159.15836295976, 116419.63148811787, 95268.74661052528, 93327.7441031511, 92609.01578291791, 94142.05015448209, 60076.22732988608, 17808.74306041819, 8332.308232503132, 6696.297763893998, 6208.466767554666, 3203.452525350239, 3016.6113885078007, 2811.1504548733683, 2709.810255254693, 1836.2225837666806, 1755.740193026433, 1525.9507230400657, 1449.657772576686, 1441.925780483094, 1350.154236872088, 1127.8762933953506, 1119.373402257484, 1086.4327904781203, 988.0209278270287, 939.2646007477207, 937.6797444737923, 934.6744075426865, 911.1630931732786, 880.3516916258652, 843.0200861975737, 833.345583581312, 822.7327428583108, 815.3909610606876, 793.4977267517642, 790.3492187337332, 9873.13765346372, 79262.3617993013, 43275.17648416249, 38887.25616922539, 3339.4451738089456, 4464.380598912806, 23659.62492817203, 9806.784634425336, 9833.785471323294, 85800.39870315393, 39437.21355845806, 77416.99553154316, 46555.614683276326, 9084.047643483877, 3031.9605760282566, 28561.33662220373, 41829.26322619406, 84013.4636967678, 33823.629580794644, 21793.99115757464, 23272.792001351496, 10305.90239079138, 40072.17193718184, 25939.490706845514, 441785.5575635233, 54984.99694175742, 68159.15836295976, 64518.69270839369, 225936.35201959105, 424374.5723849458, 95842.43045559477, 124809.95756151072, 115170.6776522077, 38901.34535687675, 52122.17568171767, 66229.99411935963, 55677.96623580904, 134990.58794485132, 154896.06168115415, 78730.22147741383, 36283.842332335065, 33051.61710066195, 27145.110702770904, 18116.689671645865, 17835.03269532921, 15619.714090076252, 13908.318066758102, 8123.28289904606, 7601.477518303687, 7176.414516503574, 5322.972906093459, 4555.212692165341, 3797.6783705108724, 2831.408453663446, 2533.3432416423047, 2107.9521200355857, 2088.1319535089747, 1972.2156830737808, 1925.6762680065463, 1650.0641186579617, 1333.125074801724, 1256.7887226634675, 1230.857743736194, 1199.0997790140138, 1119.0929923863137, 976.6227828417323, 967.6409361357918, 904.4829443964283, 753.688523709949, 25874.345498145776, 4466.400888177746, 46567.54826930641, 37727.14033527206, 8460.495055377934, 14339.759734778407, 27828.154361123507, 36541.40279009975, 14616.16190161198, 30847.957520188378, 124060.80164844991, 7058.370785206336, 105181.0850976982, 14816.363514021295, 41555.513507794065, 27301.585425419227, 58022.93302094191, 388017.97581565223, 41525.03712234723, 225536.79973231093, 55361.56140923319, 28205.55550187148, 70317.76386634339, 99472.95589161615, 192637.50346352666, 46157.84581398017, 424374.5723849458, 75740.55318862785, 441785.5575635233, 80519.50066939177, 263488.00684394414, 92609.01578291791, 19432.261340249453, 14013.974566526205, 13101.194172898631, 11021.093804677223, 8684.34521854168, 6930.245800327487, 6221.6259282975925, 6015.696441992085, 5866.438854957582, 4917.145869830204, 4456.9740943464285, 4036.8718761385558, 3954.491493748599, 3895.89167002735, 3057.5677289213654, 2849.8309055483032, 2745.4850110474395, 2693.952708889447, 2161.63027792612, 2121.7357167385717, 2033.331034425356, 2029.7945643912644, 1797.541858210224, 1710.001206696156, 1564.3226250535974, 1493.5293006716752, 1436.9490324707153, 1402.2897848744972, 1281.696310256678, 1208.8772459136233, 2765.8686456888577, 14194.171462184382, 11081.173164067475, 14443.039930515093, 4737.576785189607, 15785.947932975028, 10477.148378792104, 15718.853905195383, 106776.69216391136, 7499.805416151094, 110684.94037579991, 4676.620151977623, 11051.372047002915, 8878.457808956055, 55677.96623580904, 9317.652544585311, 12145.107052169074, 8241.188934659833, 9694.46558611061, 7691.174730624553, 40486.80580369397, 10507.995143493383, 37767.6969682762, 22849.3270000757, 29952.86620165417, 97612.26059651919, 31649.425246738017, 30033.477068622076, 225936.35201959105, 85800.39870315393, 92609.01578291791, 95842.43045559477, 39100.625833063845, 57209.25811531079, 33823.629580794644, 134990.58794485132, 441785.5575635233, 192637.50346352666, 9661.812464965533, 8839.830735358879, 8102.220776674714, 7506.979718957008, 7171.699249579188, 7040.035699632036, 6974.075857356475, 6033.239591207168, 5910.52705545595, 5560.548115396004, 5358.195566124727, 5040.83343253839, 3762.49051183395, 3624.9738982314584, 3398.7033047621007, 3235.111878295117, 2856.878000437294, 2339.5506758706797, 2172.2115920243873, 2024.2079308261243, 1719.9456106501932, 1615.930821704171, 1588.3086580452675, 1510.7054542990993, 1492.0375839038804, 1341.6516715748535, 1301.1677267647801, 1233.4256543748756, 1216.8056688166942, 1135.6323017385866, 2686.155013817325, 7838.033773190896, 40093.47047284231, 4121.795285114968, 6791.2095099290855, 5423.449296784247, 13858.920577553006, 16136.337572217084, 9455.345246949453, 3647.6876956545907, 59128.67253304532, 94104.3545717746, 46479.035002406185, 10917.448437990803, 35325.67583416803, 14271.794085727255, 14052.848014810475, 66229.99411935963, 16886.755489338884, 94142.05015448209, 17720.105110994336, 192637.50346352666, 47189.09919119692, 48262.758878005894, 116419.63148811787, 73705.68456845121, 42589.6108609087, 60159.29644277629, 29728.566729368908, 79262.3617993013, 95268.74661052528, 64827.344690101745, 70317.76386634339, 388017.97581565223, 441785.5575635233, 41181.591926562294, 7917.88880044457, 6584.632713226985, 4048.729477032068, 3717.8233015461733, 3647.726413360719, 3598.949901063905, 3069.0133006272467, 2840.973548651472, 2763.1847799167094, 2650.0690141561904, 2617.179702364741, 2572.6870130675898, 2545.12984855885, 2144.7427714037008, 2084.987204299072, 1884.481713887196, 1866.0373968813863, 1785.4568497981893, 1582.641185331012, 1425.1809078390695, 1415.7632886273404, 1243.3522502502149, 1200.7829888749102, 1096.2918150541834, 1085.567128252795, 1074.8017865130162, 1068.393734752114, 1051.4153874048868, 972.0609490865047, 16917.302821729896, 8206.63591867871, 3538.543708192002, 2261.873497513457, 45467.810072060056, 2037.716300383859, 26644.446292961376, 57209.25811531079, 40486.80580369397, 13575.669439872834, 19065.949519962196, 64459.51088171369, 30655.48396905416, 35382.89092313535, 5738.792029066811, 4166.852777244776, 22849.3270000757, 30726.932576572435, 10197.437955505122, 57373.685993243555, 15380.04670030765, 21221.133452343165, 26085.96253708264, 18228.561835339784, 20152.550900849357, 97612.26059651919, 39729.15962142602, 424374.5723849458, 95268.74661052528, 58022.93302094191, 95842.43045559477, 34754.31756351051, 46157.84581398017, 441785.5575635233, 64518.69270839369, 68159.15836295976, 99472.95589161615, 45006.01937493477, 29555.158011096395, 24019.665070227722, 23387.59002720533, 8721.650923584144, 7828.281271024196, 7822.414026821905, 7813.530381322011, 5848.779682401953, 4735.681756012094, 4546.50534495776, 2604.5475186326885, 2547.8669536646394, 2173.2805176008765, 1734.062618684606, 1699.6173782842268, 1523.992739111746, 1452.665415009451, 1448.0870850657398, 1409.08120727302, 1351.6628900512092, 1291.680824490719, 1228.282742515222, 1161.6490137973242, 1122.5220920255408, 1062.9453601188081, 1019.3069077412185, 958.2767923937981, 948.9984643045871, 884.5120792868827, 8658.50501185749, 2627.642150660153, 38722.95834621021, 80519.50066939177, 28427.73787091482, 18389.725969145653, 10793.207801476356, 29080.63940936167, 55361.56140923319, 9831.266730536221, 50776.20725718269, 6358.601152640458, 58054.12208927181, 105181.0850976982, 12306.213445518122, 18182.01783582913, 34018.10469329778, 41555.513507794065, 41525.03712234723, 124060.80164844991, 24166.276758202584, 26630.183327957267, 15853.166386401204, 97612.26059651919, 42956.245255931426, 225536.79973231093, 125767.42717753802], \"Category\": [\"Default\", \"Default\", \"Default\", \"Default\", \"Default\", \"Default\", \"Default\", \"Default\", \"Default\", \"Default\", \"Default\", \"Default\", \"Default\", \"Default\", \"Default\", \"Default\", \"Default\", \"Default\", \"Default\", \"Default\", \"Default\", \"Default\", \"Default\", \"Default\", \"Default\", \"Default\", \"Default\", \"Default\", \"Default\", \"Default\", \"Topic1\", \"Topic1\", \"Topic1\", \"Topic1\", \"Topic1\", \"Topic1\", \"Topic1\", \"Topic1\", \"Topic1\", \"Topic1\", \"Topic1\", \"Topic1\", \"Topic1\", \"Topic1\", \"Topic1\", \"Topic1\", \"Topic1\", \"Topic1\", \"Topic1\", \"Topic1\", \"Topic1\", \"Topic1\", \"Topic1\", \"Topic1\", \"Topic1\", \"Topic1\", \"Topic1\", \"Topic1\", \"Topic1\", \"Topic1\", \"Topic1\", \"Topic1\", \"Topic1\", \"Topic1\", \"Topic1\", \"Topic1\", \"Topic1\", \"Topic1\", \"Topic1\", \"Topic1\", \"Topic1\", \"Topic1\", \"Topic1\", \"Topic1\", \"Topic1\", \"Topic1\", \"Topic1\", \"Topic1\", \"Topic1\", \"Topic1\", \"Topic1\", \"Topic1\", \"Topic1\", \"Topic1\", \"Topic1\", \"Topic1\", \"Topic1\", \"Topic1\", \"Topic1\", \"Topic1\", \"Topic1\", \"Topic1\", \"Topic1\", \"Topic1\", \"Topic1\", \"Topic1\", \"Topic1\", \"Topic1\", \"Topic1\", \"Topic1\", \"Topic1\", \"Topic1\", \"Topic1\", \"Topic1\", \"Topic1\", \"Topic2\", \"Topic2\", \"Topic2\", \"Topic2\", \"Topic2\", \"Topic2\", \"Topic2\", \"Topic2\", \"Topic2\", \"Topic2\", \"Topic2\", \"Topic2\", \"Topic2\", \"Topic2\", \"Topic2\", \"Topic2\", \"Topic2\", \"Topic2\", \"Topic2\", \"Topic2\", \"Topic2\", \"Topic2\", \"Topic2\", \"Topic2\", \"Topic2\", \"Topic2\", \"Topic2\", \"Topic2\", \"Topic2\", \"Topic2\", \"Topic2\", \"Topic2\", \"Topic2\", \"Topic2\", \"Topic2\", \"Topic2\", \"Topic2\", \"Topic2\", \"Topic2\", \"Topic2\", \"Topic2\", \"Topic2\", \"Topic2\", \"Topic2\", \"Topic2\", \"Topic2\", \"Topic2\", \"Topic2\", \"Topic2\", \"Topic2\", \"Topic2\", \"Topic2\", \"Topic2\", \"Topic2\", \"Topic2\", \"Topic2\", \"Topic2\", \"Topic2\", \"Topic2\", \"Topic2\", \"Topic2\", \"Topic2\", \"Topic2\", \"Topic2\", \"Topic2\", \"Topic2\", \"Topic2\", \"Topic2\", \"Topic2\", \"Topic2\", \"Topic3\", \"Topic3\", \"Topic3\", \"Topic3\", \"Topic3\", \"Topic3\", \"Topic3\", \"Topic3\", \"Topic3\", \"Topic3\", \"Topic3\", \"Topic3\", \"Topic3\", \"Topic3\", \"Topic3\", \"Topic3\", \"Topic3\", \"Topic3\", \"Topic3\", \"Topic3\", \"Topic3\", \"Topic3\", \"Topic3\", \"Topic3\", \"Topic3\", \"Topic3\", \"Topic3\", \"Topic3\", \"Topic3\", \"Topic3\", \"Topic3\", \"Topic3\", \"Topic3\", \"Topic3\", \"Topic3\", \"Topic3\", \"Topic3\", \"Topic3\", \"Topic3\", \"Topic3\", \"Topic3\", \"Topic3\", \"Topic3\", \"Topic3\", \"Topic3\", \"Topic3\", \"Topic3\", \"Topic3\", \"Topic3\", \"Topic3\", \"Topic3\", \"Topic3\", \"Topic3\", \"Topic3\", \"Topic3\", \"Topic3\", \"Topic3\", \"Topic3\", \"Topic3\", \"Topic3\", \"Topic3\", \"Topic3\", \"Topic3\", \"Topic3\", \"Topic3\", \"Topic3\", \"Topic3\", \"Topic3\", \"Topic3\", \"Topic3\", \"Topic3\", \"Topic4\", \"Topic4\", \"Topic4\", \"Topic4\", \"Topic4\", \"Topic4\", \"Topic4\", \"Topic4\", \"Topic4\", \"Topic4\", \"Topic4\", \"Topic4\", \"Topic4\", \"Topic4\", \"Topic4\", \"Topic4\", \"Topic4\", \"Topic4\", \"Topic4\", \"Topic4\", \"Topic4\", \"Topic4\", \"Topic4\", \"Topic4\", \"Topic4\", \"Topic4\", \"Topic4\", \"Topic4\", \"Topic4\", \"Topic4\", \"Topic4\", \"Topic4\", \"Topic4\", \"Topic4\", \"Topic4\", \"Topic4\", \"Topic4\", \"Topic4\", \"Topic4\", \"Topic4\", \"Topic4\", \"Topic4\", \"Topic4\", \"Topic4\", \"Topic4\", \"Topic4\", \"Topic4\", \"Topic4\", \"Topic4\", \"Topic4\", \"Topic4\", \"Topic4\", \"Topic4\", \"Topic4\", \"Topic4\", \"Topic4\", \"Topic4\", \"Topic4\", \"Topic4\", \"Topic4\", \"Topic4\", \"Topic4\", \"Topic4\", \"Topic4\", \"Topic4\", \"Topic4\", \"Topic4\", \"Topic4\", \"Topic4\", \"Topic5\", \"Topic5\", \"Topic5\", \"Topic5\", \"Topic5\", \"Topic5\", \"Topic5\", \"Topic5\", \"Topic5\", \"Topic5\", \"Topic5\", \"Topic5\", \"Topic5\", \"Topic5\", \"Topic5\", \"Topic5\", \"Topic5\", \"Topic5\", \"Topic5\", \"Topic5\", \"Topic5\", \"Topic5\", \"Topic5\", \"Topic5\", \"Topic5\", \"Topic5\", \"Topic5\", \"Topic5\", \"Topic5\", \"Topic5\", \"Topic5\", \"Topic5\", \"Topic5\", \"Topic5\", \"Topic5\", \"Topic5\", \"Topic5\", \"Topic5\", \"Topic5\", \"Topic5\", \"Topic5\", \"Topic5\", \"Topic5\", \"Topic5\", \"Topic5\", \"Topic5\", \"Topic5\", \"Topic5\", \"Topic5\", \"Topic5\", \"Topic5\", \"Topic5\", \"Topic5\", \"Topic5\", \"Topic5\", \"Topic5\", \"Topic5\", \"Topic5\", \"Topic5\", \"Topic5\", \"Topic5\", \"Topic5\", \"Topic6\", \"Topic6\", \"Topic6\", \"Topic6\", \"Topic6\", \"Topic6\", \"Topic6\", \"Topic6\", \"Topic6\", \"Topic6\", \"Topic6\", \"Topic6\", \"Topic6\", \"Topic6\", \"Topic6\", \"Topic6\", \"Topic6\", \"Topic6\", \"Topic6\", \"Topic6\", \"Topic6\", \"Topic6\", \"Topic6\", \"Topic6\", \"Topic6\", \"Topic6\", \"Topic6\", \"Topic6\", \"Topic6\", \"Topic6\", \"Topic6\", \"Topic6\", \"Topic6\", \"Topic6\", \"Topic6\", \"Topic6\", \"Topic6\", \"Topic6\", \"Topic6\", \"Topic6\", \"Topic6\", \"Topic6\", \"Topic6\", \"Topic6\", \"Topic6\", \"Topic6\", \"Topic6\", \"Topic6\", \"Topic6\", \"Topic6\", \"Topic6\", \"Topic6\", \"Topic6\", \"Topic6\", \"Topic6\", \"Topic6\", \"Topic6\", \"Topic6\", \"Topic6\", \"Topic6\", \"Topic6\", \"Topic6\", \"Topic6\", \"Topic6\", \"Topic6\", \"Topic6\", \"Topic6\", \"Topic6\", \"Topic7\", \"Topic7\", \"Topic7\", \"Topic7\", \"Topic7\", \"Topic7\", \"Topic7\", \"Topic7\", \"Topic7\", \"Topic7\", \"Topic7\", \"Topic7\", \"Topic7\", \"Topic7\", \"Topic7\", \"Topic7\", \"Topic7\", \"Topic7\", \"Topic7\", \"Topic7\", \"Topic7\", \"Topic7\", \"Topic7\", \"Topic7\", \"Topic7\", \"Topic7\", \"Topic7\", \"Topic7\", \"Topic7\", \"Topic7\", \"Topic7\", \"Topic7\", \"Topic7\", \"Topic7\", \"Topic7\", \"Topic7\", \"Topic7\", \"Topic7\", \"Topic7\", \"Topic7\", \"Topic7\", \"Topic7\", \"Topic7\", \"Topic7\", \"Topic7\", \"Topic7\", \"Topic7\", \"Topic7\", \"Topic7\", \"Topic7\", \"Topic7\", \"Topic7\", \"Topic7\", \"Topic7\", \"Topic7\", \"Topic7\", \"Topic7\", \"Topic7\", \"Topic7\", \"Topic7\", \"Topic7\", \"Topic7\", \"Topic7\", \"Topic7\", \"Topic7\", \"Topic8\", \"Topic8\", \"Topic8\", \"Topic8\", \"Topic8\", \"Topic8\", \"Topic8\", \"Topic8\", \"Topic8\", \"Topic8\", \"Topic8\", \"Topic8\", \"Topic8\", \"Topic8\", \"Topic8\", \"Topic8\", \"Topic8\", \"Topic8\", \"Topic8\", \"Topic8\", \"Topic8\", \"Topic8\", \"Topic8\", \"Topic8\", \"Topic8\", \"Topic8\", \"Topic8\", \"Topic8\", \"Topic8\", \"Topic8\", \"Topic8\", \"Topic8\", \"Topic8\", \"Topic8\", \"Topic8\", \"Topic8\", \"Topic8\", \"Topic8\", \"Topic8\", \"Topic8\", \"Topic8\", \"Topic8\", \"Topic8\", \"Topic8\", \"Topic8\", \"Topic8\", \"Topic8\", \"Topic8\", \"Topic8\", \"Topic8\", \"Topic8\", \"Topic8\", \"Topic8\", \"Topic8\", \"Topic8\", \"Topic8\", \"Topic8\", \"Topic8\", \"Topic8\", \"Topic8\", \"Topic8\", \"Topic8\", \"Topic8\", \"Topic8\", \"Topic8\", \"Topic8\", \"Topic8\", \"Topic9\", \"Topic9\", \"Topic9\", \"Topic9\", \"Topic9\", \"Topic9\", \"Topic9\", \"Topic9\", \"Topic9\", \"Topic9\", \"Topic9\", \"Topic9\", \"Topic9\", \"Topic9\", \"Topic9\", \"Topic9\", \"Topic9\", \"Topic9\", \"Topic9\", \"Topic9\", \"Topic9\", \"Topic9\", \"Topic9\", \"Topic9\", \"Topic9\", \"Topic9\", \"Topic9\", \"Topic9\", \"Topic9\", \"Topic9\", \"Topic9\", \"Topic9\", \"Topic9\", \"Topic9\", \"Topic9\", \"Topic9\", \"Topic9\", \"Topic9\", \"Topic9\", \"Topic9\", \"Topic9\", \"Topic9\", \"Topic9\", \"Topic9\", \"Topic9\", \"Topic9\", \"Topic9\", \"Topic9\", \"Topic9\", \"Topic9\", \"Topic9\", \"Topic9\", \"Topic9\", \"Topic9\", \"Topic9\", \"Topic9\", \"Topic9\"], \"logprob\": [30.0, 29.0, 28.0, 27.0, 26.0, 25.0, 24.0, 23.0, 22.0, 21.0, 20.0, 19.0, 18.0, 17.0, 16.0, 15.0, 14.0, 13.0, 12.0, 11.0, 10.0, 9.0, 8.0, 7.0, 6.0, 5.0, 4.0, 3.0, 2.0, 1.0, -6.9317, -7.5336, -8.4777, -8.5461, -8.5561, -8.6081, -8.6765, -8.6938, -8.9367, -9.0051, -9.0879, -9.0876, -9.118, -9.1198, -9.1374, -9.1841, -9.1863, -9.1978, -9.2191, -9.272, -9.294, -9.2935, -9.3261, -9.3314, -9.3891, -9.4184, -9.4198, -9.4405, -9.4432, -9.5189, -8.1703, -4.2845, -6.6329, -8.9051, -5.3981, -3.4426, -3.6364, -3.3871, -5.1807, -4.7345, -5.3375, -4.5501, -4.6943, -7.2422, -2.7183, -4.8033, -5.7132, -5.0216, -8.1408, -4.0718, -2.7481, -3.2116, -4.0777, -3.4101, -5.1229, -6.1387, -2.982, -3.5135, -6.6173, -5.9608, -5.3958, -4.7412, -4.2028, -5.2614, -4.2277, -4.1925, -4.2038, -4.4521, -4.5508, -4.1739, -4.6967, -4.5004, -5.0248, -4.9355, -4.8687, -4.9412, -5.2408, -5.313, -5.3603, -5.5717, -5.8184, -5.826, -5.922, -5.9829, -6.011, -6.1834, -6.2143, -6.2949, -6.2991, -6.3459, -6.3767, -6.414, -6.4518, -6.4685, -6.501, -6.5148, -6.534, -6.5708, -6.6307, -6.64, -6.6947, -6.7569, -6.7569, -6.7781, -6.78, -6.08, -5.7695, -5.0604, -5.1357, -6.1027, -4.3733, -6.0563, -5.3289, -5.0796, -5.6782, -3.5919, -4.9658, -5.1543, -4.3277, -5.3298, -4.9839, -4.7654, -5.1612, -5.4716, -5.865, -5.5346, -5.1129, -4.7348, -5.5269, -5.2685, -5.2748, -4.6058, -4.8905, -5.0233, -4.4484, -4.6208, -4.6722, -4.9835, -4.9666, -4.5157, -4.8539, -4.638, -4.8385, -5.0128, -5.2254, -3.3326, -3.8021, -6.7976, -7.0929, -7.1258, -7.2383, -7.2589, -7.2645, -7.3101, -7.7013, -7.7958, -7.8339, -7.853, -7.9998, -8.0859, -8.1121, -8.1289, -8.1584, -8.2333, -8.2512, -8.4392, -8.5041, -8.5628, -8.5868, -8.5932, -8.5963, -8.6286, -8.6871, -8.7424, -8.7747, -6.0277, -3.2788, -3.4777, -3.1618, -6.5454, -4.6534, -6.1572, -7.2024, -6.185, -4.5772, -4.7999, -4.8821, -4.6232, -6.1994, -3.0127, -4.5586, -4.6237, -4.027, -4.9906, -3.4794, -3.9433, -4.3559, -3.3054, -4.3307, -5.3832, -5.2396, -3.5222, -3.8877, -5.0758, -4.2937, -4.9434, -4.3752, -4.5219, -4.3125, -4.2472, -4.8849, -4.6822, -4.7696, -4.7844, -4.809, -4.8467, -3.4833, -4.6993, -5.4589, -5.6775, -5.7532, -6.415, -6.4752, -6.5457, -6.5825, -6.9718, -7.0167, -7.157, -7.2084, -7.2137, -7.2795, -7.4596, -7.4671, -7.497, -7.5921, -7.6428, -7.6445, -7.6477, -7.6732, -7.7076, -7.751, -7.7626, -7.7754, -7.7844, -7.8116, -7.8156, -5.3484, -3.3913, -4.0688, -4.1835, -6.4754, -6.2577, -4.7993, -5.5758, -5.5744, -3.7723, -4.4473, -3.8785, -4.3205, -5.7444, -6.6445, -4.8687, -4.5685, -4.065, -4.7658, -5.1245, -5.1025, -5.7184, -4.7871, -5.0886, -3.2107, -4.5933, -4.4815, -4.5167, -3.8713, -3.582, -4.4694, -4.4104, -4.4594, -4.9676, -4.9314, -4.8758, -4.9454, -4.7909, -4.8114, -3.1775, -3.9522, -4.0455, -4.2424, -4.6468, -4.6624, -4.7951, -4.9111, -5.4489, -5.5153, -5.5729, -5.8717, -6.0275, -6.2094, -6.5032, -6.6144, -6.7983, -6.8078, -6.8649, -6.8888, -7.0434, -7.2568, -7.3158, -7.3367, -7.3629, -7.432, -7.5683, -7.5776, -7.6451, -7.8278, -4.3423, -6.0937, -3.8206, -4.0673, -5.5403, -5.05, -4.5013, -4.3092, -5.1458, -4.491, -3.4249, -5.8139, -3.644, -5.2309, -4.4966, -4.8468, -4.3141, -2.9967, -4.5668, -3.5029, -4.4463, -4.879, -4.4307, -4.2701, -3.9613, -4.6758, -3.7008, -4.5726, -4.2616, -4.6584, -4.4845, -4.7092, -4.4051, -4.732, -4.7994, -4.9723, -5.2106, -5.4363, -5.5442, -5.5778, -5.6029, -5.7795, -5.8778, -5.9768, -5.9974, -6.0124, -6.2547, -6.3251, -6.3624, -6.3814, -6.6016, -6.6203, -6.6629, -6.6646, -6.7862, -6.8362, -6.9253, -6.9716, -7.0102, -7.0347, -7.1247, -7.1832, -6.3661, -4.7691, -5.0128, -4.7899, -5.8792, -4.762, -5.1447, -4.7786, -3.0437, -5.5041, -3.1646, -5.967, -5.2626, -5.4457, -4.0639, -5.4286, -5.2327, -5.5278, -5.4129, -5.5806, -4.5802, -5.3936, -4.6412, -4.9548, -4.8348, -4.2415, -4.8491, -4.8879, -4.0107, -4.5315, -4.6255, -4.6177, -4.9647, -4.9717, -5.1604, -4.9303, -4.9007, -5.1616, -4.9677, -5.0566, -5.1437, -5.2201, -5.2658, -5.2843, -5.2937, -5.4386, -5.4592, -5.5203, -5.5573, -5.6184, -5.911, -5.9482, -6.0127, -6.062, -6.1864, -6.3863, -6.4605, -6.5311, -6.6941, -6.7565, -6.7738, -6.8239, -6.8363, -6.9427, -6.9733, -7.0268, -7.0404, -7.1095, -6.2879, -5.3252, -3.838, -5.9219, -5.4781, -5.6833, -4.8622, -4.7321, -5.2096, -6.0634, -3.8026, -3.55, -4.1238, -5.2424, -4.3815, -5.0665, -5.1072, -4.1074, -4.9882, -3.9006, -4.9764, -3.6081, -4.5301, -4.5714, -4.1859, -4.4659, -4.7089, -4.5835, -4.9257, -4.6408, -4.5925, -4.7544, -4.7366, -4.646, -4.894, -3.3559, -5.0049, -5.1893, -5.6757, -5.761, -5.7801, -5.7935, -5.9529, -6.0301, -6.0579, -6.0997, -6.1122, -6.1293, -6.1401, -6.3114, -6.3396, -6.4408, -6.4506, -6.4948, -6.6155, -6.7203, -6.727, -6.8569, -6.8918, -6.9829, -6.9928, -7.0028, -7.0087, -7.0248, -7.1033, -4.5924, -5.2371, -5.9819, -6.3812, -3.9441, -6.4795, -4.4479, -3.9372, -4.2074, -5.0486, -4.8011, -3.9742, -4.5211, -4.4783, -5.716, -5.9476, -4.9166, -4.7502, -5.4073, -4.4281, -5.1761, -5.0527, -4.9645, -5.1425, -5.1049, -4.3585, -4.8608, -3.8268, -4.4839, -4.7435, -4.669, -5.022, -4.9917, -4.7184, -5.0554, -5.0629, -5.1173, -3.1054, -3.5259, -3.7333, -3.76, -4.7465, -4.8545, -4.8553, -4.8564, -5.1461, -5.3572, -5.398, -5.9553, -5.9773, -6.1364, -6.3623, -6.3824, -6.4915, -6.5395, -6.5426, -6.57, -6.6116, -6.657, -6.7074, -6.7632, -6.7975, -6.8521, -6.8941, -6.9559, -6.9656, -7.0361, -4.877, -6.0082, -3.5114, -2.8413, -3.9138, -4.3265, -4.7996, -3.9491, -3.4088, -4.9239, -3.5755, -5.3564, -3.6008, -3.1759, -4.8524, -4.6119, -4.2764, -4.2754, -4.3201, -3.7041, -4.6867, -4.7073, -4.9279, -4.405, -4.7879, -4.6874, -4.8159], \"loglift\": [30.0, 29.0, 28.0, 27.0, 26.0, 25.0, 24.0, 23.0, 22.0, 21.0, 20.0, 19.0, 18.0, 17.0, 16.0, 15.0, 14.0, 13.0, 12.0, 11.0, 10.0, 9.0, 8.0, 7.0, 6.0, 5.0, 4.0, 3.0, 2.0, 1.0, 1.7702, 1.7698, 1.7687, 1.7685, 1.7685, 1.7684, 1.7683, 1.7682, 1.7676, 1.7673, 1.7671, 1.7671, 1.767, 1.7669, 1.7669, 1.7668, 1.7667, 1.7667, 1.7666, 1.7664, 1.7663, 1.7663, 1.7662, 1.7662, 1.7659, 1.7658, 1.7657, 1.7656, 1.7656, 1.7653, 1.7377, 1.5627, 1.6334, 1.7392, 1.5475, 1.42, 1.3635, 1.3164, 1.4383, 1.3928, 1.444, 1.3523, 1.3485, 1.5811, 1.0669, 1.2768, 1.3811, 1.2699, 1.6489, 1.1383, 0.9073, 0.9606, 1.0687, 0.9177, 1.1509, 1.3258, 0.7136, 0.8125, 1.3861, 1.2513, 1.1272, 0.9683, 0.8367, 1.0668, 0.7613, 0.727, 0.6373, 0.7374, 0.651, 0.3115, 0.6186, 0.0593, 0.8448, 0.2659, -0.1794, 1.8022, 1.8022, 1.8022, 1.8022, 1.8022, 1.8021, 1.8021, 1.8021, 1.8021, 1.8021, 1.8021, 1.8021, 1.802, 1.802, 1.802, 1.802, 1.802, 1.802, 1.802, 1.802, 1.802, 1.802, 1.802, 1.802, 1.802, 1.8019, 1.8019, 1.8019, 1.8019, 1.8019, 1.7609, 1.7167, 1.6451, 1.6402, 1.7261, 1.4862, 1.7198, 1.5825, 1.515, 1.6084, 1.0974, 1.3884, 1.3966, 1.1184, 1.4411, 1.2689, 1.1419, 1.2991, 1.4098, 1.5937, 1.3878, 1.1176, 0.8445, 1.3442, 1.0608, 1.0634, 0.306, 0.5066, 0.6762, -0.2761, -0.0611, -0.1868, 0.2344, 0.1986, -0.8602, -0.1504, -0.9424, -0.5107, -1.2276, -0.0235, 1.9828, 1.9828, 1.9825, 1.9823, 1.9823, 1.9822, 1.9822, 1.9822, 1.9822, 1.9819, 1.9818, 1.9817, 1.9817, 1.9815, 1.9814, 1.9814, 1.9814, 1.9813, 1.9812, 1.9812, 1.9808, 1.9807, 1.9806, 1.9805, 1.9805, 1.9805, 1.9804, 1.9803, 1.9801, 1.98, 1.9634, 1.6634, 1.4341, 1.3978, 1.722, 1.4614, 1.6637, 1.8037, 1.6608, 1.3214, 1.3086, 1.287, 1.1872, 1.5341, 0.6829, 1.0907, 1.0859, 0.8924, 1.1636, 0.6929, 0.7461, 0.8276, 0.35, 0.7448, 1.1735, 1.107, 0.2629, 0.4383, 0.9797, 0.5473, 0.8493, 0.4874, 0.4035, 0.173, 0.0806, 0.6395, 0.3068, 0.4199, 0.4257, 0.4088, 0.3547, 2.1673, 2.1673, 2.1672, 2.1672, 2.1671, 2.167, 2.167, 2.1669, 2.1669, 2.1667, 2.1667, 2.1666, 2.1666, 2.1666, 2.1665, 2.1663, 2.1663, 2.1663, 2.1662, 2.1661, 2.1661, 2.1661, 2.1661, 2.1661, 2.166, 2.166, 2.166, 2.166, 2.1659, 2.1659, 2.108, 1.9822, 1.9099, 1.9021, 2.065, 1.9924, 1.7831, 1.8874, 1.886, 1.5219, 1.6242, 1.5185, 1.5851, 1.7953, 1.9925, 1.5255, 1.4442, 1.2502, 1.4593, 1.5401, 1.4964, 1.6951, 1.2684, 1.4018, 0.4447, 1.1459, 1.0429, 1.0626, 0.4547, 0.1136, 0.7142, 0.509, 0.5404, 1.1176, 0.8612, 0.6773, 0.7813, 0.0501, -0.1079, 2.2027, 2.2027, 2.2027, 2.2027, 2.2026, 2.2026, 2.2026, 2.2026, 2.2026, 2.2026, 2.2026, 2.2025, 2.2025, 2.2024, 2.2023, 2.2023, 2.2022, 2.2022, 2.2022, 2.2021, 2.202, 2.2019, 2.2018, 2.2018, 2.2018, 2.2017, 2.2016, 2.2016, 2.2015, 2.2013, 2.1507, 2.156, 2.0847, 2.0485, 2.0706, 2.0332, 1.9189, 1.8386, 1.9184, 1.8262, 1.5005, 1.9781, 1.4465, 1.8196, 1.5227, 1.5925, 1.3713, 0.7885, 1.4531, 0.8249, 1.286, 1.5278, 1.0625, 0.8763, 0.5242, 1.2384, -0.0052, 0.8463, -0.6062, 0.6993, -0.3123, 0.5087, 2.3742, 2.3742, 2.3742, 2.3741, 2.3741, 2.3741, 2.3741, 2.3741, 2.3741, 2.374, 2.374, 2.374, 2.374, 2.374, 2.3739, 2.3739, 2.3738, 2.3738, 2.3737, 2.3737, 2.3737, 2.3737, 2.3736, 2.3736, 2.3735, 2.3735, 2.3735, 2.3735, 2.3734, 2.3733, 2.3628, 2.3243, 2.3281, 2.2861, 2.3116, 2.2252, 2.2523, 2.2128, 2.0318, 2.2273, 1.8749, 2.2367, 2.081, 2.1169, 1.6628, 2.0857, 2.0166, 2.1093, 2.0618, 2.1256, 1.465, 2.0005, 1.4736, 1.6625, 1.5118, 0.9238, 1.4424, 1.456, 0.3153, 0.7628, 0.5924, 0.5659, 1.1154, 0.7279, 1.0647, -0.0892, -1.2453, -0.6761, 2.5104, 2.5104, 2.5104, 2.5103, 2.5103, 2.5103, 2.5103, 2.5103, 2.5103, 2.5103, 2.5103, 2.5103, 2.5102, 2.5102, 2.5102, 2.5102, 2.5101, 2.51, 2.51, 2.51, 2.5099, 2.5098, 2.5098, 2.5098, 2.5098, 2.5097, 2.5097, 2.5096, 2.5096, 2.5095, 2.4702, 2.3621, 2.217, 2.4081, 2.3526, 2.3722, 2.2551, 2.2331, 2.29, 2.3887, 1.864, 1.6518, 1.7834, 2.1135, 1.8001, 2.0214, 1.9962, 1.4457, 1.9315, 1.3009, 1.8951, 0.8773, 1.362, 1.2981, 0.8031, 0.9803, 1.2857, 1.0658, 1.4284, 0.7327, 0.597, 0.8202, 0.7566, -0.8608, -1.2386, 2.6724, 2.6723, 2.6722, 2.6721, 2.6721, 2.6721, 2.6721, 2.672, 2.672, 2.672, 2.672, 2.672, 2.672, 2.672, 2.6719, 2.6719, 2.6718, 2.6718, 2.6718, 2.6717, 2.6716, 2.6716, 2.6715, 2.6715, 2.6714, 2.6714, 2.6714, 2.6714, 2.6713, 2.6712, 2.3255, 2.4042, 2.5007, 2.5488, 1.9851, 2.5549, 2.0158, 1.7623, 1.8379, 2.0893, 1.9972, 1.606, 1.8024, 1.7017, 2.283, 2.3714, 1.7007, 1.5709, 2.0168, 1.2686, 1.8371, 1.6386, 1.5203, 1.7008, 1.638, 0.8067, 1.2034, -0.1311, 0.7056, 0.9419, 0.5146, 1.176, 0.9225, -1.063, 0.5239, 0.4615, 0.0291, 2.8341, 2.8341, 2.8341, 2.8341, 2.834, 2.834, 2.834, 2.834, 2.8339, 2.8339, 2.8339, 2.8337, 2.8337, 2.8336, 2.8335, 2.8335, 2.8334, 2.8334, 2.8334, 2.8333, 2.8333, 2.8333, 2.8332, 2.8332, 2.8332, 2.8331, 2.8331, 2.833, 2.833, 2.8329, 2.7107, 2.7719, 2.5784, 2.5164, 2.4851, 2.5079, 2.5677, 2.4271, 2.3235, 2.5367, 2.2433, 2.54, 2.0841, 1.9147, 2.3837, 2.234, 1.9429, 1.7438, 1.6998, 1.2213, 1.8746, 1.7569, 2.055, 0.7603, 1.1982, -0.3596, 0.0959]}, \"token.table\": {\"Topic\": [9, 8, 9, 9, 8, 9, 9, 9, 1, 9, 9, 2, 6, 7, 8, 2, 6, 3, 1, 2, 5, 7, 8, 9, 5, 1, 4, 6, 7, 1, 5, 8, 8, 8, 3, 6, 7, 2, 4, 4, 6, 9, 7, 2, 6, 1, 2, 3, 4, 5, 6, 7, 8, 9, 1, 2, 3, 4, 6, 9, 1, 3, 4, 5, 7, 3, 1, 2, 4, 8, 1, 2, 3, 5, 6, 7, 9, 3, 3, 7, 1, 2, 3, 5, 7, 8, 9, 4, 2, 3, 5, 6, 8, 9, 6, 6, 7, 4, 4, 5, 8, 9, 1, 3, 4, 6, 7, 8, 7, 2, 6, 5, 5, 2, 3, 7, 3, 7, 1, 3, 4, 7, 7, 4, 1, 2, 3, 7, 2, 7, 1, 2, 3, 4, 5, 1, 2, 4, 6, 4, 6, 2, 3, 7, 8, 9, 1, 4, 6, 2, 6, 8, 9, 5, 5, 7, 8, 9, 4, 8, 5, 1, 2, 4, 6, 7, 8, 2, 6, 5, 3, 8, 3, 8, 1, 3, 4, 5, 7, 8, 9, 7, 9, 1, 2, 5, 7, 8, 5, 9, 1, 5, 2, 4, 6, 4, 3, 7, 6, 8, 2, 3, 4, 6, 1, 2, 3, 5, 7, 9, 7, 6, 7, 1, 6, 7, 8, 6, 1, 3, 4, 5, 7, 8, 9, 1, 2, 3, 4, 5, 7, 9, 1, 1, 2, 3, 5, 9, 8, 2, 1, 2, 5, 6, 7, 8, 9, 3, 1, 2, 3, 4, 6, 8, 3, 1, 2, 3, 4, 5, 7, 9, 2, 1, 2, 5, 6, 1, 2, 3, 5, 6, 1, 2, 7, 2, 2, 3, 3, 1, 2, 3, 6, 1, 5, 8, 8, 3, 2, 1, 2, 3, 4, 6, 7, 8, 1, 2, 8, 7, 5, 2, 3, 6, 7, 8, 2, 3, 6, 8, 5, 7, 1, 2, 7, 1, 7, 1, 1, 3, 1, 3, 4, 6, 5, 3, 3, 1, 2, 3, 4, 5, 6, 9, 7, 2, 2, 5, 2, 5, 6, 8, 3, 1, 9, 4, 8, 8, 6, 2, 6, 6, 5, 7, 1, 3, 5, 6, 8, 9, 3, 5, 9, 1, 2, 6, 8, 1, 3, 4, 5, 7, 8, 2, 3, 4, 6, 7, 8, 4, 2, 3, 4, 6, 7, 8, 9, 1, 2, 3, 4, 5, 6, 1, 2, 3, 4, 6, 9, 4, 1, 2, 3, 4, 5, 7, 9, 4, 1, 2, 3, 4, 5, 6, 7, 1, 2, 4, 6, 7, 1, 3, 4, 7, 8, 2, 2, 3, 4, 7, 1, 2, 3, 4, 5, 7, 8, 9, 8, 4, 1, 2, 3, 4, 5, 6, 8, 6, 8, 2, 3, 4, 6, 8, 2, 3, 7, 9, 2, 6, 2, 7, 1, 6, 2, 5, 6, 6, 8, 9, 1, 2, 3, 4, 5, 7, 8, 9, 6, 8, 7, 1, 2, 3, 4, 5, 6, 8, 9, 7, 3, 4, 6, 1, 2, 3, 4, 6, 8, 9, 4, 2, 3, 5, 9, 4, 7, 1, 2, 3, 5, 7, 8, 4, 7, 5, 6, 5, 2, 3, 4, 2, 2, 2, 3, 6, 1, 3, 5, 6, 7, 4, 1, 3, 7, 8, 4, 7, 2, 4, 1, 2, 3, 4, 5, 6, 7, 2, 2, 4, 8, 2, 6, 8, 2, 3, 4, 6, 7, 8, 9, 2, 6, 8, 9, 1, 6, 2, 7, 8, 1, 2, 6, 8, 6, 9, 2, 6, 8, 1, 1, 2, 3, 4, 6, 2, 7, 9, 1, 2, 7, 9, 4, 6, 6, 8, 6, 5, 2, 8, 9, 4, 2, 4, 6, 2, 6, 2, 6, 6, 6, 9, 2, 7, 2, 3, 4, 7, 9, 5, 9, 3, 5, 6, 7, 1, 2, 3, 5, 7, 9, 1, 2, 3, 5, 7, 9, 7, 1, 2, 3, 4, 6, 7, 8, 1, 2, 4, 1, 4, 8, 2, 3, 5, 8, 2, 3, 5, 7, 2, 1, 3, 4, 5, 7, 1, 3, 4, 5, 7, 6, 2, 6, 5, 3, 1, 2, 3, 4, 5, 6, 7, 4, 3, 5, 7, 8, 9, 2, 3, 4, 5, 7, 3, 5, 2, 4, 6, 3, 5, 9, 2, 1, 9, 9, 6, 9, 9, 1, 2, 7, 9, 4, 1, 2, 8, 3, 2, 7, 3, 5, 9, 5, 8, 1, 2, 3, 4, 5, 6, 8, 1, 2, 3, 5, 7, 8, 9, 1, 3, 8, 1, 1, 2, 3, 5, 9, 2, 3, 6, 8, 9, 2, 7, 1, 3, 4, 5, 7, 8, 9, 7, 2, 3, 4, 5, 6, 7, 8, 9, 2, 5, 8, 7, 4, 5, 1, 2, 3, 5, 6, 9, 1, 2, 5, 7, 8, 9, 8, 5, 7, 7, 1, 3, 4, 5, 7, 8, 5, 2, 1, 2, 3, 4, 5, 8, 9, 1, 3, 6, 1, 6, 1, 2, 3, 4, 5, 6, 7, 5, 1, 3, 6, 1, 5, 6, 9, 1, 2, 3, 5, 7, 8, 9, 5, 3, 1, 9, 1, 2, 3, 5, 7, 3, 1, 3, 4, 9, 6, 4, 4, 3, 7, 8, 1, 9, 1, 2, 6, 4, 6, 1, 6, 1, 1, 2, 5, 6, 7, 5, 7, 1, 8, 9, 1, 2, 4, 5, 7, 8, 9, 7, 2, 7, 7, 1, 2, 3, 7, 9, 1, 2, 3, 7, 8, 9, 1, 8, 2, 4, 6, 1, 6, 4, 8, 6, 6, 4, 2, 6, 5, 5, 1, 2, 4, 5, 6, 8, 9, 2, 2, 8, 2, 3, 8, 1, 1, 1, 2, 3, 5, 7, 8, 9, 2, 2, 4, 8, 4, 1, 6, 6, 2, 9, 3, 2, 6, 3, 4, 6, 7, 1, 2, 5, 7, 8, 1, 2, 3, 5, 7, 9, 1, 2, 6, 1, 3, 8, 3, 8, 1, 5, 7, 8, 5, 8, 9, 1, 2, 8, 2, 6, 1, 2, 4, 5, 2, 4, 6, 8, 8, 5, 9, 1, 2, 3, 4, 5, 6, 7, 8, 1, 2, 6, 7, 1, 2, 5, 6, 8, 9, 5, 2, 5, 7, 8, 4, 2, 7, 1, 3, 5, 9, 6, 3, 1, 2, 3, 4, 5, 7, 3, 1, 2, 3, 4, 6, 2, 3, 4, 6, 8, 9, 7, 8, 9, 7, 6, 4, 1, 3, 4, 6, 7, 6, 3, 9, 1, 2, 3, 4, 6, 8, 9, 9, 2, 4, 6, 9, 3, 5, 6, 2, 5, 7, 1, 2, 4, 6, 7, 2, 6, 9, 5, 5, 9, 5, 8, 5, 7, 4, 7, 4, 2, 2, 3, 5, 7, 8, 9, 8, 2, 5, 7, 2, 5, 9, 1, 4, 6, 9, 9, 3, 6, 2, 3, 4, 6, 8, 4, 3, 7, 8, 6, 5, 8, 9, 5, 5, 8, 9, 2, 7, 1, 2, 3, 4, 5, 7, 8, 9, 2, 2, 6, 9, 4, 1, 7, 8, 1, 2, 3, 5, 6, 7, 9, 2, 6, 9, 2, 5, 6, 9, 1, 3, 4, 5, 7, 4, 1, 2, 6, 7, 8, 1, 2, 3, 4, 6, 8, 4, 3, 3, 3, 8, 1], \"Freq\": [0.99997735025339, 0.999549246708709, 0.9999253669299715, 0.999836327926931, 0.9996698285318478, 0.9994107904660692, 0.9998192339580778, 0.9982904933439668, 0.9961467784420406, 0.9994058397392953, 0.9996367545471616, 0.08201554470264229, 0.49078031926116894, 0.04871040621880516, 0.37843565370530835, 0.9999084424129977, 0.99945672757961, 0.998641949630552, 0.2190348635250272, 0.1029938942279385, 0.5091904677802591, 0.09335040395943617, 0.004254481000809852, 0.07115619473854477, 0.9990864611994358, 0.610322712017064, 0.09337446453127309, 0.28398522436462786, 0.01227601834429227, 0.9953859427712948, 0.4807089801761077, 0.5191500083746051, 0.9997329589397776, 0.9986954858431126, 0.8357362701636165, 0.16361731773180394, 0.9993378820979051, 0.6607070165158397, 0.3392306268855031, 0.9999795704567243, 0.2571387868206193, 0.7427323660459502, 0.9991760681787896, 0.04494108995741054, 0.9549530400187115, 0.0977658592250156, 0.20848942013658064, 0.20721524613740328, 0.024079728967504394, 0.18377260416948757, 0.16833134299301614, 0.045449138665572195, 0.004815945793500879, 0.06009134157137307, 0.17774692038026846, 0.00018419369987592585, 0.5095587140139006, 0.2194536367093174, 0.08917606412564467, 0.003868067697394443, 0.31600887324231824, 0.13696614201662421, 0.39967403464275725, 0.0525272951003183, 0.09481813568301281, 0.9973507074650451, 0.7213688525402101, 0.03955461180285538, 0.20839659230161486, 0.03068447721342758, 0.23246771368420932, 0.1368269393347414, 0.16367529392307445, 0.18664589892179329, 0.04734280623464761, 0.19531503120379565, 0.03772889426682224, 0.998849076495879, 0.9994176637425936, 0.999776871502734, 0.17051631465954406, 0.1426316490334537, 0.21920885577177004, 0.25758987990768134, 0.10605943133256814, 0.08717918898156946, 0.016820579549071554, 0.9992784572496646, 0.019595700196500383, 0.1801529060281605, 0.4354657492216141, 0.12713938465222807, 0.17720579544451798, 0.060476087941530206, 0.9999007535280429, 0.9999350904031513, 0.9996038496763614, 0.9989666941273461, 0.2227576532828112, 0.2375886414885412, 0.06729926936096066, 0.4723523328426576, 0.1579391567993613, 0.26096272939992937, 0.3248572977103073, 0.05525302968011098, 0.09138903926643953, 0.1095964237149307, 0.99984932813998, 0.13653687571610593, 0.8633557326775253, 0.9996488153186588, 0.9999619316962224, 0.7290228443488987, 0.13862900987956492, 0.13231090762402986, 0.999117519410949, 0.99991590967342, 0.1897218307028723, 0.06781819763937583, 0.21859107343863654, 0.5238575241595177, 0.9998457347785599, 0.9992750782153519, 0.16229413063643375, 0.5046829185265058, 0.11651747148517749, 0.21649619148683943, 0.6610813154535554, 0.3388996210855631, 0.9696425533802958, 0.029457495292565947, 0.1278331008545871, 0.7730528843075483, 0.09910993665316777, 0.17041690272946847, 0.14852306453158537, 0.68099135336736, 0.9993395503603328, 0.9423549358431103, 0.05752983701191817, 0.3371363045814351, 0.4451352527320182, 0.1418567419643815, 0.0592305444090536, 0.016599380665402366, 0.9973839050911856, 0.839720681109632, 0.15996250209668952, 0.6968529223006096, 0.034294043484878044, 0.15263911318939022, 0.11615065918390241, 0.999383595270936, 0.5065994430811577, 0.03243853549655142, 0.12486911030534521, 0.336104618160485, 0.9998429927858371, 0.9994608642324095, 0.9995025607620746, 0.24674113775776113, 0.03318251130779696, 0.485210554397008, 0.17167407327182274, 0.035358021775383074, 0.02780350190991921, 0.12829778354914614, 0.8715696095771994, 0.9990233230001887, 0.9807342390421053, 0.019016528520118384, 0.998336654708011, 0.999657318649822, 0.2182919398029459, 0.09550934595591468, 0.03136317550804387, 0.22594201166673225, 0.31712832532288954, 0.08264620573065615, 0.029116894018954242, 0.9996563091673655, 0.9991106220937805, 0.054536833918335796, 0.476426168267339, 0.13502952561609616, 0.1956369457407449, 0.1383109235654545, 0.2783075728581817, 0.7216529502541871, 0.9994377044096077, 0.9998056274849029, 0.1320198065719518, 0.12197580483823924, 0.7458802368557909, 0.99910937924293, 0.7702930918132036, 0.22949264599286864, 0.9997814449162574, 0.9998877477990699, 0.07578181612682902, 0.16961154236837023, 0.6236232167056724, 0.1309928959938786, 0.0785805781751397, 0.013407112864004879, 0.08602897421069798, 0.4132204600615825, 0.02569696632267602, 0.3830544561175715, 0.9994239718113741, 0.9998993947394449, 0.9998528843210142, 0.3930435328626846, 0.6069479711685167, 0.9994502089808318, 0.9997360616040739, 0.9992743300309535, 0.13842798181286442, 0.25837924880569957, 0.03276475373627364, 0.09350055434115588, 0.07947624687070542, 0.3442471048332917, 0.05319618397806927, 0.44490070498513945, 0.12513283012356502, 0.2752762862673992, 0.030487156118485875, 0.08086516063943465, 0.01620946642375864, 0.02713216470696571, 0.9965414183357892, 0.08366059111411264, 0.015371495062589153, 0.20611667553511653, 0.49551509568830915, 0.199337741425186, 0.9985563967330907, 0.9996613272787801, 0.9947229012969276, 0.10603779798460353, 0.5432285257028169, 0.1715651280690442, 0.17914710533426453, 0.9988216503704175, 0.999348593279831, 0.9980924546068346, 0.13583469813757937, 0.07052660315730816, 0.321878351787312, 0.2708827829102377, 0.10362192155947263, 0.09723308618096783, 0.9978088283879195, 0.36450897033058505, 0.08727909434275319, 0.18711620816480026, 0.08581885951957949, 0.09391027836328321, 0.18134398580496067, 1.7179233213808324e-05, 0.9997134704136619, 0.677405035796719, 0.02742901623034492, 0.08200500225164818, 0.2130860849565613, 0.6581830321481832, 0.05243283604615512, 0.12606146943232394, 0.03361353719577931, 0.12970115180384145, 0.8000945093811173, 0.044422686188485244, 0.15544901678542442, 0.9995187419386364, 0.9997090279490017, 0.9972493861505909, 0.9992538509384368, 0.12507842217776294, 0.007151053243011394, 0.08776292616423075, 0.7798548609378608, 0.9983057089107101, 0.8441564031677313, 0.15579061583450737, 0.9989085570328674, 0.99965312442328, 0.9998573901328269, 0.0656018442701204, 0.3212485297193161, 0.053211527288067884, 0.3500393077688987, 0.14973775190965963, 0.030487377470361596, 0.02969048986363208, 0.14183366478111653, 0.11783473673016619, 0.7401269410913086, 0.999514276627339, 0.9993376301974664, 0.09506800854239832, 0.06552752056715581, 0.4028472900302719, 0.0024452410614958257, 0.434092036927163, 0.21838426418833726, 0.3015499144450183, 0.12464923236562217, 0.355438873978882, 0.9983604506800094, 0.9997930667378011, 0.11712121005907307, 0.020796031851447613, 0.8620784492038744, 0.2253422250689751, 0.7745913500209567, 0.9975249099582252, 0.9973360980678461, 0.9983115565788684, 0.6655947638989217, 0.13786495246601196, 0.1965343997397771, 0.9997084247326862, 0.9998172250524994, 0.9994215540428859, 0.9996208079625679, 0.5949515475462245, 0.08694225281475493, 0.07290139629266404, 0.043629780153389794, 0.06956966762640518, 0.0924158070521802, 0.03958410963007546, 0.9999024987586828, 0.9998941624586412, 0.9997730472231459, 0.9999767849191011, 0.7503586519413632, 0.05642984559613764, 0.13942749567688595, 0.05373456108320612, 0.999657103547414, 0.9970402404018156, 0.9998041370229175, 0.999357955523353, 0.9992137286998982, 0.9994440642598482, 0.9997711255592115, 0.9998456132557243, 0.9994591079385012, 0.9999304575214134, 0.1977717313498745, 0.8021917552346514, 0.49564225329465045, 0.06706345398309663, 0.2654289275244641, 0.029213970510400058, 0.07112485938096366, 0.07151692574362906, 0.9987185855637728, 0.9994697751097344, 0.9995095744241494, 0.9973024474520168, 0.9996853000240369, 0.9996085493550907, 0.9996536780943597, 0.20518856984542116, 0.40976210590242035, 0.04109090608051532, 0.046842303129001686, 0.23580727898794107, 0.061287285889506465, 0.13534977136347437, 0.04416468786926533, 0.25006301309629164, 0.49091232758463976, 0.018122069971569222, 0.061370776107881095, 0.9999582755270449, 0.110343443100891, 0.14669490449627798, 0.5112407655819319, 0.0440858148837672, 0.05732015307499556, 0.1062184545737549, 0.024062433074960653, 0.352199462757897, 0.024645469480942973, 0.33607895411171457, 0.19046557233451766, 0.0755949299586141, 0.021015951381181217, 0.7172948662268585, 0.049362793018667805, 0.027224062579567235, 0.13230631379248617, 0.05418509073807585, 0.019596064368867235, 0.9995465750346714, 0.49475357716731827, 0.01701073908909163, 0.13346383346971316, 0.028711767711067957, 0.20802921194309168, 0.09875405949023716, 0.0192722824361963, 0.9997637472165702, 0.13525758477982255, 0.0708614851816158, 0.17471576855630883, 0.5586436819046571, 0.02689256727716974, 0.02227443471759187, 0.011341274378870305, 0.5255218582256451, 0.11361881339176762, 0.2037014477738841, 0.08972421541242638, 0.06742259063170788, 0.11166099940011406, 0.13798969322543972, 0.2643283699002409, 0.15364371266917473, 0.33237941908288104, 0.9996521145732468, 0.056059496471371234, 0.0946582598674851, 0.76703791777434, 0.08221202303622653, 0.03948047692801744, 0.07155677963446706, 0.12521168597980098, 0.5809233952606805, 0.07011144425559937, 0.02355643099944008, 0.07475173152459563, 0.014402640266611371, 0.9998008585956286, 0.9982928828146438, 0.07389907744189632, 0.08846121154421006, 0.09270224544514165, 0.08680983551198893, 0.06068806918412714, 0.07885320553855976, 0.5186071366643592, 0.15740938813628386, 0.8421543566357735, 0.16441807546042175, 0.10251621059372122, 0.5263409132019847, 0.1689346708042025, 0.037813356366536516, 0.09852038242001109, 0.7246256351893684, 0.10973286903837351, 0.06697592006701816, 0.11463042772507356, 0.8852599643214466, 0.8545787177833635, 0.1454012226353259, 0.9965622933612328, 0.9997084368947345, 0.05060017756541244, 0.8571283090271042, 0.09224128754721597, 0.23517553588641898, 0.7647469757632982, 0.9994412995753316, 0.31561735084382586, 0.04136106602445385, 0.4512808662696431, 0.04526673798143722, 0.07422729554246889, 0.047942123271970824, 0.0010154747088156754, 0.023297333223405783, 0.9989760490999491, 0.9995966089371711, 0.9998694922600452, 0.051468944262716455, 0.20116325428795787, 0.1104164572578738, 0.04490214623875124, 0.07709072563235297, 0.23445825206937276, 0.15479612814682436, 0.12570142239321874, 0.9997945397015271, 0.4165210740103063, 0.16132012100174736, 0.4221298861643406, 0.02280622114662102, 0.048740568319732315, 0.23537329671417, 0.3600800418516344, 0.1580612982338782, 0.10286442328970373, 0.07207420606384297, 0.9987235071503742, 0.22396896105886777, 0.5776535437704752, 0.13368326264849276, 0.06469083595480503, 0.14592393277679164, 0.8538979678835669, 0.4947554287825239, 0.04832250351439425, 0.1790819094242514, 0.24312791128218267, 0.03434634689793772, 0.00036596242661567915, 0.998112500261475, 0.9994432161381649, 0.9995483198946807, 0.9997840218453032, 0.9999420973683171, 0.11424004133161351, 0.6384080906227478, 0.2473196684266861, 0.999770753039367, 0.9998990755788953, 0.9996504128776423, 0.5936819504465376, 0.4062995954688306, 0.44833206410212584, 0.4078121536104794, 0.06082400507351725, 0.08024531293443712, 0.0027719503037858372, 0.9998061968060925, 0.8123245468352237, 0.13089263357251116, 0.056774173261637195, 0.9993479347374468, 0.8309744815171607, 0.16900833757540248, 0.16038059124581916, 0.839534156409679, 0.3836434430546352, 0.039980286125965, 0.21339638163149302, 0.18039151130698056, 0.03564720740158553, 0.12758460399281157, 0.019359434464183648, 0.999917125278526, 0.37193997692256286, 0.2090979873770942, 0.418946248343841, 0.12388511665054429, 0.7316545648645384, 0.1443091408776948, 0.11629397150549421, 0.5160918269580763, 0.17478224550917454, 0.02459408458287506, 0.041786480223635944, 0.06975078628447653, 0.0566751801705976, 0.8238025561399566, 0.09486677428315715, 0.08119228429639576, 0.999541935119694, 0.22672856517597084, 0.7731072386328186, 0.03908933008701658, 0.9604806821381217, 0.9998198256919346, 0.10596463294184713, 0.6045931263226322, 0.25026804059791713, 0.03912425204983131, 0.25461574977504253, 0.7452897085756187, 0.30061488830993416, 0.6992939595771763, 0.9999039106272831, 0.9979355460776231, 0.20694262267918406, 0.03112126212769204, 0.4407652027359145, 0.20862262001528073, 0.11253228057853953, 0.5166415352374865, 0.48333619660642707, 0.9992326863296173, 0.08951922049353823, 0.3028567586808416, 0.5979570825176485, 0.009677753566868999, 0.08433127692367749, 0.9156659583872206, 0.850889007599931, 0.1490566687705898, 0.9997547311080611, 0.9994579109298756, 0.15324452474395578, 0.08060624941187518, 0.766129972858386, 0.9995784154003121, 0.09202516624674809, 0.2197374445333416, 0.6881426857603261, 0.13841424089812096, 0.8615257099379611, 0.04861150239295573, 0.9513059663943205, 0.9991422407199133, 0.059749384047807365, 0.9396256637836713, 0.4395160458553291, 0.560439215571926, 0.27371250788680174, 0.16859347111555148, 0.5226630111667606, 0.010204477641839233, 0.02483950696867955, 0.45121504522085315, 0.5487289744232633, 0.1579334900757239, 0.6817462321602081, 0.08220640637274859, 0.07808933675966348, 0.19647899740107289, 0.023675253596788046, 0.18293032720114108, 0.28913141560679206, 0.11299870300767864, 0.19477959375056597, 0.42618765591285224, 0.0989638942580171, 0.1492306357097707, 0.25212736931397334, 0.03246920240373922, 0.041017696495560765, 0.9998346637417117, 0.14748806489054292, 0.14491803815525253, 0.05056134230244786, 0.03938959343271612, 0.10851806765950686, 5.244952521000815e-05, 0.5090750916883391, 0.2571368912127394, 0.2777232630129797, 0.46512092840805114, 0.4641960204760084, 0.21977337396886248, 0.31599370689435435, 0.21130511612551756, 0.4986454109600453, 0.2453532218856552, 0.04467066749154346, 0.053682646538793836, 0.031250043033452454, 0.6862366815094968, 0.22879958893164667, 0.9998533051089447, 0.23733959528474716, 0.13013741152485755, 0.22536616828170597, 0.0623433544710682, 0.3448135592288168, 0.2107815299827331, 0.1963727469097797, 0.04580237919850419, 0.055568646703747664, 0.49145556567690435, 0.9991545062173143, 0.23261206789443992, 0.7672436647347646, 0.9991560620807531, 0.9981420583103703, 0.12899706956248855, 0.0653260367634395, 0.05143332742855638, 0.5244381224343421, 0.009988298573821169, 0.19959114711398776, 0.02022135125505219, 0.9991451073954617, 0.15003089855480245, 0.1699614931120957, 0.04468628364673757, 0.08141608488127505, 0.5539011580275426, 0.07353302814986608, 0.048356107458434446, 0.12837492930815844, 0.6948009124290844, 0.05492399981272096, 0.9985876744595364, 0.9998028937012596, 0.9997232614256639, 0.9987730615586236, 0.9999088500725299, 0.29855234497885247, 0.2426013773058666, 0.4587727033659822, 0.999767183890379, 0.9968018802950875, 0.9998666931489488, 0.9999747717826145, 0.29457145123628226, 0.7054025927443478, 0.9999608186464115, 0.3135555329007513, 0.04659540321318427, 0.6131674789753015, 0.026625944693248155, 0.9986811973177929, 0.9674818337020957, 0.030564432170418574, 0.9986538266209131, 0.9984640323022094, 0.12888476719317013, 0.8708480049404043, 0.2057553849940314, 0.47255827712287896, 0.32166136205117946, 0.9492800504561624, 0.0506679483001396, 0.32197800351648714, 0.09316945863765089, 0.23798696256604696, 0.12037135512468708, 0.09178417687210738, 0.08513926915182649, 0.04957382660436986, 0.16734036114069475, 0.0052902706164985516, 0.19106125196951085, 0.3197627279891665, 0.17309992995704399, 0.09970453573191221, 0.043744280689111674, 0.9961654430571619, 0.999985923074293, 0.9995560742963705, 0.9973205345666984, 0.1806343263465731, 0.15515050625595528, 0.5570993421389512, 0.08595617597041645, 0.021161969952388855, 0.32431813680580546, 0.08044152557832902, 0.1927485229361656, 0.40248730290452067, 0.99938720858569, 0.9999004561962362, 0.9994032575370697, 0.2459315582697898, 0.11937528296171442, 0.1703742722953363, 0.11663883684914482, 0.05220163125570662, 0.24565268478061072, 0.04983120659768455, 0.9993371907321039, 0.3837337515795489, 0.05120996507063695, 0.33129933516491067, 0.032254218314768615, 0.02078467407981966, 0.02608546344245823, 0.1166638641303524, 0.03797349104814181, 0.1349191404196551, 0.7525231366510073, 0.11254664603972243, 0.999721589425381, 0.9028445873723131, 0.09702210491165156, 0.28790890268923786, 0.5042715810574975, 0.07234877856138808, 0.059567359177083695, 0.030348439979941345, 0.04556724631660145, 0.9967734738314716, 0.9997862991361975, 0.5121632789428434, 0.051183412516460254, 0.3784719860139971, 0.05815050082255935, 0.9999613437342312, 0.9998213723110045, 0.9995330298854143, 0.9997416380228662, 0.35589845785012214, 0.20952306721955666, 0.048945747329532226, 0.09815391020340035, 0.14756150889096376, 0.1399094716181289, 0.9993551046617345, 0.9997722399506269, 0.34752789068196244, 0.0642686950981126, 0.2725398917046493, 0.12826169036024665, 0.10992882947209984, 0.06059741010277421, 0.016876600216054943, 0.9940441874006499, 0.998163054273133, 0.9994872627328787, 0.6409501777332614, 0.35891984622150924, 0.1413755720091455, 0.20463831030810367, 0.09579310425584352, 0.0681905726506665, 0.05660350268854153, 0.39922117484447817, 0.03412858250338533, 0.9999052317647774, 0.5381555523381281, 0.20714766963269082, 0.25467398196712054, 0.6854001826662798, 0.0830040667136633, 0.18115583940058877, 0.05042979634638264, 0.27201484318533986, 0.0394278064637478, 0.17574373984408398, 0.2045587408121125, 0.18445919784565576, 0.08470191130377118, 0.039103869086698224, 0.9993623097344503, 0.9976099029844385, 0.885661461779377, 0.1138409190258869, 0.11706628849728085, 0.0997723118306658, 0.7265273363422228, 0.0011966448309600926, 0.055430883505363744, 0.9982119171610856, 0.7043140078295499, 0.22414154262645095, 0.07117394722803316, 0.0003633254777140904, 0.9998842291995946, 0.9997973260625714, 0.9986536267344538, 0.24218630668266644, 0.75779277331516, 0.9989124158098055, 0.9992464031605551, 0.9987178466747423, 0.19200114958564607, 0.05859845034866559, 0.7493303669127898, 0.06057949306430369, 0.9392987600562768, 0.6061405491708644, 0.39384601466924646, 0.9940063742476983, 0.6557274199598436, 0.09589640846517535, 0.10530864588390529, 0.003203117446164644, 0.13985303557254244, 0.9999844852790847, 0.9988441505413651, 0.9961057374579093, 0.11595535241072916, 0.883870828684572, 0.07652003549373261, 0.06945731421090225, 0.17593975318363606, 0.38125696053757263, 0.01980161733897837, 0.17379493905173357, 0.10323272059106339, 0.9991025547738694, 0.11431899734639094, 0.8852183271738521, 0.9999060236124707, 0.14228243402587817, 0.49417891694479954, 0.2903190540831344, 0.03164802317257936, 0.041565082726657925, 0.08816756258444744, 0.6325162375300122, 0.1156952468718501, 0.1168234306541207, 0.02205599294339024, 0.024707224831726153, 0.9972485165085465, 0.9992540145326541, 0.4658623529114932, 0.5340921686092565, 0.9996532477005654, 0.8272927257170687, 0.17205463507948643, 0.11041772594036528, 0.8892307529064084, 0.9994144994212663, 0.9996228355147667, 0.9992230589467285, 0.9595867148023047, 0.040317519335104586, 0.9999590827687879, 0.9998420713568635, 0.20273987353034656, 0.03770158048239821, 0.01603443711751398, 0.27465075662177346, 0.045061649978962004, 0.0832513983361323, 0.3405534197160054, 0.9999523726920204, 0.9997730051946919, 0.9995948637398326, 0.5517141686278422, 0.09259637353550648, 0.35563604634731166, 0.9976060680889968, 0.9945893700253589, 0.07197735766355735, 0.5866397816328788, 0.12377187517145503, 0.07109587819892764, 0.027143488341873613, 0.11930368616109062, 0.0001215833744316847, 0.9997045774316974, 0.8117851866663376, 0.18820179268217954, 0.9995712266782444, 0.9993769634722073, 0.6808168797267639, 0.3190563423501004, 0.9998202372089849, 0.9996046336590144, 0.9998560384655855, 0.9981351767993897, 0.010846502073321817, 0.9884778889487282, 0.14486934147070293, 0.6893402859343023, 0.06362802383743639, 0.10204702092959089, 0.3264461048565979, 0.161087125765663, 0.0347699106474866, 0.42372109326341095, 0.05397199760959182, 0.39622683088501714, 0.047904430947349246, 0.10863448592428723, 0.12233034615620672, 0.29749646173963684, 0.02743316028299758, 0.8718854230786642, 0.08263561581659402, 0.04530161858816036, 0.9961423018217114, 0.44174617145481815, 0.5582045168058383, 0.11583318001118284, 0.8837806368028798, 0.3248462660942317, 0.1424699867218568, 0.15383140998354822, 0.3788271577107257, 0.876189862588231, 0.12363342725850393, 0.9999723114279163, 0.9983346856695254, 0.29307272277656227, 0.7068502660270535, 0.9266556517840182, 0.07320344457303951, 0.11124951150351546, 0.13276522821042816, 0.7558032807186587, 0.9990828294415014, 0.24012021920649346, 0.05001052460977041, 0.03223674931291821, 0.6774944936682487, 0.9991713979379221, 0.22562842234018218, 0.7743468288737968, 0.42178834687959804, 0.06977367066954819, 0.19536627787473493, 0.1786024885810229, 0.060271322917049786, 0.02679580578705958, 0.023540832926627776, 0.02386451937936891, 0.10213009077469017, 0.1217317404839132, 0.10377882766612014, 0.6723182657275568, 0.9974873322063499, 0.05745065312982092, 0.21103160704122337, 0.09287991022261007, 0.0013001562235885923, 0.6374015886143074, 0.9999813291839831, 0.10717472410210616, 0.29728724516482025, 0.09257098578817255, 0.5029272349769878, 0.9984646004105827, 0.09704509135728291, 0.9027619623511243, 0.9951113966045404, 0.13178224950926407, 0.46946653910381286, 0.39874089491512404, 0.9993453921654561, 0.9989414979786496, 0.5314068230898713, 0.03508067222091418, 0.21074119158244964, 0.030516113159793398, 0.10957084732164582, 0.08267637961410318, 0.9990110333686686, 0.1644708172643518, 0.02790948256292434, 0.04505725786641599, 0.492614193287548, 0.269959200510659, 0.11261650331609394, 0.038479510008031056, 0.15338891002437435, 0.16129646402908052, 0.12408098681734078, 0.41016394434076187, 0.9993045859467121, 0.9991840464817988, 0.9992492957937744, 0.9996926713576291, 0.9997669644422724, 0.9982941176354492, 0.1787774321599156, 0.366738294670871, 0.40701562235178995, 0.044943907777778895, 0.002520452351779938, 0.9990802294301726, 0.9978941563357011, 0.9996597335416622, 0.13396989140367183, 0.02769128440695833, 0.3149857516811097, 0.23383171621866736, 0.16392530871052086, 0.11557511581608043, 0.010016440478779202, 0.9996689006514796, 0.11918582501608344, 0.05814865265499051, 0.15704606544964025, 0.6656318565598174, 0.7268464458796995, 0.09829343991230287, 0.17485732114963076, 0.9997832371545441, 0.7987678986511595, 0.2010378943217445, 0.1627529849250521, 0.024266221746800418, 0.1256200223450645, 0.14683885810505742, 0.5404595480676921, 0.8026837993691134, 0.19726477041855808, 0.9989556618595852, 0.9993031333307533, 0.39984421386475133, 0.6001456453585274, 0.9542358840383582, 0.04545046561703114, 0.9999542827690614, 0.9994422311211136, 0.7547449577422245, 0.24507347725124776, 0.9983853234386516, 0.9998908738628508, 0.33926719977893305, 0.10194416833319987, 0.13089021217830263, 0.10329651829415398, 0.22391462544989033, 0.10067813858251944, 0.9997785528037788, 0.9997156486318134, 0.999372430187155, 0.9997313364843996, 0.8503296761005908, 0.14959361107203567, 0.9989478757425401, 0.997524760217704, 0.999546256648204, 0.9998450984492407, 0.9986676162837997, 0.999472915849016, 0.2899415534663247, 0.7100519641834795, 0.6665319180903175, 0.04668508150792344, 0.026536783172924905, 0.11380512413203443, 0.1464437293616967, 0.9997009918856415, 0.0977964729358095, 0.7456575758451826, 0.15650927510130186, 0.9996463527788356, 0.22236849273962658, 0.04977676173696863, 0.7278485275341277, 0.9997337792442872, 0.8887304901829742, 0.05009926626387858, 0.0611584699183567, 0.9208177437941079, 0.0790587008981313, 0.06441112835973319, 0.11158051270757999, 0.236425841611166, 0.2496151465195287, 0.04724489563549011, 0.015907711263521442, 0.23015840473677227, 0.044677511855617975, 0.999776983127138, 0.6754164159769505, 0.3245144774763949, 0.9986440426996014, 0.9995907530059894, 0.33185855020179517, 0.23439460687254535, 0.43374380650395283, 0.22210053813029826, 0.11868235269643801, 0.19629910300100015, 0.11484772195058514, 0.03349194111267064, 0.29830452973901983, 0.01626265837091619, 0.918027301566321, 0.050920359532207846, 0.030990464715298628, 0.9998200770619358, 0.7529424958656893, 0.060154905649747716, 0.18686111671367273, 0.3611678925697469, 0.08734524511503436, 0.19464840914076204, 0.0630200639485893, 0.2938275261746075, 0.9987899621678354, 0.16871109846041693, 0.4776616421873814, 0.1265995369922752, 0.0734303799813981, 0.15358139437948864, 0.6349870934902334, 0.14189515060261945, 0.08966012337090763, 0.10277214170085532, 0.030259000449268728, 0.00043254811822082456, 0.9993341854209348, 0.9999727181755735, 0.9994804404309467, 0.9989526521732229, 0.9995265178140967, 0.9985507453695877], \"Term\": [\"10\", \"11\", \"15\", \"20\", \"24\", \"25\", \"30\", \"35\", \"3am\", \"40\", \"45\", \"able\", \"able\", \"able\", \"able\", \"ac\", \"accept\", \"accesible\", \"access\", \"access\", \"access\", \"access\", \"access\", \"access\", \"accidentally\", \"accommodate\", \"accommodate\", \"accommodate\", \"accommodate\", \"accomodations\", \"across\", \"across\", \"adult\", \"advantage\", \"advice\", \"advice\", \"aesthetic\", \"air\", \"air\", \"airbnb\", \"airport\", \"airport\", \"airy\", \"allow\", \"allow\", \"also\", \"also\", \"also\", \"also\", \"also\", \"also\", \"also\", \"also\", \"also\", \"always\", \"always\", \"always\", \"always\", \"always\", \"always\", \"amaze\", \"amaze\", \"amaze\", \"amaze\", \"amaze\", \"angel\", \"anyone\", \"anyone\", \"anyone\", \"anyone\", \"apartment\", \"apartment\", \"apartment\", \"apartment\", \"apartment\", \"apartment\", \"apartment\", \"appartement\", \"appartment\", \"appoint\", \"area\", \"area\", \"area\", \"area\", \"area\", \"area\", \"area\", \"arise\", \"around\", \"around\", \"around\", \"around\", \"around\", \"around\", \"arrival\", \"arrive\", \"art\", \"availability\", \"away\", \"away\", \"away\", \"away\", \"back\", \"back\", \"back\", \"back\", \"back\", \"back\", \"backyard\", \"bag\", \"bag\", \"bakery\", \"bars\", \"bathroom\", \"bathroom\", \"bathroom\", \"bbq\", \"beach\", \"beautiful\", \"beautiful\", \"beautiful\", \"beautiful\", \"beautifully\", \"beauty\", \"bed\", \"bed\", \"bed\", \"bed\", \"bedroom\", \"bedroom\", \"bedstuy\", \"bedstuy\", \"best\", \"best\", \"best\", \"better\", \"better\", \"better\", \"beware\", \"beyond\", \"beyond\", \"big\", \"big\", \"big\", \"big\", \"big\", \"bill\", \"birthday\", \"birthday\", \"bit\", \"bit\", \"bit\", \"bit\", \"bk\", \"block\", \"block\", \"block\", \"block\", \"bnb\", \"boat\", \"bodega\", \"book\", \"book\", \"book\", \"book\", \"book\", \"book\", \"bottle\", \"bottle\", \"boutique\", \"brand\", \"brand\", \"breath\", \"bronx\", \"brooklyn\", \"brooklyn\", \"brooklyn\", \"brooklyn\", \"brooklyn\", \"brooklyn\", \"brooklyn\", \"brownstone\", \"buck\", \"building\", \"building\", \"building\", \"building\", \"building\", \"bus\", \"bus\", \"bushwick\", \"cafe\", \"call\", \"call\", \"call\", \"calling\", \"calm\", \"calm\", \"cancel\", \"car\", \"care\", \"care\", \"care\", \"care\", \"central\", \"central\", \"central\", \"central\", \"central\", \"central\", \"character\", \"charge\", \"charm\", \"check\", \"check\", \"chic\", \"child\", \"chocolate\", \"city\", \"city\", \"city\", \"city\", \"city\", \"city\", \"city\", \"clean\", \"clean\", \"clean\", \"clean\", \"clean\", \"clean\", \"clean\", \"cleanly\", \"close\", \"close\", \"close\", \"close\", \"close\", \"closer\", \"closet\", \"clutch\", \"coffee\", \"coffee\", \"coffee\", \"coffee\", \"college\", \"columbia\", \"combination\", \"come\", \"come\", \"come\", \"come\", \"come\", \"come\", \"comeback\", \"comfortable\", \"comfortable\", \"comfortable\", \"comfortable\", \"comfortable\", \"comfortable\", \"comfortable\", \"common\", \"communicate\", \"communicate\", \"communicate\", \"communicate\", \"communication\", \"communication\", \"communication\", \"communication\", \"communication\", \"communicative\", \"communicative\", \"communicative\", \"conditioner\", \"conditioning\", \"confidence\", \"confortable\", \"contact\", \"contact\", \"contact\", \"contact\", \"contactless\", \"corner\", \"corner\", \"correct\", \"cosy\", \"couch\", \"could\", \"could\", \"could\", \"could\", \"could\", \"could\", \"could\", \"crash\", \"crash\", \"crash\", \"crown\", \"cv\", \"day\", \"day\", \"day\", \"day\", \"day\", \"days\", \"days\", \"days\", \"days\", \"de\", \"deck\", \"decor\", \"decor\", \"decor\", \"decorate\", \"decorate\", \"deff\", \"defiantly\", \"definetly\", \"definitely\", \"definitely\", \"definitely\", \"delay\", \"deli\", \"delivery\", \"deposit\", \"describe\", \"describe\", \"describe\", \"describe\", \"describe\", \"describe\", \"describe\", \"design\", \"desk\", \"dirty\", \"distance\", \"door\", \"door\", \"door\", \"door\", \"dope\", \"downfall\", \"downtown\", \"dream\", \"driveway\", \"driving\", \"drop\", \"dryer\", \"earlier\", \"early\", \"east\", \"east\", \"easy\", \"easy\", \"easy\", \"easy\", \"easy\", \"easy\", \"easygoing\", \"eatery\", \"eats\", \"effective\", \"elevator\", \"email\", \"empire\", \"enjoy\", \"enjoy\", \"enjoy\", \"enjoy\", \"enjoy\", \"enjoy\", \"even\", \"even\", \"even\", \"even\", \"even\", \"even\", \"ever\", \"every\", \"every\", \"every\", \"every\", \"every\", \"every\", \"every\", \"everything\", \"everything\", \"everything\", \"everything\", \"everything\", \"everything\", \"exactly\", \"exactly\", \"exactly\", \"exactly\", \"exactly\", \"exactly\", \"exceed\", \"excellent\", \"excellent\", \"excellent\", \"excellent\", \"excellent\", \"excellent\", \"excellent\", \"expectation\", \"experience\", \"experience\", \"experience\", \"experience\", \"experience\", \"experience\", \"experience\", \"extremely\", \"extremely\", \"extremely\", \"extremely\", \"extremely\", \"family\", \"family\", \"family\", \"family\", \"family\", \"fan\", \"feel\", \"feel\", \"feel\", \"feel\", \"felt\", \"felt\", \"felt\", \"felt\", \"felt\", \"felt\", \"felt\", \"felt\", \"ferry\", \"fianc\\u00e9\", \"find\", \"find\", \"find\", \"find\", \"find\", \"find\", \"find\", \"finding\", \"finding\", \"first\", \"first\", \"first\", \"first\", \"first\", \"flat\", \"flat\", \"flat\", \"flat\", \"flight\", \"flight\", \"floor\", \"floor\", \"flow\", \"follow\", \"food\", \"food\", \"food\", \"free\", \"free\", \"friday\", \"friendly\", \"friendly\", \"friendly\", \"friendly\", \"friendly\", \"friendly\", \"friendly\", \"friendly\", \"fruit\", \"garage\", \"garden\", \"get\", \"get\", \"get\", \"get\", \"get\", \"get\", \"get\", \"get\", \"getaway\", \"give\", \"give\", \"give\", \"go\", \"go\", \"go\", \"go\", \"go\", \"go\", \"go\", \"god\", \"good\", \"good\", \"good\", \"good\", \"gorgeous\", \"gorgeous\", \"great\", \"great\", \"great\", \"great\", \"great\", \"great\", \"greatest\", \"greene\", \"greenpoint\", \"greet\", \"grocery\", \"guy\", \"guy\", \"guy\", \"hair\", \"hear\", \"heat\", \"help\", \"help\", \"helpful\", \"helpful\", \"helpful\", \"helpful\", \"helpful\", \"hide\", \"highly\", \"highly\", \"highly\", \"highway\", \"home\", \"home\", \"honestly\", \"honestly\", \"host\", \"host\", \"host\", \"host\", \"host\", \"host\", \"host\", \"hot\", \"hotel\", \"hotel\", \"hotel\", \"hours\", \"hours\", \"hours\", \"house\", \"house\", \"house\", \"house\", \"house\", \"house\", \"house\", \"however\", \"however\", \"however\", \"impeccable\", \"instructions\", \"instructions\", \"interior\", \"interior\", \"island\", \"issue\", \"issue\", \"issue\", \"issue\", \"jfk\", \"jfk\", \"key\", \"key\", \"kid\", \"kiki\", \"kind\", \"kind\", \"kind\", \"kind\", \"kind\", \"kitchen\", \"kitchen\", \"laguardia\", \"large\", \"large\", \"large\", \"large\", \"last\", \"last\", \"late\", \"late\", \"later\", \"laundromat\", \"le\", \"le\", \"le\", \"leak\", \"leave\", \"leave\", \"leave\", \"left\", \"left\", \"let\", \"let\", \"letting\", \"lga\", \"lga\", \"light\", \"light\", \"like\", \"like\", \"like\", \"like\", \"like\", \"line\", \"line\", \"local\", \"local\", \"local\", \"local\", \"locate\", \"locate\", \"locate\", \"locate\", \"locate\", \"locate\", \"location\", \"location\", \"location\", \"location\", \"location\", \"location\", \"loft\", \"long\", \"long\", \"long\", \"long\", \"long\", \"long\", \"long\", \"look\", \"look\", \"look\", \"looking\", \"looking\", \"looking\", \"lot\", \"lot\", \"lot\", \"lot\", \"lots\", \"lots\", \"lots\", \"lots\", \"loud\", \"love\", \"love\", \"love\", \"love\", \"love\", \"lovely\", \"lovely\", \"lovely\", \"lovely\", \"lovely\", \"luckily\", \"luggage\", \"luggage\", \"lyft\", \"mad\", \"make\", \"make\", \"make\", \"make\", \"make\", \"make\", \"make\", \"management\", \"manhattan\", \"manhattan\", \"manhattan\", \"manhattan\", \"manhattan\", \"many\", \"many\", \"many\", \"many\", \"many\", \"marina\", \"market\", \"mattress\", \"memorable\", \"message\", \"metro\", \"metro\", \"metro\", \"microwave\", \"midst\", \"midtown\", \"min\", \"minute\", \"minute\", \"minutes\", \"modern\", \"modern\", \"modern\", \"modern\", \"mr\", \"ms\", \"ms\", \"mta\", \"musician\", \"natural\", \"natural\", \"near\", \"near\", \"near\", \"nearby\", \"nearby\", \"need\", \"need\", \"need\", \"need\", \"need\", \"need\", \"need\", \"neighborhood\", \"neighborhood\", \"neighborhood\", \"neighborhood\", \"neighborhood\", \"neighborhood\", \"neighborhood\", \"nestle\", \"new\", \"newly\", \"newyork\", \"nice\", \"nice\", \"nice\", \"nice\", \"nice\", \"night\", \"night\", \"night\", \"night\", \"nightlife\", \"noise\", \"notch\", \"nyc\", \"nyc\", \"nyc\", \"nyc\", \"nyc\", \"nyc\", \"nyc\", \"oasis\", \"one\", \"one\", \"one\", \"one\", \"one\", \"one\", \"one\", \"one\", \"option\", \"option\", \"option\", \"outdoor\", \"outstanding\", \"outstanding\", \"overall\", \"overall\", \"overall\", \"overall\", \"overall\", \"overall\", \"pain\", \"paper\", \"park\", \"park\", \"park\", \"park\", \"parking\", \"parks\", \"patient\", \"patio\", \"perfect\", \"perfect\", \"perfect\", \"perfect\", \"perfect\", \"perfect\", \"pharmacy\", \"pillow\", \"place\", \"place\", \"place\", \"place\", \"place\", \"place\", \"place\", \"precaution\", \"precise\", \"prior\", \"process\", \"process\", \"provide\", \"provide\", \"provide\", \"provide\", \"provide\", \"provide\", \"provide\", \"public\", \"question\", \"question\", \"question\", \"quick\", \"quick\", \"quick\", \"quick\", \"quiet\", \"quiet\", \"quiet\", \"quiet\", \"quiet\", \"quiet\", \"quiet\", \"range\", \"reactive\", \"readily\", \"readily\", \"really\", \"really\", \"really\", \"really\", \"really\", \"recomend\", \"recommend\", \"recommend\", \"recommend\", \"recommend\", \"refund\", \"regret\", \"regularly\", \"relax\", \"relax\", \"remodel\", \"remotely\", \"repair\", \"request\", \"request\", \"request\", \"reservation\", \"reservation\", \"respond\", \"respond\", \"responder\", \"responsive\", \"responsive\", \"responsive\", \"responsive\", \"responsive\", \"restaurant\", \"retreat\", \"revisit\", \"ride\", \"ride\", \"right\", \"right\", \"right\", \"right\", \"right\", \"right\", \"right\", \"rockaway\", \"roof\", \"roof\", \"rooftop\", \"room\", \"room\", \"room\", \"room\", \"room\", \"rooms\", \"rooms\", \"rooms\", \"rooms\", \"rooms\", \"rooms\", \"rotation\", \"rough\", \"say\", \"say\", \"schedule\", \"seamless\", \"seamless\", \"seeing\", \"seeing\", \"send\", \"sent\", \"seriously\", \"sheet\", \"sheet\", \"shop\", \"shopping\", \"short\", \"short\", \"short\", \"short\", \"short\", \"short\", \"short\", \"shower\", \"sink\", \"skyline\", \"sleep\", \"sleep\", \"sleep\", \"slight\", \"smack\", \"small\", \"small\", \"small\", \"small\", \"small\", \"small\", \"small\", \"smaller\", \"smell\", \"smell\", \"smoke\", \"smoking\", \"smooth\", \"smooth\", \"snack\", \"soap\", \"solo\", \"somebody\", \"sonder\", \"sonder\", \"soon\", \"soon\", \"soon\", \"soon\", \"space\", \"space\", \"space\", \"space\", \"space\", \"spacious\", \"spacious\", \"spacious\", \"spacious\", \"spacious\", \"spacious\", \"sparkling\", \"sparkling\", \"sparkling\", \"sparkly\", \"spend\", \"spend\", \"spending\", \"spending\", \"spot\", \"spot\", \"spot\", \"spot\", \"spots\", \"spots\", \"square\", \"squeaky\", \"staff\", \"staff\", \"stairs\", \"stairs\", \"star\", \"star\", \"star\", \"starbucks\", \"state\", \"state\", \"state\", \"state\", \"staten\", \"station\", \"station\", \"stay\", \"stay\", \"stay\", \"stay\", \"stay\", \"stay\", \"stay\", \"stay\", \"stock\", \"stock\", \"stock\", \"stock\", \"stone\", \"stop\", \"stop\", \"stop\", \"stop\", \"stop\", \"store\", \"street\", \"street\", \"street\", \"street\", \"student\", \"style\", \"style\", \"stylishly\", \"subway\", \"subway\", \"subway\", \"sunlight\", \"sunrise\", \"super\", \"super\", \"super\", \"super\", \"super\", \"super\", \"supportive\", \"sure\", \"sure\", \"sure\", \"sure\", \"sure\", \"take\", \"take\", \"take\", \"take\", \"take\", \"take\", \"tastefully\", \"tax\", \"ten\", \"terrace\", \"text\", \"texted\", \"thank\", \"thank\", \"thank\", \"thank\", \"thank\", \"thorough\", \"throughly\", \"tight\", \"time\", \"time\", \"time\", \"time\", \"time\", \"time\", \"time\", \"timely\", \"times\", \"times\", \"times\", \"times\", \"tip\", \"tip\", \"tip\", \"toilet\", \"tons\", \"tons\", \"touch\", \"touch\", \"touch\", \"touch\", \"touch\", \"towel\", \"towel\", \"townhouse\", \"trader\", \"train\", \"train\", \"transit\", \"transit\", \"transportation\", \"tree\", \"truly\", \"truly\", \"trust\", \"tv\", \"two\", \"two\", \"two\", \"two\", \"two\", \"two\", \"uber\", \"uncomfortable\", \"union\", \"unique\", \"unit\", \"unit\", \"university\", \"up\", \"upgrade\", \"upon\", \"upset\", \"uptown\", \"us\", \"us\", \"use\", \"use\", \"use\", \"use\", \"use\", \"vibes\", \"view\", \"view\", \"view\", \"waiting\", \"walk\", \"walk\", \"walk\", \"walkable\", \"walking\", \"walking\", \"walking\", \"wall\", \"wall\", \"want\", \"want\", \"want\", \"want\", \"want\", \"want\", \"want\", \"want\", \"washer\", \"water\", \"water\", \"waterfront\", \"website\", \"weekend\", \"weekend\", \"weekend\", \"well\", \"well\", \"well\", \"well\", \"well\", \"well\", \"well\", \"wifi\", \"wifi\", \"wifi\", \"window\", \"within\", \"within\", \"within\", \"wonderful\", \"wonderful\", \"wonderful\", \"wonderful\", \"wonderful\", \"words\", \"work\", \"work\", \"work\", \"work\", \"work\", \"would\", \"would\", \"would\", \"would\", \"would\", \"would\", \"wow\", \"york\", \"yorker\", \"yorkers\", \"young\", \"zen\"]}, \"R\": 30, \"lambda.step\": 0.01, \"plot.opts\": {\"xlab\": \"PC1\", \"ylab\": \"PC2\"}, \"topic.order\": [4, 6, 7, 5, 1, 8, 9, 2, 3]};\n",
       "\n",
       "function LDAvis_load_lib(url, callback){\n",
       "  var s = document.createElement('script');\n",
       "  s.src = url;\n",
       "  s.async = true;\n",
       "  s.onreadystatechange = s.onload = callback;\n",
       "  s.onerror = function(){console.warn(\"failed to load library \" + url);};\n",
       "  document.getElementsByTagName(\"head\")[0].appendChild(s);\n",
       "}\n",
       "\n",
       "if(typeof(LDAvis) !== \"undefined\"){\n",
       "   // already loaded: just create the visualization\n",
       "   !function(LDAvis){\n",
       "       new LDAvis(\"#\" + \"ldavis_el585301397354548098086108944247\", ldavis_el585301397354548098086108944247_data);\n",
       "   }(LDAvis);\n",
       "}else if(typeof define === \"function\" && define.amd){\n",
       "   // require.js is available: use it to load d3/LDAvis\n",
       "   require.config({paths: {d3: \"https://d3js.org/d3.v5\"}});\n",
       "   require([\"d3\"], function(d3){\n",
       "      window.d3 = d3;\n",
       "      LDAvis_load_lib(\"https://cdn.jsdelivr.net/gh/bmabey/pyLDAvis@3.2.2/pyLDAvis/js/ldavis.v3.0.0.js\", function(){\n",
       "        new LDAvis(\"#\" + \"ldavis_el585301397354548098086108944247\", ldavis_el585301397354548098086108944247_data);\n",
       "      });\n",
       "    });\n",
       "}else{\n",
       "    // require.js not available: dynamically load d3 & LDAvis\n",
       "    LDAvis_load_lib(\"https://d3js.org/d3.v5.js\", function(){\n",
       "         LDAvis_load_lib(\"https://cdn.jsdelivr.net/gh/bmabey/pyLDAvis@3.2.2/pyLDAvis/js/ldavis.v3.0.0.js\", function(){\n",
       "                 new LDAvis(\"#\" + \"ldavis_el585301397354548098086108944247\", ldavis_el585301397354548098086108944247_data);\n",
       "            })\n",
       "         });\n",
       "}\n",
       "</script>"
      ],
      "text/plain": [
       "PreparedData(topic_coordinates=              x         y  topics  cluster       Freq\n",
       "topic                                                \n",
       "3     -0.031947  0.167497       1        1  17.023918\n",
       "5     -0.091243 -0.054932       2        1  16.492573\n",
       "6     -0.008934  0.099335       3        1  13.767595\n",
       "4     -0.196626  0.028347       4        1  11.448353\n",
       "0      0.245937  0.070613       5        1  11.050395\n",
       "7     -0.216443 -0.208274       6        1   9.308563\n",
       "8     -0.005719  0.234946       7        1   8.122821\n",
       "1     -0.020896 -0.160598       8        1   6.908685\n",
       "2      0.325872 -0.176935       9        1   5.877097, topic_info=         Term           Freq          Total Category  logprob  loglift\n",
       "12      great  388017.000000  388017.000000  Default  30.0000  30.0000\n",
       "172        us  106776.000000  106776.000000  Default  29.0000  29.0000\n",
       "232     check  110684.000000  110684.000000  Default  28.0000  28.0000\n",
       "59       walk   80519.000000   80519.000000  Default  27.0000  27.0000\n",
       "56     subway  105181.000000  105181.000000  Default  26.0000  26.0000\n",
       "..        ...            ...            ...      ...      ...      ...\n",
       "813     metro    7273.495558   15853.166386   Topic9  -4.9279   2.0550\n",
       "243       get   12270.149920   97612.260597   Topic9  -4.4050   0.7603\n",
       "81     locate    8366.576256   42956.245256   Topic9  -4.7879   1.1982\n",
       "16   location    9251.353734  225536.799732   Topic9  -4.6874  -0.3596\n",
       "45       good    8135.694990  125767.427178   Topic9  -4.8159   0.0959\n",
       "\n",
       "[634 rows x 6 columns], token_table=      Topic      Freq     Term\n",
       "term                          \n",
       "277       9  0.999977       10\n",
       "2756      8  0.999549       11\n",
       "344       9  0.999925       15\n",
       "1005      9  0.999836       20\n",
       "101       8  0.999670       24\n",
       "...     ...       ...      ...\n",
       "39        3  0.999973     york\n",
       "1480      3  0.999480   yorker\n",
       "2426      3  0.998953  yorkers\n",
       "1320      8  0.999527    young\n",
       "366       1  0.998551      zen\n",
       "\n",
       "[1186 rows x 3 columns], R=30, lambda_step=0.01, plot_opts={'xlab': 'PC1', 'ylab': 'PC2'}, topic_order=[4, 6, 7, 5, 1, 8, 9, 2, 3])"
      ]
     },
     "execution_count": 78,
     "metadata": {},
     "output_type": "execute_result"
    }
   ],
   "source": [
    "# load saved lda model and print topics\n",
    "loading = LdaModel.load('topicReview.model')\n",
    "# visualize the model and data\n",
    "pyLDAvis.enable_notebook()\n",
    "picLDAreview = pyLDAvis.gensim.prepare(ldaAir, corpus, dic)\n",
    "picLDAreview"
   ]
  },
  {
   "cell_type": "markdown",
   "metadata": {},
   "source": [
    "From the dashboard, we can see that the most important factors that affect evaluations are feelings of the apartment, room conditions, \n",
    "as well as traffic covenience."
   ]
  },
  {
   "cell_type": "code",
   "execution_count": 79,
   "metadata": {
    "ExecuteTime": {
     "end_time": "2021-11-24T02:58:01.361984Z",
     "start_time": "2021-11-24T02:58:01.348738Z"
    }
   },
   "outputs": [],
   "source": [
    "# save pyldavis results\n",
    "pyLDAvis.save_html(picLDAreview,'visReview.html')"
   ]
  },
  {
   "cell_type": "markdown",
   "metadata": {},
   "source": [
    "### Sentiment Analysis"
   ]
  },
  {
   "cell_type": "code",
   "execution_count": 80,
   "metadata": {
    "ExecuteTime": {
     "end_time": "2021-11-24T03:05:34.003020Z",
     "start_time": "2021-11-24T02:58:53.186541Z"
    }
   },
   "outputs": [],
   "source": [
    "sentimentReview = SentimentIntensityAnalyzer()\n",
    "# calculate and get polarity scores for each line of review into a dictionary\n",
    "polarity_scores = [sentimentReview.polarity_scores(review) for review in dfmergeClean['comments']]"
   ]
  },
  {
   "cell_type": "code",
   "execution_count": 81,
   "metadata": {
    "ExecuteTime": {
     "end_time": "2021-11-24T03:06:14.596503Z",
     "start_time": "2021-11-24T03:06:12.328586Z"
    }
   },
   "outputs": [],
   "source": [
    "dfmergeCleanSen = dfmergeClean.copy()\n",
    "dfmergeCleanSen['compound'] = [score['compound'] for score in polarity_scores]\n",
    "dfmergeCleanSen['negativity'] = [score['neg'] for score in polarity_scores]\n",
    "dfmergeCleanSen['neutrality'] = [score['neu'] for score in polarity_scores]\n",
    "dfmergeCleanSen['positivity'] = [score['pos'] for score in polarity_scores]"
   ]
  },
  {
   "cell_type": "code",
   "execution_count": 82,
   "metadata": {
    "ExecuteTime": {
     "end_time": "2021-11-24T03:07:11.579717Z",
     "start_time": "2021-11-24T03:06:48.329141Z"
    }
   },
   "outputs": [],
   "source": [
    "#dfmergeCleanSen.to_csv('reviewSentiment1.csv', index = False)"
   ]
  },
  {
   "cell_type": "markdown",
   "metadata": {},
   "source": [
    "## Picture Analysis: K-Means Clustering, Convolutional Neural Network, and OpenCV, Detecting the Color Tone of the Pictures\n",
    "\n",
    "This section would analyze the pictures posted by the hosts for the Airbnb houses. Our main goal in this section is to detect the overall color tone of the picture, as our hypothesis is that the color tone would affect the buyers' willingness to rent. In other words, we suppose warm and cool colors would have different impacts on consumers' feelings, so their desire to rent would diversify by this variable."
   ]
  },
  {
   "cell_type": "markdown",
   "metadata": {},
   "source": [
    "### Load Datasets, Define Useful Functions"
   ]
  },
  {
   "cell_type": "code",
   "execution_count": 83,
   "metadata": {
    "ExecuteTime": {
     "end_time": "2021-11-24T03:07:23.163473Z",
     "start_time": "2021-11-24T03:07:23.111204Z"
    }
   },
   "outputs": [],
   "source": [
    "from __future__ import print_function\n",
    "import binascii\n",
    "import struct\n",
    "from PIL import Image\n",
    "import numpy as np\n",
    "import scipy\n",
    "import scipy.misc\n",
    "import scipy.cluster\n",
    "\n",
    "import cv2, numpy as np\n",
    "from sklearn.cluster import KMeans\n",
    "import urllib.request\n",
    "import requests "
   ]
  },
  {
   "cell_type": "code",
   "execution_count": 84,
   "metadata": {
    "ExecuteTime": {
     "end_time": "2021-11-24T03:07:44.438085Z",
     "start_time": "2021-11-24T03:07:44.420465Z"
    }
   },
   "outputs": [],
   "source": [
    "#function for getting main color\n",
    "def get_dominant_color(pil_img):\n",
    "    img = pil_img.copy()\n",
    "    img.convert(\"RGB\")\n",
    "    img.resize((1, 1), resample=0)\n",
    "    dominant_color = img.getpixel((0, 0))\n",
    "    return dominant_color\n",
    "\n",
    "def visualize_colors(cluster, centroids):\n",
    "    # Get the number of different clusters, create histogram, and normalize\n",
    "    labels = np.arange(0, len(np.unique(cluster.labels_)) + 1)\n",
    "    (hist, _) = np.histogram(cluster.labels_, bins = labels)\n",
    "    hist = hist.astype(\"float\")\n",
    "    hist /= hist.sum()\n",
    "\n",
    "    # Create frequency rect and iterate through each cluster's color and percentage\n",
    "    rect = np.zeros((50, 300, 3), dtype=np.uint8)\n",
    "    colors = sorted([(percent, color) for (percent, color) in zip(hist, centroids)])\n",
    "    start = 0\n",
    "    for (percent, color) in colors:\n",
    "        print(color, \"{:0.2f}%\".format(percent * 100))\n",
    "        end = start + (percent * 300)\n",
    "        cv2.rectangle(rect, (int(start), 0), (int(end), 50), \\\n",
    "                      color.astype(\"uint8\").tolist(), -1)\n",
    "        start = end\n",
    "    return rect"
   ]
  },
  {
   "cell_type": "markdown",
   "metadata": {},
   "source": [
    "### Apply K-Means Clustering to the Pictures and then Break the Integrated Colors to three Layers: R, G, B"
   ]
  },
  {
   "cell_type": "code",
   "execution_count": 85,
   "metadata": {
    "ExecuteTime": {
     "end_time": "2021-11-24T03:08:06.098879Z",
     "start_time": "2021-11-24T03:08:06.093840Z"
    }
   },
   "outputs": [],
   "source": [
    "NUM_CLUSTERS = 5\n",
    "badlistid = []\n",
    "Rlist = []\n",
    "Glist = []\n",
    "Blist = []"
   ]
  },
  {
   "cell_type": "code",
   "execution_count": 87,
   "metadata": {
    "ExecuteTime": {
     "end_time": "2021-11-24T03:14:13.279136Z",
     "start_time": "2021-11-24T03:14:13.158589Z"
    }
   },
   "outputs": [],
   "source": [
    "df = listings.copy()"
   ]
  },
  {
   "cell_type": "code",
   "execution_count": null,
   "metadata": {},
   "outputs": [],
   "source": [
    "#Due to disk storage constraint, we could not use all the pics, but only the first 9608 ones. However, since this is also a large volume, we suppose it should \n",
    "#be enough for us to draw conclusions."
   ]
  },
  {
   "cell_type": "code",
   "execution_count": 89,
   "metadata": {
    "ExecuteTime": {
     "end_time": "2021-11-24T04:42:28.103333Z",
     "start_time": "2021-11-24T04:39:19.268912Z"
    },
    "scrolled": true
   },
   "outputs": [
    {
     "name": "stdout",
     "output_type": "stream",
     "text": [
      "0\n",
      "1\n",
      "2\n",
      "3\n",
      "4\n",
      "5\n",
      "6\n",
      "7\n",
      "8\n",
      "9\n",
      "10\n",
      "11\n",
      "12\n",
      "13\n",
      "14\n",
      "15\n",
      "16\n",
      "17\n",
      "18\n",
      "19\n",
      "20\n",
      "21\n",
      "22\n",
      "23\n",
      "24\n",
      "25\n",
      "26\n",
      "27\n",
      "28\n",
      "29\n",
      "30\n",
      "31\n",
      "32\n",
      "33\n",
      "34\n",
      "35\n",
      "36\n",
      "37\n",
      "38\n",
      "39\n",
      "40\n",
      "41\n",
      "42\n",
      "43\n",
      "44\n",
      "45\n",
      "46\n",
      "47\n",
      "48\n",
      "49\n",
      "50\n",
      "51\n",
      "52\n",
      "53\n",
      "54\n",
      "55\n",
      "56\n",
      "57\n",
      "58\n",
      "59\n",
      "60\n",
      "61\n",
      "62\n",
      "63\n",
      "64\n",
      "65\n",
      "66\n",
      "67\n",
      "68\n",
      "69\n",
      "70\n",
      "71\n",
      "72\n",
      "73\n",
      "74\n",
      "75\n",
      "76\n",
      "77\n",
      "78\n",
      "79\n",
      "80\n",
      "81\n",
      "82\n",
      "83\n",
      "84\n",
      "85\n",
      "86\n",
      "87\n",
      "88\n",
      "89\n",
      "90\n",
      "91\n",
      "92\n",
      "93\n",
      "94\n",
      "95\n",
      "96\n",
      "97\n",
      "98\n",
      "99\n",
      "100\n",
      "101\n",
      "102\n",
      "103\n",
      "104\n",
      "105\n",
      "106\n",
      "107\n",
      "108\n",
      "109\n",
      "110\n",
      "111\n",
      "112\n",
      "113\n",
      "114\n",
      "115\n",
      "116\n",
      "117\n",
      "118\n",
      "119\n",
      "120\n",
      "121\n",
      "122\n",
      "123\n",
      "124\n",
      "125\n",
      "126\n",
      "127\n",
      "128\n",
      "129\n",
      "130\n",
      "131\n",
      "132\n",
      "133\n",
      "134\n",
      "135\n",
      "136\n",
      "137\n",
      "138\n",
      "139\n",
      "140\n",
      "141\n",
      "142\n",
      "143\n",
      "144\n",
      "145\n",
      "146\n",
      "147\n",
      "148\n",
      "149\n",
      "150\n",
      "151\n",
      "152\n",
      "153\n",
      "154\n",
      "155\n",
      "156\n",
      "157\n",
      "158\n",
      "159\n",
      "160\n",
      "161\n",
      "162\n",
      "163\n",
      "164\n",
      "165\n",
      "166\n",
      "167\n",
      "168\n",
      "169\n",
      "170\n",
      "171\n"
     ]
    },
    {
     "ename": "KeyboardInterrupt",
     "evalue": "",
     "output_type": "error",
     "traceback": [
      "\u001b[0;31m---------------------------------------------------------------------------\u001b[0m",
      "\u001b[0;31mKeyboardInterrupt\u001b[0m                         Traceback (most recent call last)",
      "\u001b[0;32m<ipython-input-89-fde1ad2b80e2>\u001b[0m in \u001b[0;36m<module>\u001b[0;34m\u001b[0m\n\u001b[1;32m      6\u001b[0m     \u001b[0murllib\u001b[0m\u001b[0;34m.\u001b[0m\u001b[0mrequest\u001b[0m\u001b[0;34m.\u001b[0m\u001b[0murlretrieve\u001b[0m\u001b[0;34m(\u001b[0m\u001b[0mdf\u001b[0m\u001b[0;34m[\u001b[0m\u001b[0;34m'picture_url'\u001b[0m\u001b[0;34m]\u001b[0m\u001b[0;34m[\u001b[0m\u001b[0mi\u001b[0m\u001b[0;34m]\u001b[0m\u001b[0;34m,\u001b[0m\u001b[0;34m\"pics/images{}.jpg\"\u001b[0m\u001b[0;34m.\u001b[0m\u001b[0mformat\u001b[0m\u001b[0;34m(\u001b[0m\u001b[0mi\u001b[0m\u001b[0;34m)\u001b[0m\u001b[0;34m)\u001b[0m\u001b[0;34m\u001b[0m\u001b[0;34m\u001b[0m\u001b[0m\n\u001b[1;32m      7\u001b[0m     \u001b[0mimg\u001b[0m \u001b[0;34m=\u001b[0m \u001b[0mImage\u001b[0m\u001b[0;34m.\u001b[0m\u001b[0mopen\u001b[0m\u001b[0;34m(\u001b[0m\u001b[0;34m\"pics/images{}.jpg\"\u001b[0m\u001b[0;34m.\u001b[0m\u001b[0mformat\u001b[0m\u001b[0;34m(\u001b[0m\u001b[0mi\u001b[0m\u001b[0;34m)\u001b[0m\u001b[0;34m)\u001b[0m\u001b[0;34m\u001b[0m\u001b[0;34m\u001b[0m\u001b[0m\n\u001b[0;32m----> 8\u001b[0;31m     \u001b[0mim\u001b[0m \u001b[0;34m=\u001b[0m \u001b[0mimg\u001b[0m\u001b[0;34m.\u001b[0m\u001b[0mresize\u001b[0m\u001b[0;34m(\u001b[0m\u001b[0;34m(\u001b[0m\u001b[0;36m200\u001b[0m\u001b[0;34m,\u001b[0m \u001b[0;36m200\u001b[0m\u001b[0;34m)\u001b[0m\u001b[0;34m,\u001b[0m\u001b[0mImage\u001b[0m\u001b[0;34m.\u001b[0m\u001b[0mANTIALIAS\u001b[0m\u001b[0;34m)\u001b[0m\u001b[0;34m\u001b[0m\u001b[0;34m\u001b[0m\u001b[0m\n\u001b[0m\u001b[1;32m      9\u001b[0m     \u001b[0mar\u001b[0m \u001b[0;34m=\u001b[0m \u001b[0mnp\u001b[0m\u001b[0;34m.\u001b[0m\u001b[0masarray\u001b[0m\u001b[0;34m(\u001b[0m\u001b[0mim\u001b[0m\u001b[0;34m)\u001b[0m\u001b[0;34m\u001b[0m\u001b[0;34m\u001b[0m\u001b[0m\n\u001b[1;32m     10\u001b[0m     \u001b[0mshape\u001b[0m \u001b[0;34m=\u001b[0m \u001b[0mar\u001b[0m\u001b[0;34m.\u001b[0m\u001b[0mshape\u001b[0m\u001b[0;34m\u001b[0m\u001b[0;34m\u001b[0m\u001b[0m\n",
      "\u001b[0;32m/usr/local/lib/python3.6/dist-packages/PIL/Image.py\u001b[0m in \u001b[0;36mresize\u001b[0;34m(self, size, resample, box, reducing_gap)\u001b[0m\n\u001b[1;32m   1908\u001b[0m             \u001b[0;32mreturn\u001b[0m \u001b[0mim\u001b[0m\u001b[0;34m.\u001b[0m\u001b[0mconvert\u001b[0m\u001b[0;34m(\u001b[0m\u001b[0mself\u001b[0m\u001b[0;34m.\u001b[0m\u001b[0mmode\u001b[0m\u001b[0;34m)\u001b[0m\u001b[0;34m\u001b[0m\u001b[0;34m\u001b[0m\u001b[0m\n\u001b[1;32m   1909\u001b[0m \u001b[0;34m\u001b[0m\u001b[0m\n\u001b[0;32m-> 1910\u001b[0;31m         \u001b[0mself\u001b[0m\u001b[0;34m.\u001b[0m\u001b[0mload\u001b[0m\u001b[0;34m(\u001b[0m\u001b[0;34m)\u001b[0m\u001b[0;34m\u001b[0m\u001b[0;34m\u001b[0m\u001b[0m\n\u001b[0m\u001b[1;32m   1911\u001b[0m \u001b[0;34m\u001b[0m\u001b[0m\n\u001b[1;32m   1912\u001b[0m         \u001b[0;32mif\u001b[0m \u001b[0mreducing_gap\u001b[0m \u001b[0;32mis\u001b[0m \u001b[0;32mnot\u001b[0m \u001b[0;32mNone\u001b[0m \u001b[0;32mand\u001b[0m \u001b[0mresample\u001b[0m \u001b[0;34m!=\u001b[0m \u001b[0mNEAREST\u001b[0m\u001b[0;34m:\u001b[0m\u001b[0;34m\u001b[0m\u001b[0;34m\u001b[0m\u001b[0m\n",
      "\u001b[0;32m/usr/local/lib/python3.6/dist-packages/PIL/ImageFile.py\u001b[0m in \u001b[0;36mload\u001b[0;34m(self)\u001b[0m\n\u001b[1;32m    259\u001b[0m \u001b[0;34m\u001b[0m\u001b[0m\n\u001b[1;32m    260\u001b[0m                             \u001b[0mb\u001b[0m \u001b[0;34m=\u001b[0m \u001b[0mb\u001b[0m \u001b[0;34m+\u001b[0m \u001b[0ms\u001b[0m\u001b[0;34m\u001b[0m\u001b[0;34m\u001b[0m\u001b[0m\n\u001b[0;32m--> 261\u001b[0;31m                             \u001b[0mn\u001b[0m\u001b[0;34m,\u001b[0m \u001b[0merr_code\u001b[0m \u001b[0;34m=\u001b[0m \u001b[0mdecoder\u001b[0m\u001b[0;34m.\u001b[0m\u001b[0mdecode\u001b[0m\u001b[0;34m(\u001b[0m\u001b[0mb\u001b[0m\u001b[0;34m)\u001b[0m\u001b[0;34m\u001b[0m\u001b[0;34m\u001b[0m\u001b[0m\n\u001b[0m\u001b[1;32m    262\u001b[0m                             \u001b[0;32mif\u001b[0m \u001b[0mn\u001b[0m \u001b[0;34m<\u001b[0m \u001b[0;36m0\u001b[0m\u001b[0;34m:\u001b[0m\u001b[0;34m\u001b[0m\u001b[0;34m\u001b[0m\u001b[0m\n\u001b[1;32m    263\u001b[0m                                 \u001b[0;32mbreak\u001b[0m\u001b[0;34m\u001b[0m\u001b[0;34m\u001b[0m\u001b[0m\n",
      "\u001b[0;31mKeyboardInterrupt\u001b[0m: "
     ]
    }
   ],
   "source": [
    "for i in range(0,9609):\n",
    "    response = requests.get(df['picture_url'][i])\n",
    "    if response.status_code != 200: #could also check == requests.codes.ok\n",
    "        badlistid.append(df['id'][i])\n",
    "        continue\n",
    "    urllib.request.urlretrieve(df['picture_url'][i],\"pics/images{}.jpg\".format(i))\n",
    "    img = Image.open(\"pics/images{}.jpg\".format(i))\n",
    "    im = img.resize((200, 200),Image.ANTIALIAS) \n",
    "    ar = np.asarray(im)\n",
    "    shape = ar.shape\n",
    "    ar = ar.reshape(scipy.product(shape[:2]), shape[2]).astype(float)\n",
    "\n",
    "    codes, dist = scipy.cluster.vq.kmeans(ar, NUM_CLUSTERS)\n",
    "\n",
    "    vecs, dist = scipy.cluster.vq.vq(ar, codes)         # assign codes\n",
    "    counts, bins = scipy.histogram(vecs, len(codes))    # count occurrences\n",
    "\n",
    "    index_max = scipy.argmax(counts)                    # find most frequent\n",
    "    print(i)\n",
    "    peak = codes[index_max]\n",
    "    Rlist.append(peak[0])\n",
    "    Glist.append(peak[1])\n",
    "    Blist.append(peak[2])"
   ]
  },
  {
   "cell_type": "code",
   "execution_count": null,
   "metadata": {},
   "outputs": [],
   "source": [
    "#merge R,G,B into the dataframe\n",
    "mediationDicR = {'R':Rlist}\n",
    "mediationdfR = pd.DataFrame(mediationDicR)\n",
    "mediationDicG = {'G':Glist}\n",
    "mediationdfG = pd.DataFrame(mediationDicG)\n",
    "mediationDicB = {'B':Blist}\n",
    "mediationdfB = pd.DataFrame(mediationDicB)\n",
    "# get the subdataframe that does not contain missing pics and deleted profiles \n",
    "dfsub=df[0:9609]\n",
    "dfsub1 = dfsub[~dfsub.id.isin(badlistid)]\n",
    "dfsub2 = dfsub1.reset_index()\n",
    "del dfsub2['index']\n",
    "dfmergeR = pd.concat([dfsub2,mediationdfR],axis=1)\n",
    "dfmergeG = pd.concat([dfmergeR,mediationdfG],axis=1)\n",
    "dfmergeB = pd.concat([dfmergeG,mediationdfB],axis=1)\n",
    "#define warm tone\n",
    "dfmergeB['warm']=0\n",
    "dfmergeB.loc[dfmergeB.R>dfmergeB.B,'warm']=1\n",
    "dfmergeB['warm'].describe()\n"
   ]
  },
  {
   "cell_type": "code",
   "execution_count": null,
   "metadata": {},
   "outputs": [],
   "source": [
    "#save it into a csv file. Since I have run the code before using my previous script, I did not run it again as it is very time-consuming.\n",
    "#dfmerge1 = pd.read_csv('dfmerge.csv',encoding = \"ISO-8859-1\")"
   ]
  },
  {
   "cell_type": "markdown",
   "metadata": {},
   "source": [
    "## Regression Analysis, Cross Validation, Extenstion, and Discussion"
   ]
  },
  {
   "cell_type": "markdown",
   "metadata": {},
   "source": [
    "In this section, we would do regression analysis for the data, to predict the demand for the Airbnb houses."
   ]
  },
  {
   "cell_type": "markdown",
   "metadata": {},
   "source": [
    "### Data Preparation"
   ]
  },
  {
   "cell_type": "code",
   "execution_count": 91,
   "metadata": {
    "ExecuteTime": {
     "end_time": "2021-11-24T04:47:09.561412Z",
     "start_time": "2021-11-24T04:47:09.156246Z"
    }
   },
   "outputs": [
    {
     "data": {
      "text/html": [
       "<div>\n",
       "<style scoped>\n",
       "    .dataframe tbody tr th:only-of-type {\n",
       "        vertical-align: middle;\n",
       "    }\n",
       "\n",
       "    .dataframe tbody tr th {\n",
       "        vertical-align: top;\n",
       "    }\n",
       "\n",
       "    .dataframe thead th {\n",
       "        text-align: right;\n",
       "    }\n",
       "</style>\n",
       "<table border=\"1\" class=\"dataframe\">\n",
       "  <thead>\n",
       "    <tr style=\"text-align: right;\">\n",
       "      <th></th>\n",
       "      <th>id</th>\n",
       "      <th>listing_url</th>\n",
       "      <th>date</th>\n",
       "      <th>name</th>\n",
       "      <th>description</th>\n",
       "      <th>neighborhood_overview</th>\n",
       "      <th>picture_url</th>\n",
       "      <th>host_id</th>\n",
       "      <th>host_url</th>\n",
       "      <th>host_name</th>\n",
       "      <th>...</th>\n",
       "      <th>instant_bookable</th>\n",
       "      <th>calculated_host_listings_count</th>\n",
       "      <th>calculated_host_listings_count_entire_homes</th>\n",
       "      <th>calculated_host_listings_count_private_rooms</th>\n",
       "      <th>calculated_host_listings_count_shared_rooms</th>\n",
       "      <th>reviews_per_month</th>\n",
       "      <th>R</th>\n",
       "      <th>G</th>\n",
       "      <th>B</th>\n",
       "      <th>warm</th>\n",
       "    </tr>\n",
       "  </thead>\n",
       "  <tbody>\n",
       "    <tr>\n",
       "      <th>0</th>\n",
       "      <td>2595</td>\n",
       "      <td>https://www.airbnb.com/rooms/2595</td>\n",
       "      <td>2021/9/2</td>\n",
       "      <td>Skylit Midtown Castle</td>\n",
       "      <td>Beautiful, spacious skylit studio in the heart...</td>\n",
       "      <td>Centrally located in the heart of Manhattan ju...</td>\n",
       "      <td>https://a0.muscache.com/pictures/f0813a11-40b2...</td>\n",
       "      <td>2845</td>\n",
       "      <td>https://www.airbnb.com/users/show/2845</td>\n",
       "      <td>Jennifer</td>\n",
       "      <td>...</td>\n",
       "      <td>f</td>\n",
       "      <td>3</td>\n",
       "      <td>3</td>\n",
       "      <td>0</td>\n",
       "      <td>0</td>\n",
       "      <td>0.33</td>\n",
       "      <td>145.469269</td>\n",
       "      <td>118.032120</td>\n",
       "      <td>94.797308</td>\n",
       "      <td>1</td>\n",
       "    </tr>\n",
       "    <tr>\n",
       "      <th>1</th>\n",
       "      <td>3831</td>\n",
       "      <td>https://www.airbnb.com/rooms/3831</td>\n",
       "      <td>2021/9/2</td>\n",
       "      <td>Whole flr w/private bdrm, bath &amp; kitchen(pls r...</td>\n",
       "      <td>Enjoy 500 s.f. top floor in 1899 brownstone, w...</td>\n",
       "      <td>Just the right mix of urban center and local n...</td>\n",
       "      <td>https://a0.muscache.com/pictures/e49999c2-9fd5...</td>\n",
       "      <td>4869</td>\n",
       "      <td>https://www.airbnb.com/users/show/4869</td>\n",
       "      <td>LisaRoxanne</td>\n",
       "      <td>...</td>\n",
       "      <td>f</td>\n",
       "      <td>1</td>\n",
       "      <td>1</td>\n",
       "      <td>0</td>\n",
       "      <td>0</td>\n",
       "      <td>5.03</td>\n",
       "      <td>41.886548</td>\n",
       "      <td>43.327513</td>\n",
       "      <td>42.936160</td>\n",
       "      <td>0</td>\n",
       "    </tr>\n",
       "    <tr>\n",
       "      <th>2</th>\n",
       "      <td>5121</td>\n",
       "      <td>https://www.airbnb.com/rooms/5121</td>\n",
       "      <td>2021/9/2</td>\n",
       "      <td>BlissArtsSpace!</td>\n",
       "      <td>&lt;b&gt;The space&lt;/b&gt;&lt;br /&gt;HELLO EVERYONE AND THANK...</td>\n",
       "      <td>NaN</td>\n",
       "      <td>https://a0.muscache.com/pictures/2090980c-b68e...</td>\n",
       "      <td>7356</td>\n",
       "      <td>https://www.airbnb.com/users/show/7356</td>\n",
       "      <td>Garon</td>\n",
       "      <td>...</td>\n",
       "      <td>f</td>\n",
       "      <td>1</td>\n",
       "      <td>0</td>\n",
       "      <td>1</td>\n",
       "      <td>0</td>\n",
       "      <td>0.54</td>\n",
       "      <td>149.949516</td>\n",
       "      <td>125.157799</td>\n",
       "      <td>45.749798</td>\n",
       "      <td>1</td>\n",
       "    </tr>\n",
       "    <tr>\n",
       "      <th>3</th>\n",
       "      <td>5136</td>\n",
       "      <td>https://www.airbnb.com/rooms/5136</td>\n",
       "      <td>2021/9/2</td>\n",
       "      <td>Spacious Brooklyn Duplex, Patio + Garden</td>\n",
       "      <td>We welcome you to stay in our lovely 2 br dupl...</td>\n",
       "      <td>NaN</td>\n",
       "      <td>https://a0.muscache.com/pictures/miso/Hosting-...</td>\n",
       "      <td>7378</td>\n",
       "      <td>https://www.airbnb.com/users/show/7378</td>\n",
       "      <td>Rebecca</td>\n",
       "      <td>...</td>\n",
       "      <td>f</td>\n",
       "      <td>1</td>\n",
       "      <td>1</td>\n",
       "      <td>0</td>\n",
       "      <td>0</td>\n",
       "      <td>0.02</td>\n",
       "      <td>214.687595</td>\n",
       "      <td>195.996314</td>\n",
       "      <td>179.204118</td>\n",
       "      <td>1</td>\n",
       "    </tr>\n",
       "    <tr>\n",
       "      <th>4</th>\n",
       "      <td>5178</td>\n",
       "      <td>https://www.airbnb.com/rooms/5178</td>\n",
       "      <td>2021/9/2</td>\n",
       "      <td>Large Furnished Room Near B'way</td>\n",
       "      <td>Please don't expect the luxury here just a bas...</td>\n",
       "      <td>Theater district, many restaurants around here.</td>\n",
       "      <td>https://a0.muscache.com/pictures/12065/f070997...</td>\n",
       "      <td>8967</td>\n",
       "      <td>https://www.airbnb.com/users/show/8967</td>\n",
       "      <td>Shunichi</td>\n",
       "      <td>...</td>\n",
       "      <td>f</td>\n",
       "      <td>1</td>\n",
       "      <td>0</td>\n",
       "      <td>1</td>\n",
       "      <td>0</td>\n",
       "      <td>3.64</td>\n",
       "      <td>178.576734</td>\n",
       "      <td>138.710742</td>\n",
       "      <td>101.362392</td>\n",
       "      <td>1</td>\n",
       "    </tr>\n",
       "  </tbody>\n",
       "</table>\n",
       "<p>5 rows × 77 columns</p>\n",
       "</div>"
      ],
      "text/plain": [
       "     id                        listing_url      date  \\\n",
       "0  2595  https://www.airbnb.com/rooms/2595  2021/9/2   \n",
       "1  3831  https://www.airbnb.com/rooms/3831  2021/9/2   \n",
       "2  5121  https://www.airbnb.com/rooms/5121  2021/9/2   \n",
       "3  5136  https://www.airbnb.com/rooms/5136  2021/9/2   \n",
       "4  5178  https://www.airbnb.com/rooms/5178  2021/9/2   \n",
       "\n",
       "                                                name  \\\n",
       "0                              Skylit Midtown Castle   \n",
       "1  Whole flr w/private bdrm, bath & kitchen(pls r...   \n",
       "2                                    BlissArtsSpace!   \n",
       "3           Spacious Brooklyn Duplex, Patio + Garden   \n",
       "4                    Large Furnished Room Near B'way   \n",
       "\n",
       "                                         description  \\\n",
       "0  Beautiful, spacious skylit studio in the heart...   \n",
       "1  Enjoy 500 s.f. top floor in 1899 brownstone, w...   \n",
       "2  <b>The space</b><br />HELLO EVERYONE AND THANK...   \n",
       "3  We welcome you to stay in our lovely 2 br dupl...   \n",
       "4  Please don't expect the luxury here just a bas...   \n",
       "\n",
       "                               neighborhood_overview  \\\n",
       "0  Centrally located in the heart of Manhattan ju...   \n",
       "1  Just the right mix of urban center and local n...   \n",
       "2                                                NaN   \n",
       "3                                                NaN   \n",
       "4    Theater district, many restaurants around here.   \n",
       "\n",
       "                                         picture_url  host_id  \\\n",
       "0  https://a0.muscache.com/pictures/f0813a11-40b2...     2845   \n",
       "1  https://a0.muscache.com/pictures/e49999c2-9fd5...     4869   \n",
       "2  https://a0.muscache.com/pictures/2090980c-b68e...     7356   \n",
       "3  https://a0.muscache.com/pictures/miso/Hosting-...     7378   \n",
       "4  https://a0.muscache.com/pictures/12065/f070997...     8967   \n",
       "\n",
       "                                 host_url    host_name  ... instant_bookable  \\\n",
       "0  https://www.airbnb.com/users/show/2845     Jennifer  ...                f   \n",
       "1  https://www.airbnb.com/users/show/4869  LisaRoxanne  ...                f   \n",
       "2  https://www.airbnb.com/users/show/7356        Garon  ...                f   \n",
       "3  https://www.airbnb.com/users/show/7378      Rebecca  ...                f   \n",
       "4  https://www.airbnb.com/users/show/8967     Shunichi  ...                f   \n",
       "\n",
       "  calculated_host_listings_count calculated_host_listings_count_entire_homes  \\\n",
       "0                              3                                           3   \n",
       "1                              1                                           1   \n",
       "2                              1                                           0   \n",
       "3                              1                                           1   \n",
       "4                              1                                           0   \n",
       "\n",
       "  calculated_host_listings_count_private_rooms  \\\n",
       "0                                            0   \n",
       "1                                            0   \n",
       "2                                            1   \n",
       "3                                            0   \n",
       "4                                            1   \n",
       "\n",
       "  calculated_host_listings_count_shared_rooms reviews_per_month           R  \\\n",
       "0                                           0              0.33  145.469269   \n",
       "1                                           0              5.03   41.886548   \n",
       "2                                           0              0.54  149.949516   \n",
       "3                                           0              0.02  214.687595   \n",
       "4                                           0              3.64  178.576734   \n",
       "\n",
       "            G           B warm  \n",
       "0  118.032120   94.797308    1  \n",
       "1   43.327513   42.936160    0  \n",
       "2  125.157799   45.749798    1  \n",
       "3  195.996314  179.204118    1  \n",
       "4  138.710742  101.362392    1  \n",
       "\n",
       "[5 rows x 77 columns]"
      ]
     },
     "execution_count": 91,
     "metadata": {},
     "output_type": "execute_result"
    }
   ],
   "source": [
    "#load the files\n",
    "dfNew = pd.read_csv('dfmergeB.csv',encoding = \"ISO-8859-1\")\n",
    "dfNew.head()"
   ]
  },
  {
   "cell_type": "code",
   "execution_count": 94,
   "metadata": {
    "ExecuteTime": {
     "end_time": "2021-11-24T04:48:58.688715Z",
     "start_time": "2021-11-24T04:48:51.775329Z"
    }
   },
   "outputs": [],
   "source": [
    "dfreview = pd.read_csv('reviewSentiment1.csv',encoding = \"ISO-8859-1\",lineterminator='\\n')"
   ]
  },
  {
   "cell_type": "code",
   "execution_count": 95,
   "metadata": {
    "ExecuteTime": {
     "end_time": "2021-11-24T04:49:08.633446Z",
     "start_time": "2021-11-24T04:49:08.537900Z"
    }
   },
   "outputs": [
    {
     "data": {
      "text/html": [
       "<div>\n",
       "<style scoped>\n",
       "    .dataframe tbody tr th:only-of-type {\n",
       "        vertical-align: middle;\n",
       "    }\n",
       "\n",
       "    .dataframe tbody tr th {\n",
       "        vertical-align: top;\n",
       "    }\n",
       "\n",
       "    .dataframe thead th {\n",
       "        text-align: right;\n",
       "    }\n",
       "</style>\n",
       "<table border=\"1\" class=\"dataframe\">\n",
       "  <thead>\n",
       "    <tr style=\"text-align: right;\">\n",
       "      <th></th>\n",
       "      <th>id</th>\n",
       "      <th>comments</th>\n",
       "      <th>host_is_superhost</th>\n",
       "      <th>price</th>\n",
       "      <th>number_of_reviews</th>\n",
       "      <th>review_scores_rating</th>\n",
       "      <th>autoreview</th>\n",
       "      <th>isen</th>\n",
       "      <th>dataCleaned</th>\n",
       "      <th>review_len</th>\n",
       "      <th>compound</th>\n",
       "      <th>negativity</th>\n",
       "      <th>neutrality</th>\n",
       "      <th>positivity</th>\n",
       "    </tr>\n",
       "  </thead>\n",
       "  <tbody>\n",
       "    <tr>\n",
       "      <th>0</th>\n",
       "      <td>2595</td>\n",
       "      <td>Great experience.</td>\n",
       "      <td>f</td>\n",
       "      <td>$150.00</td>\n",
       "      <td>48.0</td>\n",
       "      <td>4.7</td>\n",
       "      <td>0</td>\n",
       "      <td>1</td>\n",
       "      <td>['great', 'experience']</td>\n",
       "      <td>2</td>\n",
       "      <td>0.6249</td>\n",
       "      <td>0.000</td>\n",
       "      <td>0.196</td>\n",
       "      <td>0.804</td>\n",
       "    </tr>\n",
       "    <tr>\n",
       "      <th>1</th>\n",
       "      <td>2595</td>\n",
       "      <td>I've stayed with my friend at the Midtown Cast...</td>\n",
       "      <td>f</td>\n",
       "      <td>$150.00</td>\n",
       "      <td>48.0</td>\n",
       "      <td>4.7</td>\n",
       "      <td>0</td>\n",
       "      <td>1</td>\n",
       "      <td>['stay', 'friend', 'midtown', 'castle', 'six',...</td>\n",
       "      <td>45</td>\n",
       "      <td>0.9248</td>\n",
       "      <td>0.016</td>\n",
       "      <td>0.793</td>\n",
       "      <td>0.192</td>\n",
       "    </tr>\n",
       "    <tr>\n",
       "      <th>2</th>\n",
       "      <td>2595</td>\n",
       "      <td>We've been staying here for about 9 nights, en...</td>\n",
       "      <td>f</td>\n",
       "      <td>$150.00</td>\n",
       "      <td>48.0</td>\n",
       "      <td>4.7</td>\n",
       "      <td>0</td>\n",
       "      <td>1</td>\n",
       "      <td>['stay', 'night', 'enjoy', 'center', 'city', '...</td>\n",
       "      <td>30</td>\n",
       "      <td>0.9229</td>\n",
       "      <td>0.000</td>\n",
       "      <td>0.808</td>\n",
       "      <td>0.192</td>\n",
       "    </tr>\n",
       "    <tr>\n",
       "      <th>3</th>\n",
       "      <td>2595</td>\n",
       "      <td>We had a wonderful stay at Jennifer's charming...</td>\n",
       "      <td>f</td>\n",
       "      <td>$150.00</td>\n",
       "      <td>48.0</td>\n",
       "      <td>4.7</td>\n",
       "      <td>0</td>\n",
       "      <td>1</td>\n",
       "      <td>['wonderful', 'stay', 'charm', 'apartment', 'o...</td>\n",
       "      <td>12</td>\n",
       "      <td>0.9464</td>\n",
       "      <td>0.000</td>\n",
       "      <td>0.510</td>\n",
       "      <td>0.490</td>\n",
       "    </tr>\n",
       "    <tr>\n",
       "      <th>4</th>\n",
       "      <td>2595</td>\n",
       "      <td>Hi to everyone!\\rWould say our greatest compli...</td>\n",
       "      <td>f</td>\n",
       "      <td>$150.00</td>\n",
       "      <td>48.0</td>\n",
       "      <td>4.7</td>\n",
       "      <td>0</td>\n",
       "      <td>1</td>\n",
       "      <td>['hi', 'everyone', 'would', 'say', 'greatest',...</td>\n",
       "      <td>50</td>\n",
       "      <td>0.9869</td>\n",
       "      <td>0.000</td>\n",
       "      <td>0.729</td>\n",
       "      <td>0.271</td>\n",
       "    </tr>\n",
       "  </tbody>\n",
       "</table>\n",
       "</div>"
      ],
      "text/plain": [
       "     id                                           comments host_is_superhost  \\\n",
       "0  2595                                  Great experience.                 f   \n",
       "1  2595  I've stayed with my friend at the Midtown Cast...                 f   \n",
       "2  2595  We've been staying here for about 9 nights, en...                 f   \n",
       "3  2595  We had a wonderful stay at Jennifer's charming...                 f   \n",
       "4  2595  Hi to everyone!\\rWould say our greatest compli...                 f   \n",
       "\n",
       "     price  number_of_reviews  review_scores_rating  autoreview  isen  \\\n",
       "0  $150.00               48.0                   4.7           0     1   \n",
       "1  $150.00               48.0                   4.7           0     1   \n",
       "2  $150.00               48.0                   4.7           0     1   \n",
       "3  $150.00               48.0                   4.7           0     1   \n",
       "4  $150.00               48.0                   4.7           0     1   \n",
       "\n",
       "                                         dataCleaned  review_len  compound  \\\n",
       "0                            ['great', 'experience']           2    0.6249   \n",
       "1  ['stay', 'friend', 'midtown', 'castle', 'six',...          45    0.9248   \n",
       "2  ['stay', 'night', 'enjoy', 'center', 'city', '...          30    0.9229   \n",
       "3  ['wonderful', 'stay', 'charm', 'apartment', 'o...          12    0.9464   \n",
       "4  ['hi', 'everyone', 'would', 'say', 'greatest',...          50    0.9869   \n",
       "\n",
       "   negativity  neutrality  positivity  \n",
       "0       0.000       0.196       0.804  \n",
       "1       0.016       0.793       0.192  \n",
       "2       0.000       0.808       0.192  \n",
       "3       0.000       0.510       0.490  \n",
       "4       0.000       0.729       0.271  "
      ]
     },
     "execution_count": 95,
     "metadata": {},
     "output_type": "execute_result"
    }
   ],
   "source": [
    "dfreview.head()"
   ]
  },
  {
   "cell_type": "code",
   "execution_count": 96,
   "metadata": {
    "ExecuteTime": {
     "end_time": "2021-11-24T04:51:18.105224Z",
     "start_time": "2021-11-24T04:51:17.346201Z"
    }
   },
   "outputs": [
    {
     "data": {
      "text/html": [
       "<div>\n",
       "<style scoped>\n",
       "    .dataframe tbody tr th:only-of-type {\n",
       "        vertical-align: middle;\n",
       "    }\n",
       "\n",
       "    .dataframe tbody tr th {\n",
       "        vertical-align: top;\n",
       "    }\n",
       "\n",
       "    .dataframe thead th {\n",
       "        text-align: right;\n",
       "    }\n",
       "</style>\n",
       "<table border=\"1\" class=\"dataframe\">\n",
       "  <thead>\n",
       "    <tr style=\"text-align: right;\">\n",
       "      <th></th>\n",
       "      <th>id</th>\n",
       "      <th>listing_url</th>\n",
       "      <th>date</th>\n",
       "      <th>name</th>\n",
       "      <th>description</th>\n",
       "      <th>neighborhood_overview</th>\n",
       "      <th>picture_url</th>\n",
       "      <th>host_id</th>\n",
       "      <th>host_url</th>\n",
       "      <th>host_name</th>\n",
       "      <th>...</th>\n",
       "      <th>calculated_host_listings_count_private_rooms</th>\n",
       "      <th>calculated_host_listings_count_shared_rooms</th>\n",
       "      <th>reviews_per_month</th>\n",
       "      <th>R</th>\n",
       "      <th>G</th>\n",
       "      <th>B</th>\n",
       "      <th>warm</th>\n",
       "      <th>compound</th>\n",
       "      <th>positivity</th>\n",
       "      <th>negativity</th>\n",
       "    </tr>\n",
       "  </thead>\n",
       "  <tbody>\n",
       "    <tr>\n",
       "      <th>0</th>\n",
       "      <td>2595</td>\n",
       "      <td>https://www.airbnb.com/rooms/2595</td>\n",
       "      <td>2021/9/2</td>\n",
       "      <td>Skylit Midtown Castle</td>\n",
       "      <td>Beautiful, spacious skylit studio in the heart...</td>\n",
       "      <td>Centrally located in the heart of Manhattan ju...</td>\n",
       "      <td>https://a0.muscache.com/pictures/f0813a11-40b2...</td>\n",
       "      <td>2845</td>\n",
       "      <td>https://www.airbnb.com/users/show/2845</td>\n",
       "      <td>Jennifer</td>\n",
       "      <td>...</td>\n",
       "      <td>0</td>\n",
       "      <td>0</td>\n",
       "      <td>0.33</td>\n",
       "      <td>145.469269</td>\n",
       "      <td>118.032120</td>\n",
       "      <td>94.797308</td>\n",
       "      <td>1</td>\n",
       "      <td>0.784377</td>\n",
       "      <td>0.321614</td>\n",
       "      <td>0.018432</td>\n",
       "    </tr>\n",
       "    <tr>\n",
       "      <th>1</th>\n",
       "      <td>3831</td>\n",
       "      <td>https://www.airbnb.com/rooms/3831</td>\n",
       "      <td>2021/9/2</td>\n",
       "      <td>Whole flr w/private bdrm, bath &amp; kitchen(pls r...</td>\n",
       "      <td>Enjoy 500 s.f. top floor in 1899 brownstone, w...</td>\n",
       "      <td>Just the right mix of urban center and local n...</td>\n",
       "      <td>https://a0.muscache.com/pictures/e49999c2-9fd5...</td>\n",
       "      <td>4869</td>\n",
       "      <td>https://www.airbnb.com/users/show/4869</td>\n",
       "      <td>LisaRoxanne</td>\n",
       "      <td>...</td>\n",
       "      <td>0</td>\n",
       "      <td>0</td>\n",
       "      <td>5.03</td>\n",
       "      <td>41.886548</td>\n",
       "      <td>43.327513</td>\n",
       "      <td>42.936160</td>\n",
       "      <td>0</td>\n",
       "      <td>0.787390</td>\n",
       "      <td>0.322857</td>\n",
       "      <td>0.014694</td>\n",
       "    </tr>\n",
       "    <tr>\n",
       "      <th>2</th>\n",
       "      <td>5121</td>\n",
       "      <td>https://www.airbnb.com/rooms/5121</td>\n",
       "      <td>2021/9/2</td>\n",
       "      <td>BlissArtsSpace!</td>\n",
       "      <td>&lt;b&gt;The space&lt;/b&gt;&lt;br /&gt;HELLO EVERYONE AND THANK...</td>\n",
       "      <td>NaN</td>\n",
       "      <td>https://a0.muscache.com/pictures/2090980c-b68e...</td>\n",
       "      <td>7356</td>\n",
       "      <td>https://www.airbnb.com/users/show/7356</td>\n",
       "      <td>Garon</td>\n",
       "      <td>...</td>\n",
       "      <td>1</td>\n",
       "      <td>0</td>\n",
       "      <td>0.54</td>\n",
       "      <td>149.949516</td>\n",
       "      <td>125.157799</td>\n",
       "      <td>45.749798</td>\n",
       "      <td>1</td>\n",
       "      <td>0.875212</td>\n",
       "      <td>0.360245</td>\n",
       "      <td>0.011327</td>\n",
       "    </tr>\n",
       "    <tr>\n",
       "      <th>3</th>\n",
       "      <td>5136</td>\n",
       "      <td>https://www.airbnb.com/rooms/5136</td>\n",
       "      <td>2021/9/2</td>\n",
       "      <td>Spacious Brooklyn Duplex, Patio + Garden</td>\n",
       "      <td>We welcome you to stay in our lovely 2 br dupl...</td>\n",
       "      <td>NaN</td>\n",
       "      <td>https://a0.muscache.com/pictures/miso/Hosting-...</td>\n",
       "      <td>7378</td>\n",
       "      <td>https://www.airbnb.com/users/show/7378</td>\n",
       "      <td>Rebecca</td>\n",
       "      <td>...</td>\n",
       "      <td>0</td>\n",
       "      <td>0</td>\n",
       "      <td>0.02</td>\n",
       "      <td>214.687595</td>\n",
       "      <td>195.996314</td>\n",
       "      <td>179.204118</td>\n",
       "      <td>1</td>\n",
       "      <td>0.990100</td>\n",
       "      <td>0.266500</td>\n",
       "      <td>0.012500</td>\n",
       "    </tr>\n",
       "    <tr>\n",
       "      <th>4</th>\n",
       "      <td>5178</td>\n",
       "      <td>https://www.airbnb.com/rooms/5178</td>\n",
       "      <td>2021/9/2</td>\n",
       "      <td>Large Furnished Room Near B'way</td>\n",
       "      <td>Please don't expect the luxury here just a bas...</td>\n",
       "      <td>Theater district, many restaurants around here.</td>\n",
       "      <td>https://a0.muscache.com/pictures/12065/f070997...</td>\n",
       "      <td>8967</td>\n",
       "      <td>https://www.airbnb.com/users/show/8967</td>\n",
       "      <td>Shunichi</td>\n",
       "      <td>...</td>\n",
       "      <td>1</td>\n",
       "      <td>0</td>\n",
       "      <td>3.64</td>\n",
       "      <td>178.576734</td>\n",
       "      <td>138.710742</td>\n",
       "      <td>101.362392</td>\n",
       "      <td>1</td>\n",
       "      <td>0.728178</td>\n",
       "      <td>0.263077</td>\n",
       "      <td>0.024644</td>\n",
       "    </tr>\n",
       "  </tbody>\n",
       "</table>\n",
       "<p>5 rows × 80 columns</p>\n",
       "</div>"
      ],
      "text/plain": [
       "     id                        listing_url      date  \\\n",
       "0  2595  https://www.airbnb.com/rooms/2595  2021/9/2   \n",
       "1  3831  https://www.airbnb.com/rooms/3831  2021/9/2   \n",
       "2  5121  https://www.airbnb.com/rooms/5121  2021/9/2   \n",
       "3  5136  https://www.airbnb.com/rooms/5136  2021/9/2   \n",
       "4  5178  https://www.airbnb.com/rooms/5178  2021/9/2   \n",
       "\n",
       "                                                name  \\\n",
       "0                              Skylit Midtown Castle   \n",
       "1  Whole flr w/private bdrm, bath & kitchen(pls r...   \n",
       "2                                    BlissArtsSpace!   \n",
       "3           Spacious Brooklyn Duplex, Patio + Garden   \n",
       "4                    Large Furnished Room Near B'way   \n",
       "\n",
       "                                         description  \\\n",
       "0  Beautiful, spacious skylit studio in the heart...   \n",
       "1  Enjoy 500 s.f. top floor in 1899 brownstone, w...   \n",
       "2  <b>The space</b><br />HELLO EVERYONE AND THANK...   \n",
       "3  We welcome you to stay in our lovely 2 br dupl...   \n",
       "4  Please don't expect the luxury here just a bas...   \n",
       "\n",
       "                               neighborhood_overview  \\\n",
       "0  Centrally located in the heart of Manhattan ju...   \n",
       "1  Just the right mix of urban center and local n...   \n",
       "2                                                NaN   \n",
       "3                                                NaN   \n",
       "4    Theater district, many restaurants around here.   \n",
       "\n",
       "                                         picture_url  host_id  \\\n",
       "0  https://a0.muscache.com/pictures/f0813a11-40b2...     2845   \n",
       "1  https://a0.muscache.com/pictures/e49999c2-9fd5...     4869   \n",
       "2  https://a0.muscache.com/pictures/2090980c-b68e...     7356   \n",
       "3  https://a0.muscache.com/pictures/miso/Hosting-...     7378   \n",
       "4  https://a0.muscache.com/pictures/12065/f070997...     8967   \n",
       "\n",
       "                                 host_url    host_name  ...  \\\n",
       "0  https://www.airbnb.com/users/show/2845     Jennifer  ...   \n",
       "1  https://www.airbnb.com/users/show/4869  LisaRoxanne  ...   \n",
       "2  https://www.airbnb.com/users/show/7356        Garon  ...   \n",
       "3  https://www.airbnb.com/users/show/7378      Rebecca  ...   \n",
       "4  https://www.airbnb.com/users/show/8967     Shunichi  ...   \n",
       "\n",
       "  calculated_host_listings_count_private_rooms  \\\n",
       "0                                            0   \n",
       "1                                            0   \n",
       "2                                            1   \n",
       "3                                            0   \n",
       "4                                            1   \n",
       "\n",
       "  calculated_host_listings_count_shared_rooms reviews_per_month           R  \\\n",
       "0                                           0              0.33  145.469269   \n",
       "1                                           0              5.03   41.886548   \n",
       "2                                           0              0.54  149.949516   \n",
       "3                                           0              0.02  214.687595   \n",
       "4                                           0              3.64  178.576734   \n",
       "\n",
       "            G           B warm  compound positivity negativity  \n",
       "0  118.032120   94.797308    1  0.784377   0.321614   0.018432  \n",
       "1   43.327513   42.936160    0  0.787390   0.322857   0.014694  \n",
       "2  125.157799   45.749798    1  0.875212   0.360245   0.011327  \n",
       "3  195.996314  179.204118    1  0.990100   0.266500   0.012500  \n",
       "4  138.710742  101.362392    1  0.728178   0.263077   0.024644  \n",
       "\n",
       "[5 rows x 80 columns]"
      ]
     },
     "execution_count": 96,
     "metadata": {},
     "output_type": "execute_result"
    }
   ],
   "source": [
    "#remove wrong lines whose ids are not digits\n",
    "dfreview1 = dfreview[dfreview['id'].apply(lambda x: str(x).isdigit())]\n",
    "#summarize all the reviews for each listing\n",
    "dfreviewOverall = dfreview1.groupby(['id'])['compound'].mean().reset_index()\n",
    "dfreviewP = dfreview1.groupby(['id'])['positivity'].mean().reset_index()\n",
    "dfreviewN = dfreview1.groupby(['id'])['negativity'].mean().reset_index()\n",
    "#make the id numeric\n",
    "dfreviewOverall[\"id\"] = pd.to_numeric(dfreviewOverall[\"id\"])\n",
    "dfreviewP[\"id\"] = pd.to_numeric(dfreviewP[\"id\"])\n",
    "dfreviewN[\"id\"] = pd.to_numeric(dfreviewN[\"id\"])\n",
    "#merge all of these summary dfs\n",
    "dfmergeReview = pd.merge(dfNew,dfreviewOverall,on=['id'],how='left')\n",
    "dfmergeReview = pd.merge(dfmergeReview,dfreviewP,on=['id'],how='left')\n",
    "dfmergeReview = pd.merge(dfmergeReview,dfreviewN,on=['id'],how='left')\n",
    "\n",
    "dfmergeReview.head()"
   ]
  },
  {
   "cell_type": "code",
   "execution_count": 100,
   "metadata": {
    "ExecuteTime": {
     "end_time": "2021-11-24T05:01:02.238567Z",
     "start_time": "2021-11-24T05:01:02.185010Z"
    }
   },
   "outputs": [],
   "source": [
    "# Remove the rows where the houses do not have a single reivew and rating\n",
    "dfNew3 = dfmergeReview[dfmergeReview.compound.notna()]\n",
    "dfNew3 = dfNew3[dfNew3['review_scores_rating'].notna()]"
   ]
  },
  {
   "cell_type": "code",
   "execution_count": 113,
   "metadata": {
    "ExecuteTime": {
     "end_time": "2021-11-24T05:28:05.327906Z",
     "start_time": "2021-11-24T05:28:05.304105Z"
    }
   },
   "outputs": [],
   "source": [
    "#remove '$'\n",
    "dfNew3['price1'] = dfNew3['price'].str.extract('(\\d+)', expand=False)\n",
    "dfNew3['price1'] = dfNew3['price1'].astype(float)"
   ]
  },
  {
   "cell_type": "markdown",
   "metadata": {},
   "source": [
    "### Linear Regression"
   ]
  },
  {
   "cell_type": "markdown",
   "metadata": {},
   "source": [
    "In this and subsequent subsections, we would run regression analysis using marketing domain knowledge. We would firstly select important features, and then employ them for our regression analysis. Essentials that we select out include picture warm color tone (1 or 0), the overall review sentiment, number of reviews indicating past number of evaluations, star rating, minimum nights to stay for a booking, the number of capacity for accomodates, locations."
   ]
  },
  {
   "cell_type": "code",
   "execution_count": 136,
   "metadata": {
    "ExecuteTime": {
     "end_time": "2021-11-24T05:47:13.436100Z",
     "start_time": "2021-11-24T05:47:13.406034Z"
    }
   },
   "outputs": [
    {
     "data": {
      "text/html": [
       "<div>\n",
       "<style scoped>\n",
       "    .dataframe tbody tr th:only-of-type {\n",
       "        vertical-align: middle;\n",
       "    }\n",
       "\n",
       "    .dataframe tbody tr th {\n",
       "        vertical-align: top;\n",
       "    }\n",
       "\n",
       "    .dataframe thead th {\n",
       "        text-align: right;\n",
       "    }\n",
       "</style>\n",
       "<table border=\"1\" class=\"dataframe\">\n",
       "  <thead>\n",
       "    <tr style=\"text-align: right;\">\n",
       "      <th></th>\n",
       "      <th>price1</th>\n",
       "      <th>warm</th>\n",
       "      <th>compound</th>\n",
       "      <th>number_of_reviews</th>\n",
       "      <th>review_scores_rating</th>\n",
       "      <th>minimum_nights</th>\n",
       "      <th>accommodates</th>\n",
       "      <th>latitude</th>\n",
       "      <th>longitude</th>\n",
       "    </tr>\n",
       "  </thead>\n",
       "  <tbody>\n",
       "    <tr>\n",
       "      <th>0</th>\n",
       "      <td>150.0</td>\n",
       "      <td>1</td>\n",
       "      <td>0.784377</td>\n",
       "      <td>48</td>\n",
       "      <td>4.70</td>\n",
       "      <td>30</td>\n",
       "      <td>1</td>\n",
       "      <td>40.75356</td>\n",
       "      <td>-73.98559</td>\n",
       "    </tr>\n",
       "    <tr>\n",
       "      <th>1</th>\n",
       "      <td>76.0</td>\n",
       "      <td>0</td>\n",
       "      <td>0.787390</td>\n",
       "      <td>408</td>\n",
       "      <td>4.46</td>\n",
       "      <td>1</td>\n",
       "      <td>3</td>\n",
       "      <td>40.68494</td>\n",
       "      <td>-73.95765</td>\n",
       "    </tr>\n",
       "    <tr>\n",
       "      <th>2</th>\n",
       "      <td>60.0</td>\n",
       "      <td>1</td>\n",
       "      <td>0.875212</td>\n",
       "      <td>50</td>\n",
       "      <td>4.52</td>\n",
       "      <td>30</td>\n",
       "      <td>2</td>\n",
       "      <td>40.68535</td>\n",
       "      <td>-73.95512</td>\n",
       "    </tr>\n",
       "    <tr>\n",
       "      <th>3</th>\n",
       "      <td>275.0</td>\n",
       "      <td>1</td>\n",
       "      <td>0.990100</td>\n",
       "      <td>2</td>\n",
       "      <td>5.00</td>\n",
       "      <td>5</td>\n",
       "      <td>4</td>\n",
       "      <td>40.66265</td>\n",
       "      <td>-73.99454</td>\n",
       "    </tr>\n",
       "    <tr>\n",
       "      <th>4</th>\n",
       "      <td>68.0</td>\n",
       "      <td>1</td>\n",
       "      <td>0.728178</td>\n",
       "      <td>490</td>\n",
       "      <td>4.21</td>\n",
       "      <td>2</td>\n",
       "      <td>2</td>\n",
       "      <td>40.76457</td>\n",
       "      <td>-73.98317</td>\n",
       "    </tr>\n",
       "    <tr>\n",
       "      <th>...</th>\n",
       "      <td>...</td>\n",
       "      <td>...</td>\n",
       "      <td>...</td>\n",
       "      <td>...</td>\n",
       "      <td>...</td>\n",
       "      <td>...</td>\n",
       "      <td>...</td>\n",
       "      <td>...</td>\n",
       "      <td>...</td>\n",
       "    </tr>\n",
       "    <tr>\n",
       "      <th>9598</th>\n",
       "      <td>105.0</td>\n",
       "      <td>1</td>\n",
       "      <td>0.799383</td>\n",
       "      <td>6</td>\n",
       "      <td>4.00</td>\n",
       "      <td>30</td>\n",
       "      <td>2</td>\n",
       "      <td>40.74697</td>\n",
       "      <td>-74.00327</td>\n",
       "    </tr>\n",
       "    <tr>\n",
       "      <th>9599</th>\n",
       "      <td>50.0</td>\n",
       "      <td>1</td>\n",
       "      <td>0.634957</td>\n",
       "      <td>8</td>\n",
       "      <td>4.00</td>\n",
       "      <td>30</td>\n",
       "      <td>2</td>\n",
       "      <td>40.72658</td>\n",
       "      <td>-73.97770</td>\n",
       "    </tr>\n",
       "    <tr>\n",
       "      <th>9600</th>\n",
       "      <td>160.0</td>\n",
       "      <td>1</td>\n",
       "      <td>0.862412</td>\n",
       "      <td>84</td>\n",
       "      <td>4.89</td>\n",
       "      <td>7</td>\n",
       "      <td>3</td>\n",
       "      <td>40.79614</td>\n",
       "      <td>-73.94867</td>\n",
       "    </tr>\n",
       "    <tr>\n",
       "      <th>9601</th>\n",
       "      <td>60.0</td>\n",
       "      <td>1</td>\n",
       "      <td>0.931175</td>\n",
       "      <td>4</td>\n",
       "      <td>5.00</td>\n",
       "      <td>1</td>\n",
       "      <td>3</td>\n",
       "      <td>40.72564</td>\n",
       "      <td>-73.94950</td>\n",
       "    </tr>\n",
       "    <tr>\n",
       "      <th>9605</th>\n",
       "      <td>185.0</td>\n",
       "      <td>1</td>\n",
       "      <td>0.875679</td>\n",
       "      <td>151</td>\n",
       "      <td>4.93</td>\n",
       "      <td>2</td>\n",
       "      <td>2</td>\n",
       "      <td>40.70413</td>\n",
       "      <td>-73.93033</td>\n",
       "    </tr>\n",
       "  </tbody>\n",
       "</table>\n",
       "<p>7282 rows × 9 columns</p>\n",
       "</div>"
      ],
      "text/plain": [
       "      price1  warm  compound  number_of_reviews  review_scores_rating  \\\n",
       "0      150.0     1  0.784377                 48                  4.70   \n",
       "1       76.0     0  0.787390                408                  4.46   \n",
       "2       60.0     1  0.875212                 50                  4.52   \n",
       "3      275.0     1  0.990100                  2                  5.00   \n",
       "4       68.0     1  0.728178                490                  4.21   \n",
       "...      ...   ...       ...                ...                   ...   \n",
       "9598   105.0     1  0.799383                  6                  4.00   \n",
       "9599    50.0     1  0.634957                  8                  4.00   \n",
       "9600   160.0     1  0.862412                 84                  4.89   \n",
       "9601    60.0     1  0.931175                  4                  5.00   \n",
       "9605   185.0     1  0.875679                151                  4.93   \n",
       "\n",
       "      minimum_nights  accommodates  latitude  longitude  \n",
       "0                 30             1  40.75356  -73.98559  \n",
       "1                  1             3  40.68494  -73.95765  \n",
       "2                 30             2  40.68535  -73.95512  \n",
       "3                  5             4  40.66265  -73.99454  \n",
       "4                  2             2  40.76457  -73.98317  \n",
       "...              ...           ...       ...        ...  \n",
       "9598              30             2  40.74697  -74.00327  \n",
       "9599              30             2  40.72658  -73.97770  \n",
       "9600               7             3  40.79614  -73.94867  \n",
       "9601               1             3  40.72564  -73.94950  \n",
       "9605               2             2  40.70413  -73.93033  \n",
       "\n",
       "[7282 rows x 9 columns]"
      ]
     },
     "execution_count": 136,
     "metadata": {},
     "output_type": "execute_result"
    }
   ],
   "source": [
    "dfML = dfNew3[['price1','warm','compound','number_of_reviews','review_scores_rating','minimum_nights','accommodates','latitude','longitude']]\n",
    "dfML"
   ]
  },
  {
   "cell_type": "code",
   "execution_count": 137,
   "metadata": {
    "ExecuteTime": {
     "end_time": "2021-11-24T05:47:31.909652Z",
     "start_time": "2021-11-24T05:47:31.899828Z"
    }
   },
   "outputs": [],
   "source": [
    "dfMLvalue = dfML.values\n",
    "X = dfMLvalue[:,(1,2,3,4,5,6,7,8)]\n",
    "Y = dfMLvalue[:,0] \n",
    "Y = Y.astype('int')"
   ]
  },
  {
   "cell_type": "code",
   "execution_count": 126,
   "metadata": {
    "ExecuteTime": {
     "end_time": "2021-11-24T05:37:04.492286Z",
     "start_time": "2021-11-24T05:37:04.473111Z"
    }
   },
   "outputs": [
    {
     "name": "stdout",
     "output_type": "stream",
     "text": [
      "(5097, 8)\n",
      "(2185, 8)\n"
     ]
    }
   ],
   "source": [
    "trainX, testX, trainY, testY = \\\n",
    "    model_selection.train_test_split(X, Y,\n",
    "    train_size=0.7, test_size=0.3, random_state=4487)\n",
    "print(trainX.shape)\n",
    "print(testX.shape)"
   ]
  },
  {
   "cell_type": "code",
   "execution_count": 127,
   "metadata": {
    "ExecuteTime": {
     "end_time": "2021-11-24T05:37:13.540375Z",
     "start_time": "2021-11-24T05:37:13.525342Z"
    }
   },
   "outputs": [
    {
     "data": {
      "text/plain": [
       "LinearRegression()"
      ]
     },
     "execution_count": 127,
     "metadata": {},
     "output_type": "execute_result"
    }
   ],
   "source": [
    "from sklearn import *\n",
    "ols = linear_model.LinearRegression()\n",
    "ols.fit(trainX,trainY)"
   ]
  },
  {
   "cell_type": "code",
   "execution_count": 128,
   "metadata": {
    "ExecuteTime": {
     "end_time": "2021-11-24T05:37:22.744516Z",
     "start_time": "2021-11-24T05:37:22.657439Z"
    }
   },
   "outputs": [
    {
     "data": {
      "text/plain": [
       "0.3164353768209377"
      ]
     },
     "execution_count": 128,
     "metadata": {},
     "output_type": "execute_result"
    }
   ],
   "source": [
    "ols.score(trainX,trainY)"
   ]
  },
  {
   "cell_type": "code",
   "execution_count": 129,
   "metadata": {
    "ExecuteTime": {
     "end_time": "2021-11-24T05:37:30.847468Z",
     "start_time": "2021-11-24T05:37:30.750912Z"
    }
   },
   "outputs": [
    {
     "data": {
      "text/plain": [
       "array([ 94.91705275,  88.54707943, 117.57577703, ..., 229.41623719,\n",
       "        76.6384306 , 281.23694499])"
      ]
     },
     "execution_count": 129,
     "metadata": {},
     "output_type": "execute_result"
    }
   ],
   "source": [
    "ols.predict(testX)"
   ]
  },
  {
   "cell_type": "code",
   "execution_count": 125,
   "metadata": {
    "ExecuteTime": {
     "end_time": "2021-11-24T05:29:49.942548Z",
     "start_time": "2021-11-24T05:29:49.922998Z"
    }
   },
   "outputs": [],
   "source": [
    "def eval_predict(trueY, predY):\n",
    "    MAE = metrics.mean_absolute_error(trueY, predY)\n",
    "    RMSE = sqrt(metrics.mean_squared_error(trueY, predY))\n",
    "    return RMSE, MAE\n",
    "\n",
    "# function to make a scatter plot\n",
    "def plot_scatter(testY, predY, titlestr):\n",
    "    plt.scatter(testY, predY, s=1)\n",
    "    plt.plot([min(testY),max(testY)], [min(testY),max(testY)], 'r-')\n",
    "    plt.xlabel('true')\n",
    "    plt.ylabel('prediction')\n",
    "    r1,r2 = eval_predict(testY, predY)\n",
    "    plt.title(titlestr + \"\\n(RMSE={:.3f}; MAE={:.3f})\".format(r1,r2))\n",
    "    plt.grid(True)"
   ]
  },
  {
   "cell_type": "code",
   "execution_count": 134,
   "metadata": {
    "ExecuteTime": {
     "end_time": "2021-11-24T05:40:44.941531Z",
     "start_time": "2021-11-24T05:40:44.809398Z"
    }
   },
   "outputs": [
    {
     "name": "stdout",
     "output_type": "stream",
     "text": [
      "train error: (RMSE,MAE)= (87.73313282484548, 54.95473903630159)\n",
      "test error: (RMSE,MAE)= (83.11870479116455, 52.90153210330531)\n"
     ]
    }
   ],
   "source": [
    "from numpy import *\n",
    "trainerr={}; testerr={}\n",
    "\n",
    "trainerr['err'] = eval_predict(trainY, ols.predict(trainX))\n",
    "testerr['err']  = eval_predict(testY, ols.predict(testX))\n",
    "\n",
    "print(\"train error: (RMSE,MAE)=\", trainerr['err'] )\n",
    "print(\"test error: (RMSE,MAE)=\", testerr['err'] )"
   ]
  },
  {
   "cell_type": "code",
   "execution_count": 135,
   "metadata": {
    "ExecuteTime": {
     "end_time": "2021-11-24T05:41:15.471772Z",
     "start_time": "2021-11-24T05:41:15.252424Z"
    }
   },
   "outputs": [
    {
     "data": {
      "image/png": "[encoded data removed]",
      "text/plain": [
       "<Figure size 432x288 with 1 Axes>"
      ]
     },
     "metadata": {
      "needs_background": "light"
     },
     "output_type": "display_data"
    }
   ],
   "source": [
    "plot_scatter(testY, ols.predict(testX), 'Test Error')"
   ]
  },
  {
   "cell_type": "markdown",
   "metadata": {},
   "source": [
    "### Random Forest"
   ]
  },
  {
   "cell_type": "code",
   "execution_count": 138,
   "metadata": {
    "ExecuteTime": {
     "end_time": "2021-11-24T05:48:23.181655Z",
     "start_time": "2021-11-24T05:48:22.348362Z"
    }
   },
   "outputs": [
    {
     "data": {
      "text/plain": [
       "RandomForestRegressor(max_depth=5, random_state=0)"
      ]
     },
     "execution_count": 138,
     "metadata": {},
     "output_type": "execute_result"
    }
   ],
   "source": [
    "### Simple RF\n",
    "from sklearn.ensemble import RandomForestRegressor\n",
    "regr = RandomForestRegressor(max_depth=5, random_state=0)\n",
    "regr.fit(trainX, trainY)"
   ]
  },
  {
   "cell_type": "code",
   "execution_count": 139,
   "metadata": {
    "ExecuteTime": {
     "end_time": "2021-11-24T05:48:58.751096Z",
     "start_time": "2021-11-24T05:48:58.535871Z"
    }
   },
   "outputs": [
    {
     "data": {
      "image/png": "[encoded data removed]",
      "text/plain": [
       "<Figure size 432x288 with 1 Axes>"
      ]
     },
     "metadata": {
      "needs_background": "light"
     },
     "output_type": "display_data"
    }
   ],
   "source": [
    "plot_scatter(testY, regr.predict(testX), 'A Simple Random Forest of Test Sets')"
   ]
  },
  {
   "cell_type": "markdown",
   "metadata": {},
   "source": [
    "We can see that the models can predict the price well, demonstrating that our models can serve as good ones for Airbnb hosts to decide their listing price."
   ]
  },
  {
   "cell_type": "code",
   "execution_count": null,
   "metadata": {},
   "outputs": [],
   "source": []
  }
 ],
 "metadata": {
  "kernelspec": {
   "display_name": "Python 3",
   "language": "python",
   "name": "python3"
  },
  "language_info": {
   "codemirror_mode": {
    "name": "ipython",
    "version": 3
   },
   "file_extension": ".py",
   "mimetype": "text/x-python",
   "name": "python",
   "nbconvert_exporter": "python",
   "pygments_lexer": "ipython3",
   "version": "3.8.5"
  },
  "toc": {
   "base_numbering": 1,
   "nav_menu": {},
   "number_sections": true,
   "sideBar": true,
   "skip_h1_title": false,
   "title_cell": "Table of Contents",
   "title_sidebar": "Contents",
   "toc_cell": false,
   "toc_position": {},
   "toc_section_display": true,
   "toc_window_display": true
  }
 },
 "nbformat": 4,
 "nbformat_minor": 4
}
